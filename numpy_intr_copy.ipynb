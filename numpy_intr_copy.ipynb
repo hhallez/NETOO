{
 "cells": [
  {
   "cell_type": "markdown",
   "metadata": {
    "colab_type": "text",
    "id": "PsZ7Pio24hVr"
   },
   "source": [
    "This document gives a very short overview of Numpy, Matplotlib and Pandas. Three packages in Python which are used often for data science.  This document is by no means complete.  On the contrary, it gives you a very small tip of the iceberg of the possibilities of data processing using Python.  This is meant as a teaser and should put you to self-explore these packages when you need them.  "
   ]
  },
  {
   "cell_type": "markdown",
   "metadata": {
    "colab_type": "text",
    "id": "qE-pLwWwN_hU"
   },
   "source": [
    "# Introduction to Numpy\n",
    "\n"
   ]
  },
  {
   "cell_type": "markdown",
   "metadata": {
    "colab_type": "text",
    "id": "yWjj6AxRXERv"
   },
   "source": [
    "## What is Numpy?\n",
    "\n",
    "NumPy is the fundamental package for scientific computing in Python. NumPy is used in many other packages in python even though you may not see it explicitly running in your code.\n",
    "\n",
    "It is a python library that provides a multidimensional array object, various derived objects (such as masked arrays and matrices), and an assortment of routines for fast operations on arrays, including mathematical, logical, shape manipulation, sorting, selecting, I/O, discrete Fourier transforms, basic linear algebra, basic statistical operations, random simulation and much more.\n",
    "\n",
    "You can access the functionality of the numpy library using\n",
    "```\n",
    "import numpy\n",
    "```\n",
    "\n",
    "Usually we make an alias in order to write the library shorter. Otherwise we need to use ```numpy.somefunction``` to use it.\n",
    "\n",
    "```\n",
    "import numpy as np\n",
    "```"
   ]
  },
  {
   "cell_type": "markdown",
   "metadata": {
    "colab_type": "text",
    "id": "H-JmTtu6O4Og"
   },
   "source": [
    "This statement will allow us to access NumPy objects using ```np.X``` instead of ```numpy.X```. It is also possible to import NumPy directly into the current namespace so that we don't have to use dot notation at all, but rather simply call the functions as if they were built-in:\n",
    "```\n",
    "from numpy import *\n",
    "```\n",
    "\n",
    "However, this strategy is usually frowned upon in Python programming because it starts to remove some of the nice organization that modules provide. For the remainder of this tutorial, we will assume that the import numpy as np has been used.\n",
    "\n",
    "Let's import it the good way."
   ]
  },
  {
   "cell_type": "code",
   "execution_count": 1,
   "metadata": {
    "colab": {},
    "colab_type": "code",
    "id": "bv2Ezp4-Oymy"
   },
   "outputs": [],
   "source": [
    "import numpy as np"
   ]
  },
  {
   "cell_type": "markdown",
   "metadata": {
    "colab_type": "text",
    "id": "wc38n3n3P99U"
   },
   "source": [
    "# Arrays\n",
    "## What are Arrays?\n",
    "\n",
    "The central feature of NumPy is the *array* object class. Arrays are similar to lists in Python, except that every element of an array must be of the same type, typically a numeric type like ```float``` or `int`. Arrays make operations with large amounts of numeric data very fast and are generally much more efficient than lists.\n",
    "\n"
   ]
  },
  {
   "cell_type": "markdown",
   "metadata": {
    "colab_type": "text",
    "id": "l2bn36GkACmg"
   },
   "source": [
    "## Creating Arrays\n",
    "An array can be created from lists:\n",
    "````\n",
    ">>> a = np.array([1, 4, 5, 8], float) \n",
    ">>> a \n",
    ">>> type(a)\n",
    "````"
   ]
  },
  {
   "cell_type": "code",
   "execution_count": 2,
   "metadata": {
    "colab": {
     "base_uri": "https://localhost:8080/",
     "height": 34
    },
    "colab_type": "code",
    "id": "tZnmWgxKPeHi",
    "outputId": "75426af5-b22c-4ca0-b726-8442031d7a00"
   },
   "outputs": [
    {
     "data": {
      "text/plain": [
       "array([1., 4., 5., 8.])"
      ]
     },
     "execution_count": 2,
     "metadata": {},
     "output_type": "execute_result"
    }
   ],
   "source": [
    "a = np.array([1, 4, 5, 8], float)\n",
    "a\n"
   ]
  },
  {
   "cell_type": "code",
   "execution_count": 3,
   "metadata": {
    "colab": {
     "base_uri": "https://localhost:8080/",
     "height": 34
    },
    "colab_type": "code",
    "id": "vRqC-SxBSqrG",
    "outputId": "1b8884a3-ac13-4670-bf34-1e3ac5276ae8"
   },
   "outputs": [
    {
     "data": {
      "text/plain": [
       "numpy.ndarray"
      ]
     },
     "execution_count": 3,
     "metadata": {},
     "output_type": "execute_result"
    }
   ],
   "source": [
    "type(a)"
   ]
  },
  {
   "cell_type": "code",
   "execution_count": 4,
   "metadata": {
    "colab": {
     "base_uri": "https://localhost:8080/",
     "height": 34
    },
    "colab_type": "code",
    "id": "NkXzQPqgWe3k",
    "outputId": "f939d1d9-e1c4-423c-f505-531137c90f8c"
   },
   "outputs": [
    {
     "data": {
      "text/plain": [
       "array([ 2,  3,  5,  8, 13])"
      ]
     },
     "execution_count": 4,
     "metadata": {},
     "output_type": "execute_result"
    }
   ],
   "source": [
    "b = np.array([2,3,5,8,13],int)\n",
    "b"
   ]
  },
  {
   "cell_type": "code",
   "execution_count": 5,
   "metadata": {
    "colab": {
     "base_uri": "https://localhost:8080/",
     "height": 68
    },
    "colab_type": "code",
    "id": "9-YmMzitWp8V",
    "outputId": "e87605f6-115a-4bea-ab6e-08d2834c3ce4"
   },
   "outputs": [
    {
     "data": {
      "text/plain": [
       "array([ 0,  2,  4,  6,  8, 10, 12, 14, 16, 18, 20, 22, 24, 26, 28, 30, 32,\n",
       "       34, 36, 38, 40, 42, 44, 46, 48, 50, 52, 54, 56, 58, 60, 62, 64, 66,\n",
       "       68, 70, 72, 74, 76, 78, 80, 82, 84, 86, 88, 90, 92, 94, 96, 98])"
      ]
     },
     "execution_count": 5,
     "metadata": {},
     "output_type": "execute_result"
    }
   ],
   "source": [
    "c = np.array([ x for x in range(0,100) if x%2 == 0],int)\n",
    "c"
   ]
  },
  {
   "cell_type": "markdown",
   "metadata": {
    "colab_type": "text",
    "id": "Hqb_ht87SoY-"
   },
   "source": [
    "Here, the function `array` takes two arguments: the list to be converted into the array and the type of each member of the list. Array elements are accessed, sliced, and manipulated just like lists:"
   ]
  },
  {
   "cell_type": "code",
   "execution_count": 6,
   "metadata": {
    "colab": {
     "base_uri": "https://localhost:8080/",
     "height": 34
    },
    "colab_type": "code",
    "id": "K7ZAsZviUBc3",
    "outputId": "3b86df25-6774-460f-baf0-a5843f6a2840"
   },
   "outputs": [
    {
     "data": {
      "text/plain": [
       "array([1., 4.])"
      ]
     },
     "execution_count": 6,
     "metadata": {},
     "output_type": "execute_result"
    }
   ],
   "source": [
    "a[:2]"
   ]
  },
  {
   "cell_type": "code",
   "execution_count": 7,
   "metadata": {
    "colab": {
     "base_uri": "https://localhost:8080/",
     "height": 34
    },
    "colab_type": "code",
    "id": "bDc60Qd9UbPF",
    "outputId": "4b695490-4096-48d1-c563-0741f8a24434"
   },
   "outputs": [
    {
     "data": {
      "text/plain": [
       "8.0"
      ]
     },
     "execution_count": 7,
     "metadata": {},
     "output_type": "execute_result"
    }
   ],
   "source": [
    "a[3]"
   ]
  },
  {
   "cell_type": "code",
   "execution_count": 8,
   "metadata": {
    "colab": {},
    "colab_type": "code",
    "id": "ivpY0ZKRUpgR"
   },
   "outputs": [],
   "source": [
    "a[0] = 5.0"
   ]
  },
  {
   "cell_type": "markdown",
   "metadata": {
    "colab_type": "text",
    "id": "5k04c5CvUops"
   },
   "source": [
    "Arrays can be multidimensional. Unlike lists, different axes are accessed using commas inside bracket notation. Here is an example with a two-dimensional array (e.g., a matrix):"
   ]
  },
  {
   "cell_type": "code",
   "execution_count": 9,
   "metadata": {
    "colab": {
     "base_uri": "https://localhost:8080/",
     "height": 51
    },
    "colab_type": "code",
    "id": "FuQ5pT-PUzs6",
    "outputId": "25c19add-6015-4090-c053-0eab9c5bd864"
   },
   "outputs": [
    {
     "data": {
      "text/plain": [
       "array([[1, 2, 3],\n",
       "       [4, 5, 6]])"
      ]
     },
     "execution_count": 9,
     "metadata": {},
     "output_type": "execute_result"
    }
   ],
   "source": [
    "a = np.array([[1,2,3],[4,5,6]],int)\n",
    "a"
   ]
  },
  {
   "cell_type": "code",
   "execution_count": 10,
   "metadata": {
    "colab": {
     "base_uri": "https://localhost:8080/",
     "height": 34
    },
    "colab_type": "code",
    "id": "xO06A50WZb3j",
    "outputId": "383f7391-334e-4aa6-bac1-781c0f614677"
   },
   "outputs": [
    {
     "data": {
      "text/plain": [
       "1"
      ]
     },
     "execution_count": 10,
     "metadata": {},
     "output_type": "execute_result"
    }
   ],
   "source": [
    "a[0,0]"
   ]
  },
  {
   "cell_type": "code",
   "execution_count": 11,
   "metadata": {
    "colab": {
     "base_uri": "https://localhost:8080/",
     "height": 34
    },
    "colab_type": "code",
    "id": "bn6RRublZeL-",
    "outputId": "1b7bbb65-cf15-469d-9617-05d3fcf1b74c"
   },
   "outputs": [
    {
     "data": {
      "text/plain": [
       "6"
      ]
     },
     "execution_count": 11,
     "metadata": {},
     "output_type": "execute_result"
    }
   ],
   "source": [
    "a[1,2]"
   ]
  },
  {
   "cell_type": "markdown",
   "metadata": {
    "colab_type": "text",
    "id": "v3YCNAVraJH0"
   },
   "source": [
    "Array slicing works with multiple dimensions in the same way as usual, applying each slice specification as a filter to a specified dimension. Use of a single \":\" in a dimension indicates the use of everything along that dimension:"
   ]
  },
  {
   "cell_type": "code",
   "execution_count": 12,
   "metadata": {
    "colab": {
     "base_uri": "https://localhost:8080/",
     "height": 102
    },
    "colab_type": "code",
    "id": "UNlLWEZSaOtW",
    "outputId": "75754b5f-b71f-41bc-dc4c-bc062db588f8"
   },
   "outputs": [
    {
     "name": "stdout",
     "output_type": "stream",
     "text": [
      "[[1. 2. 3.]\n",
      " [4. 5. 6.]]\n",
      "[4. 5. 6.]\n",
      "[3. 6.]\n",
      "[[5. 6.]]\n"
     ]
    }
   ],
   "source": [
    "a = np.array([[1, 2, 3], [4, 5, 6]], float) \n",
    "print(a)\n",
    "print(a[1,:]) # this selects the second row\n",
    "print(a[:,2]) # this selects the last column\n",
    "print(a[-1:,-2:]) "
   ]
  },
  {
   "cell_type": "markdown",
   "metadata": {
    "colab_type": "text",
    "id": "5ljFgv15bFAK"
   },
   "source": [
    "Each numpy array contains an attribute called `shape`. Shape is a tuple which tells you how many elements you have per axis. For example (5, 6, 8) means 5 elements per axis 0, 6 elements per axis 1 and 8 elements per axis 2. Usually you will have only one or two axes."
   ]
  },
  {
   "cell_type": "code",
   "execution_count": 13,
   "metadata": {
    "colab": {
     "base_uri": "https://localhost:8080/",
     "height": 51
    },
    "colab_type": "code",
    "id": "LB7BDs4CbJ5B",
    "outputId": "79bc0f01-8380-459a-bcab-ca04605091ae"
   },
   "outputs": [
    {
     "name": "stdout",
     "output_type": "stream",
     "text": [
      "(2, 3)\n",
      "(50,)\n"
     ]
    }
   ],
   "source": [
    "print(a.shape)\n",
    "print(c.shape)"
   ]
  },
  {
   "cell_type": "markdown",
   "metadata": {
    "colab_type": "text",
    "id": "0YkfNRsobRwO"
   },
   "source": [
    "The `dtype` property tells you what type of values are stored by the array:\n",
    "\n"
   ]
  },
  {
   "cell_type": "code",
   "execution_count": 14,
   "metadata": {
    "colab": {
     "base_uri": "https://localhost:8080/",
     "height": 34
    },
    "colab_type": "code",
    "id": "ox756SnVbLvk",
    "outputId": "41fddd5c-142f-4fe6-f5da-99de82bdc22c"
   },
   "outputs": [
    {
     "data": {
      "text/plain": [
       "dtype('float64')"
      ]
     },
     "execution_count": 14,
     "metadata": {},
     "output_type": "execute_result"
    }
   ],
   "source": [
    "a.dtype"
   ]
  },
  {
   "cell_type": "markdown",
   "metadata": {
    "colab_type": "text",
    "id": "pX7DWCmfvLUF"
   },
   "source": [
    "Here, `float64` is a numeric type that NumPy uses to store double-precision (8-byte) real numbers, similar to `float` in Python.\n",
    "Wen used with an array, the `len` functions returns the length of the first axis:"
   ]
  },
  {
   "cell_type": "code",
   "execution_count": 15,
   "metadata": {
    "colab": {
     "base_uri": "https://localhost:8080/",
     "height": 34
    },
    "colab_type": "code",
    "id": "0BQZOL04veok",
    "outputId": "1c213986-5493-4735-d69b-b25af97f2132"
   },
   "outputs": [
    {
     "data": {
      "text/plain": [
       "2"
      ]
     },
     "execution_count": 15,
     "metadata": {},
     "output_type": "execute_result"
    }
   ],
   "source": [
    "a = np.array([[1,2,3], [4,5,6]], float)\n",
    "len(a)"
   ]
  },
  {
   "cell_type": "markdown",
   "metadata": {
    "colab_type": "text",
    "id": "L3e1tXisvqcR"
   },
   "source": [
    "The `in` statement can be used to test if values are present in an array: "
   ]
  },
  {
   "cell_type": "code",
   "execution_count": 16,
   "metadata": {
    "colab": {
     "base_uri": "https://localhost:8080/",
     "height": 51
    },
    "colab_type": "code",
    "id": "Ft-2XA7ev3B3",
    "outputId": "e9d3d742-e97b-46f5-c1d3-3f89d02f7932"
   },
   "outputs": [
    {
     "name": "stdout",
     "output_type": "stream",
     "text": [
      "True\n",
      "False\n"
     ]
    }
   ],
   "source": [
    "print(2 in a)\n",
    "print(0 in a)"
   ]
  },
  {
   "cell_type": "markdown",
   "metadata": {
    "colab_type": "text",
    "id": "MkKCYOTUwAld"
   },
   "source": [
    "Arrays can be reshaped using tuples that specify new dimensions.  In the following example, we turn a ten-element one-dimensional array into a two-dimensional one whose first axis has five elements and whose second axis has two elements:"
   ]
  },
  {
   "cell_type": "code",
   "execution_count": 17,
   "metadata": {
    "colab": {
     "base_uri": "https://localhost:8080/",
     "height": 153
    },
    "colab_type": "code",
    "id": "J1auT5VUwSGY",
    "outputId": "47b8c226-0f18-471e-82c2-74dc1e95cb67"
   },
   "outputs": [
    {
     "name": "stdout",
     "output_type": "stream",
     "text": [
      "[0. 1. 2. 3. 4. 5. 6. 7. 8. 9.]\n",
      "after reshape\n",
      "[[0. 1.]\n",
      " [2. 3.]\n",
      " [4. 5.]\n",
      " [6. 7.]\n",
      " [8. 9.]]\n",
      "(5, 2)\n"
     ]
    }
   ],
   "source": [
    "a = np.array(range(10), float)\n",
    "print(a)\n",
    "a = a.reshape((5,2))\n",
    "print(\"after reshape\")\n",
    "print(a)\n",
    "print(a.shape)"
   ]
  },
  {
   "cell_type": "markdown",
   "metadata": {
    "colab_type": "text",
    "id": "lThc8wzAwnog"
   },
   "source": [
    "Notice that the `reshape` function creates a new array and does not itself modify the original array.\n",
    "\n",
    "Keep in mind that Python's name-binding approach still applies to arrays. The `copy` function can be used to create a new, separate copy of an array in memory in needed:"
   ]
  },
  {
   "cell_type": "code",
   "execution_count": 18,
   "metadata": {
    "colab": {
     "base_uri": "https://localhost:8080/",
     "height": 68
    },
    "colab_type": "code",
    "id": "c4mQTV25w4zH",
    "outputId": "34b4548b-480b-446d-9ce6-4825d2380c4a"
   },
   "outputs": [
    {
     "name": "stdout",
     "output_type": "stream",
     "text": [
      "a: [0. 2. 3.]\n",
      "b: [0. 2. 3.]\n",
      "c: [1. 2. 3.]\n"
     ]
    }
   ],
   "source": [
    "a = np.array([1,2,3], float)\n",
    "b = a\n",
    "c = a.copy()\n",
    "a[0] = 0\n",
    "print(\"a: \" + str(a))\n",
    "print(\"b: \" + str(b))\n",
    "print(\"c: \" + str(c))"
   ]
  },
  {
   "cell_type": "markdown",
   "metadata": {
    "colab_type": "text",
    "id": "qJP0E0u_xVBg"
   },
   "source": [
    "Lists can also be created from arrays:"
   ]
  },
  {
   "cell_type": "code",
   "execution_count": 19,
   "metadata": {
    "colab": {
     "base_uri": "https://localhost:8080/",
     "height": 34
    },
    "colab_type": "code",
    "id": "1C9dvewxxbgU",
    "outputId": "4ef8eb0f-3b9f-4b1c-cd11-a45c4abfd2cd"
   },
   "outputs": [
    {
     "data": {
      "text/plain": [
       "[1.0, 2.0, 3.0]"
      ]
     },
     "execution_count": 19,
     "metadata": {},
     "output_type": "execute_result"
    }
   ],
   "source": [
    "a = np.array([1,2,3], float)\n",
    "a.tolist()\n",
    "list(a)"
   ]
  },
  {
   "cell_type": "markdown",
   "metadata": {
    "colab_type": "text",
    "id": "LnHUEga6x8ld"
   },
   "source": [
    "One can fill an array with a single value"
   ]
  },
  {
   "cell_type": "code",
   "execution_count": 20,
   "metadata": {
    "colab": {
     "base_uri": "https://localhost:8080/",
     "height": 68
    },
    "colab_type": "code",
    "id": "DkQdx6NLyAjU",
    "outputId": "998cfb8b-34ed-4c98-927f-619348cf82e9"
   },
   "outputs": [
    {
     "name": "stdout",
     "output_type": "stream",
     "text": [
      "[1. 2. 3.]\n",
      "after fill\n",
      "[0. 0. 0.]\n"
     ]
    }
   ],
   "source": [
    "a = np.array([1,2,3], float)\n",
    "print(a)\n",
    "a.fill(0)\n",
    "print(\"after fill\")\n",
    "print(a)"
   ]
  },
  {
   "cell_type": "markdown",
   "metadata": {
    "colab_type": "text",
    "id": "3BWVyGRIx_9r"
   },
   "source": [
    "Transposed versions of arrays can also be generated, which will create a new array with the final two axes switched:"
   ]
  },
  {
   "cell_type": "code",
   "execution_count": 21,
   "metadata": {
    "colab": {
     "base_uri": "https://localhost:8080/",
     "height": 102
    },
    "colab_type": "code",
    "id": "-Q7OjtdmyfDL",
    "outputId": "f7c78c61-3dbf-41d6-a27b-acc593cf8fc6"
   },
   "outputs": [
    {
     "name": "stdout",
     "output_type": "stream",
     "text": [
      "[[0. 1. 2.]\n",
      " [3. 4. 5.]]\n",
      "[[0. 3.]\n",
      " [1. 4.]\n",
      " [2. 5.]]\n"
     ]
    }
   ],
   "source": [
    "a = np.array(range(6), float).reshape((2,3))\n",
    "print(a)\n",
    "print(a.transpose())"
   ]
  },
  {
   "cell_type": "markdown",
   "metadata": {
    "colab_type": "text",
    "id": "_ipwNCOtUcMW"
   },
   "source": [
    "The transpose can also be calculated using the `.T` operator"
   ]
  },
  {
   "cell_type": "code",
   "execution_count": 22,
   "metadata": {
    "colab": {
     "base_uri": "https://localhost:8080/",
     "height": 102
    },
    "colab_type": "code",
    "id": "aiVctcJ3UicN",
    "outputId": "26375b38-2fc1-4604-b687-712174ea4fb3"
   },
   "outputs": [
    {
     "name": "stdout",
     "output_type": "stream",
     "text": [
      "[[0. 1. 2.]\n",
      " [3. 4. 5.]]\n"
     ]
    },
    {
     "data": {
      "text/plain": [
       "array([[0., 3.],\n",
       "       [1., 4.],\n",
       "       [2., 5.]])"
      ]
     },
     "execution_count": 22,
     "metadata": {},
     "output_type": "execute_result"
    }
   ],
   "source": [
    "a = np.array(range(6), float).reshape((2,3))\n",
    "print(a)\n",
    "a.T"
   ]
  },
  {
   "cell_type": "markdown",
   "metadata": {
    "colab_type": "text",
    "id": "suVqZ2WfySI3"
   },
   "source": [
    "One dimensional versions of multi-dimensionals arrays can be generated with `flatten`"
   ]
  },
  {
   "cell_type": "code",
   "execution_count": 23,
   "metadata": {
    "colab": {
     "base_uri": "https://localhost:8080/",
     "height": 68
    },
    "colab_type": "code",
    "id": "wsnpNL_1yud3",
    "outputId": "23a59dc2-f9e3-4dee-dfcb-909d64ebad7d"
   },
   "outputs": [
    {
     "name": "stdout",
     "output_type": "stream",
     "text": [
      "[[1. 2. 3.]\n",
      " [4. 5. 6.]]\n",
      "[1. 2. 3. 4. 5. 6.]\n"
     ]
    }
   ],
   "source": [
    "a = np.array([[1, 2, 3], [4, 5, 6]], float) \n",
    "print(a) \n",
    "print(a.flatten())"
   ]
  },
  {
   "cell_type": "markdown",
   "metadata": {
    "colab_type": "text",
    "id": "ki5bTwUsy8Fy"
   },
   "source": [
    "Two or more arrays can be concatenated together using the `concatenate` function with a tuple of the arrays to be joined:"
   ]
  },
  {
   "cell_type": "code",
   "execution_count": 24,
   "metadata": {
    "colab": {
     "base_uri": "https://localhost:8080/",
     "height": 34
    },
    "colab_type": "code",
    "id": "SmKLk2VizOQW",
    "outputId": "f562acca-7bfe-4d35-9331-84f19fb4d367"
   },
   "outputs": [
    {
     "name": "stdout",
     "output_type": "stream",
     "text": [
      "[1. 2. 3. 4. 5. 6. 7. 8. 9.]\n"
     ]
    }
   ],
   "source": [
    "a = np.array([1,2], float)\n",
    "b = np.array([3,4,5,6], float)\n",
    "c = np.array([7,8,9], float)\n",
    "d = np.concatenate((a, b, c))\n",
    "print(d)"
   ]
  },
  {
   "cell_type": "markdown",
   "metadata": {
    "colab_type": "text",
    "id": "xUkE7CbRzeyF"
   },
   "source": [
    "If an array has more than one dimension, it is possible to specify the axis along which multiple arrays are concatenated. By default (without specifying the axis), NumPy concatenates along the first dimension:"
   ]
  },
  {
   "cell_type": "code",
   "execution_count": 25,
   "metadata": {
    "colab": {
     "base_uri": "https://localhost:8080/",
     "height": 187
    },
    "colab_type": "code",
    "id": "5ikiABEhzeP1",
    "outputId": "b62e1330-90d3-4ddc-b68d-1814bda39956"
   },
   "outputs": [
    {
     "name": "stdout",
     "output_type": "stream",
     "text": [
      "[[1. 2.]\n",
      " [3. 4.]\n",
      " [5. 6.]\n",
      " [7. 8.]]\n",
      "[[1. 2.]\n",
      " [3. 4.]\n",
      " [5. 6.]\n",
      " [7. 8.]]\n",
      "[[1. 2. 5. 6.]\n",
      " [3. 4. 7. 8.]]\n"
     ]
    }
   ],
   "source": [
    "a = np.array([[1,2],[3,4]], float)\n",
    "b = np.array([[5,6],[7,8]], float)\n",
    "c = np.concatenate((a,b))\n",
    "print(c)\n",
    "c = np.concatenate((a,b), axis=0)\n",
    "print(c)\n",
    "c = np.concatenate((a,b), axis=1)\n",
    "print(c)"
   ]
  },
  {
   "cell_type": "markdown",
   "metadata": {
    "colab_type": "text",
    "id": "8dsAhMMsW8y9"
   },
   "source": [
    "## Other ways to create arrays\n",
    "The `arange` function is similar to the `range` function but returns an array:"
   ]
  },
  {
   "cell_type": "code",
   "execution_count": 26,
   "metadata": {
    "colab": {
     "base_uri": "https://localhost:8080/"
    },
    "colab_type": "code",
    "id": "4xIKfT9j0T25",
    "outputId": "3fd9de8a-51d2-4c62-b12b-6a7237eff91b"
   },
   "outputs": [
    {
     "name": "stdout",
     "output_type": "stream",
     "text": [
      "[0. 1. 2. 3. 4.]\n",
      "[1 3 5]\n"
     ]
    }
   ],
   "source": [
    "print(np.arange(5, dtype=float))\n",
    "print(np.arange(1,6,2, dtype=int))"
   ]
  },
  {
   "cell_type": "markdown",
   "metadata": {
    "colab_type": "text",
    "id": "Fuoex0tA0dR8"
   },
   "source": [
    "The functions `zeros` and `ones` create new arrays of specified dimensions filled with these values. These are perhaps the most commonly used functions to create new arrays:"
   ]
  },
  {
   "cell_type": "code",
   "execution_count": 27,
   "metadata": {
    "colab": {
     "base_uri": "https://localhost:8080/"
    },
    "colab_type": "code",
    "id": "9lwp1n1-0oqJ",
    "outputId": "eda3e15b-f60e-4960-8102-b73b43be7b8a"
   },
   "outputs": [
    {
     "name": "stdout",
     "output_type": "stream",
     "text": [
      "[[1. 1. 1.]\n",
      " [1. 1. 1.]]\n",
      "[0 0 0 0 0 0 0]\n"
     ]
    }
   ],
   "source": [
    "a = np.ones((2,3), dtype=float)\n",
    "print(a)\n",
    "b = np.zeros(7, dtype=int)\n",
    "print(b)"
   ]
  },
  {
   "cell_type": "markdown",
   "metadata": {
    "colab_type": "text",
    "id": "AOTsc6Nh05pt"
   },
   "source": [
    "The functions `zeros_like` and `ones_like` functions create a new array with the same dimensions and type of an existing one:"
   ]
  },
  {
   "cell_type": "code",
   "execution_count": 28,
   "metadata": {
    "colab": {
     "base_uri": "https://localhost:8080/"
    },
    "colab_type": "code",
    "id": "GT4MBWOk0uzB",
    "outputId": "d5efedf3-a186-4adf-d90f-7d5e697fd0ff"
   },
   "outputs": [
    {
     "name": "stdout",
     "output_type": "stream",
     "text": [
      "a : \n",
      "[[1. 2. 3.]\n",
      " [4. 5. 6.]]\n",
      "b : \n",
      "[[0. 0. 0.]\n",
      " [0. 0. 0.]]\n",
      "c : \n",
      "[[1. 1. 1.]\n",
      " [1. 1. 1.]]\n"
     ]
    }
   ],
   "source": [
    "a = np.array([[1, 2, 3],[4,5,6]], float)\n",
    "b = np.zeros_like(a)\n",
    "c = np.ones_like(a)\n",
    "print(\"a : \\n\" + str(a))\n",
    "print(\"b : \\n\" + str(b))\n",
    "print(\"c : \\n\" + str(c))"
   ]
  },
  {
   "cell_type": "markdown",
   "metadata": {
    "colab_type": "text",
    "id": "dmz0W8bY1bK_"
   },
   "source": [
    "There are also a number of functions for creating special matrices (2D arrays). To create an identity matrix of a given size,"
   ]
  },
  {
   "cell_type": "code",
   "execution_count": 29,
   "metadata": {
    "colab": {
     "base_uri": "https://localhost:8080/"
    },
    "colab_type": "code",
    "id": "Sdw41x351jmS",
    "outputId": "1d4a521f-f603-40e6-eb62-8d9c98cc5549"
   },
   "outputs": [
    {
     "data": {
      "text/plain": [
       "array([[1., 0., 0., 0.],\n",
       "       [0., 1., 0., 0.],\n",
       "       [0., 0., 1., 0.],\n",
       "       [0., 0., 0., 1.]])"
      ]
     },
     "execution_count": 29,
     "metadata": {},
     "output_type": "execute_result"
    }
   ],
   "source": [
    "np.identity(4, dtype=float)"
   ]
  },
  {
   "cell_type": "markdown",
   "metadata": {
    "colab_type": "text",
    "id": "LharwVgL1rBs"
   },
   "source": [
    "The `eye` function returns matrices with ones along the k-th diagonal"
   ]
  },
  {
   "cell_type": "code",
   "execution_count": 30,
   "metadata": {
    "colab": {
     "base_uri": "https://localhost:8080/"
    },
    "colab_type": "code",
    "id": "nja1oTXE1xlW",
    "outputId": "e26be4d7-a74c-4907-b71f-5b3b7243f0bd"
   },
   "outputs": [
    {
     "data": {
      "text/plain": [
       "array([[0., 0., 0., 0.],\n",
       "       [1., 0., 0., 0.],\n",
       "       [0., 1., 0., 0.],\n",
       "       [0., 0., 1., 0.]])"
      ]
     },
     "execution_count": 30,
     "metadata": {},
     "output_type": "execute_result"
    }
   ],
   "source": [
    "np.eye(4, k = -1, dtype=float)"
   ]
  },
  {
   "cell_type": "markdown",
   "metadata": {
    "colab_type": "text",
    "id": "87k7hbW3XAb5"
   },
   "source": [
    "## Array Mathematics\n",
    "When standard mathematical operations are used with arrays, they are applied on an element-by-element basis. This means that the arrays should be the same size during addition, subtraction, etc.:"
   ]
  },
  {
   "cell_type": "code",
   "execution_count": 31,
   "metadata": {
    "colab": {
     "base_uri": "https://localhost:8080/",
     "height": 119
    },
    "colab_type": "code",
    "id": "UZcdsOw72FRP",
    "outputId": "f9af206e-3858-4923-a254-9a442404f3f8"
   },
   "outputs": [
    {
     "name": "stdout",
     "output_type": "stream",
     "text": [
      "[5. 7. 9.]\n",
      "[-3. -3. -3.]\n",
      "[ 4. 10. 18.]\n",
      "[4.  2.5 2. ]\n",
      "[1. 2. 3.]\n",
      "[  4.  25. 216.]\n"
     ]
    }
   ],
   "source": [
    "a = np.array([1,2,3], float)\n",
    "b = np.array([4,5,6], float)\n",
    "print(a+b)\n",
    "print(a-b)\n",
    "print(a*b)\n",
    "print(b/a)\n",
    "print(a%b)\n",
    "print(b**a)"
   ]
  },
  {
   "cell_type": "markdown",
   "metadata": {
    "colab_type": "text",
    "id": "SMwhvLGM4fl8"
   },
   "source": [
    "For two-dimensional arrays, multiplication remains elementwise and does not correspond to matrix multiplication. There are special functions for matrix math that we will cover later."
   ]
  },
  {
   "cell_type": "code",
   "execution_count": 32,
   "metadata": {
    "colab": {
     "base_uri": "https://localhost:8080/",
     "height": 51
    },
    "colab_type": "code",
    "id": "meAg1Btp4QzS",
    "outputId": "ea499334-03ee-4164-c1f3-d0e85cfa7d96"
   },
   "outputs": [
    {
     "data": {
      "text/plain": [
       "array([[ 2.,  0.],\n",
       "       [ 3., 12.]])"
      ]
     },
     "execution_count": 32,
     "metadata": {},
     "output_type": "execute_result"
    }
   ],
   "source": [
    "a = np.array([[1,2], [3,4]], float)\n",
    "b = np.array([[2,0], [1,3]], float)\n",
    "a * b"
   ]
  },
  {
   "cell_type": "markdown",
   "metadata": {
    "colab_type": "text",
    "id": "Hid7qyOz4nQG"
   },
   "source": [
    "Errors are thrown if arrays do not match in size"
   ]
  },
  {
   "cell_type": "code",
   "execution_count": 33,
   "metadata": {
    "colab": {
     "base_uri": "https://localhost:8080/",
     "height": 198
    },
    "colab_type": "code",
    "id": "1Tu0idVP4lGP",
    "outputId": "2d318990-47b0-44c3-acdb-ccf84d153a59"
   },
   "outputs": [
    {
     "ename": "ValueError",
     "evalue": "operands could not be broadcast together with shapes (3,) (2,) ",
     "output_type": "error",
     "traceback": [
      "\u001b[0;31m---------------------------------------------------------------------------\u001b[0m",
      "\u001b[0;31mValueError\u001b[0m                                Traceback (most recent call last)",
      "\u001b[0;32m<ipython-input-33-abcf53b33b99>\u001b[0m in \u001b[0;36m<module>\u001b[0;34m\u001b[0m\n\u001b[1;32m      1\u001b[0m \u001b[0ma\u001b[0m \u001b[0;34m=\u001b[0m \u001b[0mnp\u001b[0m\u001b[0;34m.\u001b[0m\u001b[0marray\u001b[0m\u001b[0;34m(\u001b[0m\u001b[0;34m[\u001b[0m\u001b[0;36m1\u001b[0m\u001b[0;34m,\u001b[0m\u001b[0;36m2\u001b[0m\u001b[0;34m,\u001b[0m\u001b[0;36m3\u001b[0m\u001b[0;34m]\u001b[0m\u001b[0;34m,\u001b[0m \u001b[0mfloat\u001b[0m\u001b[0;34m)\u001b[0m\u001b[0;34m\u001b[0m\u001b[0;34m\u001b[0m\u001b[0m\n\u001b[1;32m      2\u001b[0m \u001b[0mb\u001b[0m \u001b[0;34m=\u001b[0m \u001b[0mnp\u001b[0m\u001b[0;34m.\u001b[0m\u001b[0marray\u001b[0m\u001b[0;34m(\u001b[0m\u001b[0;34m[\u001b[0m\u001b[0;36m4\u001b[0m\u001b[0;34m,\u001b[0m\u001b[0;36m5\u001b[0m\u001b[0;34m]\u001b[0m\u001b[0;34m,\u001b[0m \u001b[0mfloat\u001b[0m\u001b[0;34m)\u001b[0m\u001b[0;34m\u001b[0m\u001b[0;34m\u001b[0m\u001b[0m\n\u001b[0;32m----> 3\u001b[0;31m \u001b[0ma\u001b[0m\u001b[0;34m+\u001b[0m\u001b[0mb\u001b[0m\u001b[0;34m\u001b[0m\u001b[0;34m\u001b[0m\u001b[0m\n\u001b[0m",
      "\u001b[0;31mValueError\u001b[0m: operands could not be broadcast together with shapes (3,) (2,) "
     ]
    }
   ],
   "source": [
    "a = np.array([1,2,3], float)\n",
    "b = np.array([4,5], float)\n",
    "a+b"
   ]
  },
  {
   "cell_type": "markdown",
   "metadata": {
    "colab_type": "text",
    "id": "69dUIhfC48Eh"
   },
   "source": [
    "However, arrays that do not match in the number of dimensions will be *broadcasted* by Python to perform mathematical operations. This often means that the smaller array will be repeated as necessary to perform the operation indicated. Consider the following:"
   ]
  },
  {
   "cell_type": "code",
   "execution_count": 34,
   "metadata": {
    "colab": {
     "base_uri": "https://localhost:8080/",
     "height": 187
    },
    "colab_type": "code",
    "id": "cj3R45BN4uJ3",
    "outputId": "a04ce2d1-2b98-4d29-a5a9-aca8a67859e0"
   },
   "outputs": [
    {
     "name": "stdout",
     "output_type": "stream",
     "text": [
      "a : \n",
      "[[1. 2.]\n",
      " [3. 4.]\n",
      " [5. 6.]]\n",
      "b : \n",
      "[-1.  3.]\n",
      "a+b : \n",
      "[[0. 5.]\n",
      " [2. 7.]\n",
      " [4. 9.]]\n"
     ]
    }
   ],
   "source": [
    "a = np.array([[1, 2], [3, 4], [5, 6]], float)\n",
    "b = np.array([-1, 3], float)\n",
    "print(\"a : \\n\" + str(a))\n",
    "print(\"b : \\n\" + str(b))\n",
    "print(\"a+b : \\n\" + str(a+b))"
   ]
  },
  {
   "cell_type": "markdown",
   "metadata": {
    "colab_type": "text",
    "id": "HXyDzpPh5PHZ"
   },
   "source": [
    "Here, the one-dimensional array `b` was broadcasted to a two-dimensional array that matched the size of `a`. In essence, `b` was repeated for each item in `a`, as if it were given by\n",
    "\n",
    "```\n",
    "array([[-1., 3.], \n",
    "       [-1., 3.], \n",
    "       [-1., 3.]])\n",
    "```\n",
    "\n",
    "Python automatically broadcasts arrays in this manner. Sometimes, however, how we should broadcast is ambiguous. In these cases, we can use the `newaxis` constant to specify how we want to broadcast:"
   ]
  },
  {
   "cell_type": "code",
   "execution_count": 35,
   "metadata": {
    "colab": {
     "base_uri": "https://localhost:8080/",
     "height": 51
    },
    "colab_type": "code",
    "id": "KgskQ_-n5Jki",
    "outputId": "f0e098e6-f837-44ac-c3dd-97107b9734ed"
   },
   "outputs": [
    {
     "data": {
      "text/plain": [
       "array([[-1.,  3.],\n",
       "       [-1.,  3.]])"
      ]
     },
     "execution_count": 35,
     "metadata": {},
     "output_type": "execute_result"
    }
   ],
   "source": [
    "a = np.zeros((2,2), float)\n",
    "b = np.array([-1., 3.], float)\n",
    "a+b"
   ]
  },
  {
   "cell_type": "code",
   "execution_count": 36,
   "metadata": {
    "colab": {
     "base_uri": "https://localhost:8080/",
     "height": 51
    },
    "colab_type": "code",
    "id": "RJgM0x645y6S",
    "outputId": "a02a7a4e-cb24-4296-83da-143fee0eadfd"
   },
   "outputs": [
    {
     "data": {
      "text/plain": [
       "array([[-1., -1.],\n",
       "       [ 3.,  3.]])"
      ]
     },
     "execution_count": 36,
     "metadata": {},
     "output_type": "execute_result"
    }
   ],
   "source": [
    "a + b[:,np.newaxis]"
   ]
  },
  {
   "cell_type": "markdown",
   "metadata": {
    "colab_type": "text",
    "id": "pPRr-zyL57cB"
   },
   "source": [
    "In addition to the standard operators, NumPy offers a large library of common mathematical functions that can be applied elementwise to arrays. Among these are the functions: `abs`, `sign`, `sqrt`, `log`, `log10`, `exp`, `sin`, `cos`, `tan`, `arcsin`, `arccos`, `arctan`, `sinh`, `cosh`, `tanh`, `arcsinh`, `arccosh`, and `arctanh`."
   ]
  },
  {
   "cell_type": "code",
   "execution_count": 37,
   "metadata": {
    "colab": {
     "base_uri": "https://localhost:8080/",
     "height": 187
    },
    "colab_type": "code",
    "id": "_InZxYO-53eM",
    "outputId": "0d2994a1-76c0-4bb7-81eb-e923f50b20e7"
   },
   "outputs": [
    {
     "data": {
      "text/plain": [
       "array([1.        , 1.41421356, 1.73205081, 2.        , 2.23606798,\n",
       "       2.44948974, 2.64575131, 2.82842712, 3.        , 3.16227766,\n",
       "       3.31662479, 3.46410162, 3.60555128, 3.74165739, 3.87298335,\n",
       "       4.        , 4.12310563, 4.24264069, 4.35889894, 4.47213595,\n",
       "       4.58257569, 4.69041576, 4.79583152, 4.89897949, 5.        ,\n",
       "       5.09901951, 5.19615242, 5.29150262, 5.38516481, 5.47722558,\n",
       "       5.56776436, 5.65685425, 5.74456265, 5.83095189, 5.91607978,\n",
       "       6.        , 6.08276253, 6.164414  , 6.244998  , 6.32455532,\n",
       "       6.40312424, 6.4807407 , 6.55743852, 6.63324958, 6.70820393,\n",
       "       6.78232998, 6.8556546 , 6.92820323, 7.        ])"
      ]
     },
     "execution_count": 37,
     "metadata": {},
     "output_type": "execute_result"
    }
   ],
   "source": [
    "a = np.array(range(1,50), float)\n",
    "np.sqrt(a)"
   ]
  },
  {
   "cell_type": "code",
   "execution_count": 38,
   "metadata": {
    "colab": {
     "base_uri": "https://localhost:8080/",
     "height": 187
    },
    "colab_type": "code",
    "id": "dsto2W566KMv",
    "outputId": "51d401f1-c2c6-474f-cea3-6043cad439d3"
   },
   "outputs": [
    {
     "data": {
      "text/plain": [
       "array([ 1.        ,  1.70710678,  2.28445705,  2.78445705,  3.23167065,\n",
       "        3.63991894,  4.01788341,  4.3714368 ,  4.70477013,  5.0209979 ,\n",
       "        5.32250924,  5.61118438,  5.88853448,  6.15579572,  6.41399461,\n",
       "        6.66399461,  6.90653023,  7.14223249,  7.37164823,  7.59525503,\n",
       "        7.81347292,  8.02667363,  8.23518805,  8.43931219,  8.63931219,\n",
       "        8.83542833,  9.02787842,  9.21686065,  9.40255599,  9.58513018,\n",
       "        9.76473548,  9.94151217, 10.11558983, 10.28708841, 10.45611927,\n",
       "       10.62278593, 10.78718492, 10.94940634, 11.10953449, 11.26764838,\n",
       "       11.42382214, 11.57812549, 11.73062406, 11.88137973, 12.03045093,\n",
       "       12.17789289, 12.32375788, 12.46809545, 12.61095259])"
      ]
     },
     "execution_count": 38,
     "metadata": {},
     "output_type": "execute_result"
    }
   ],
   "source": [
    "np.cumsum(1/np.sqrt(a))"
   ]
  },
  {
   "cell_type": "markdown",
   "metadata": {
    "colab_type": "text",
    "id": "Z90n8DRH6uA4"
   },
   "source": [
    "Also included in the NumPy module are two important mathematical constants:"
   ]
  },
  {
   "cell_type": "code",
   "execution_count": 39,
   "metadata": {
    "colab": {
     "base_uri": "https://localhost:8080/",
     "height": 51
    },
    "colab_type": "code",
    "id": "P2vzM1Jt6XkE",
    "outputId": "6bb2d509-9be5-4452-dfbf-b111e06282ce"
   },
   "outputs": [
    {
     "name": "stdout",
     "output_type": "stream",
     "text": [
      "3.141592653589793\n",
      "2.718281828459045\n"
     ]
    }
   ],
   "source": [
    "print(np.pi)\n",
    "print(np.e)"
   ]
  },
  {
   "cell_type": "markdown",
   "metadata": {
    "colab_type": "text",
    "id": "61RNOFYo7LEJ"
   },
   "source": [
    "## Array iteration\n",
    "Iterating over an array is similar to that of lists:"
   ]
  },
  {
   "cell_type": "code",
   "execution_count": 40,
   "metadata": {
    "colab": {
     "base_uri": "https://localhost:8080/"
    },
    "colab_type": "code",
    "id": "Jw08qa7e6x5L",
    "outputId": "d0566686-65d9-409f-8655-6400e1d65df7"
   },
   "outputs": [
    {
     "name": "stdout",
     "output_type": "stream",
     "text": [
      "1\n",
      "3\n",
      "5\n",
      "7\n"
     ]
    }
   ],
   "source": [
    "a = np.array([1,3,5,7],int)\n",
    "for x in a:\n",
    "  print(x)\n",
    "\n"
   ]
  },
  {
   "cell_type": "markdown",
   "metadata": {
    "colab_type": "text",
    "id": "YrkXJP2O_aeC"
   },
   "source": [
    "For multidimensional arrays, iteration proceeds over the first axis such that each loop returns a subsection of the array:"
   ]
  },
  {
   "cell_type": "code",
   "execution_count": 41,
   "metadata": {
    "colab": {
     "base_uri": "https://localhost:8080/"
    },
    "colab_type": "code",
    "id": "R8a8_ftY7bNM",
    "outputId": "3db5bbd1-3abb-42a4-bf1d-1f239b8f813b"
   },
   "outputs": [
    {
     "name": "stdout",
     "output_type": "stream",
     "text": [
      "[1. 2.]\n",
      "[3. 4.]\n",
      "[5. 6.]\n"
     ]
    }
   ],
   "source": [
    "a = np.array([[1,2],[3,4],[5,6]], float)\n",
    "for x in a:\n",
    "  print(x)"
   ]
  },
  {
   "cell_type": "markdown",
   "metadata": {
    "colab_type": "text",
    "id": "I1i_6iH6_nl4"
   },
   "source": [
    "Multiple assigment can also be used with array iteration:"
   ]
  },
  {
   "cell_type": "code",
   "execution_count": 42,
   "metadata": {
    "colab": {
     "base_uri": "https://localhost:8080/"
    },
    "colab_type": "code",
    "id": "7d4rEr6A_lnU",
    "outputId": "f15be888-a6cd-4f20-d081-1231023e809b"
   },
   "outputs": [
    {
     "name": "stdout",
     "output_type": "stream",
     "text": [
      "2.0\n",
      "12.0\n",
      "30.0\n"
     ]
    }
   ],
   "source": [
    "a = np.array([[1,2],[3,4],[5,6]], float)\n",
    "for (x,y) in a:\n",
    "  print(x * y)"
   ]
  },
  {
   "cell_type": "markdown",
   "metadata": {
    "colab_type": "text",
    "id": "pyyeV0DG_2DD"
   },
   "source": [
    "## Basic array operations\n",
    "Many functions exist for extracting whole-array properties. The items in an array can be summed or multiplied:"
   ]
  },
  {
   "cell_type": "code",
   "execution_count": 43,
   "metadata": {
    "colab": {
     "base_uri": "https://localhost:8080/"
    },
    "colab_type": "code",
    "id": "ogtk4BSy_z88",
    "outputId": "6a2d54b5-d3f8-4992-ed6a-a72039202497"
   },
   "outputs": [
    {
     "name": "stdout",
     "output_type": "stream",
     "text": [
      "9.0\n",
      "24.0\n"
     ]
    }
   ],
   "source": [
    "a = np.array([2,4,3], float)\n",
    "print(a.sum())\n",
    "print(a.prod())"
   ]
  },
  {
   "cell_type": "markdown",
   "metadata": {
    "colab_type": "text",
    "id": "n_qrildbASx6"
   },
   "source": [
    "In this example, member functions of the arrays were used.  Alternatively, standalone functions of the NumPy module can be used:"
   ]
  },
  {
   "cell_type": "code",
   "execution_count": 44,
   "metadata": {
    "colab": {
     "base_uri": "https://localhost:8080/"
    },
    "colab_type": "code",
    "id": "jRCz_L7LAR5u",
    "outputId": "53592cfa-9d69-47cc-ddcf-5b2f3a02a3de"
   },
   "outputs": [
    {
     "data": {
      "text/plain": [
       "9.0"
      ]
     },
     "execution_count": 44,
     "metadata": {},
     "output_type": "execute_result"
    }
   ],
   "source": [
    "np.sum(a)"
   ]
  },
  {
   "cell_type": "markdown",
   "metadata": {
    "colab_type": "text",
    "id": "7watm136AhHj"
   },
   "source": [
    "For most of the routines described below, both standalone and member functions are available.\n",
    "A number of routines enable computation of statistical quantities in array datasets, such as the mean (average), variance, and standard deviation:"
   ]
  },
  {
   "cell_type": "code",
   "execution_count": 45,
   "metadata": {
    "colab": {
     "base_uri": "https://localhost:8080/"
    },
    "colab_type": "code",
    "id": "9ET19r3wAevN",
    "outputId": "69805012-08b1-421c-d2a0-f4939c5674b1"
   },
   "outputs": [
    {
     "data": {
      "text/plain": [
       "4.0"
      ]
     },
     "execution_count": 45,
     "metadata": {},
     "output_type": "execute_result"
    }
   ],
   "source": [
    "a = np.array([2, 1, 9], float)\n",
    "a.mean()"
   ]
  },
  {
   "cell_type": "code",
   "execution_count": 46,
   "metadata": {
    "colab": {
     "base_uri": "https://localhost:8080/"
    },
    "colab_type": "code",
    "id": "9nda0TKgAkrW",
    "outputId": "4379b9d4-4aa2-45fa-a585-3171b589331d"
   },
   "outputs": [
    {
     "data": {
      "text/plain": [
       "12.666666666666666"
      ]
     },
     "execution_count": 46,
     "metadata": {},
     "output_type": "execute_result"
    }
   ],
   "source": [
    "a.var()"
   ]
  },
  {
   "cell_type": "code",
   "execution_count": 47,
   "metadata": {
    "colab": {
     "base_uri": "https://localhost:8080/"
    },
    "colab_type": "code",
    "id": "yJnp05-mAoF3",
    "outputId": "a57d5acf-5a9d-4e54-87d4-6e339e7f2663"
   },
   "outputs": [
    {
     "data": {
      "text/plain": [
       "3.559026084010437"
      ]
     },
     "execution_count": 47,
     "metadata": {},
     "output_type": "execute_result"
    }
   ],
   "source": [
    "a.std()"
   ]
  },
  {
   "cell_type": "markdown",
   "metadata": {
    "colab_type": "text",
    "id": "smME4k2GAq_o"
   },
   "source": [
    "It's also possible to find the minimum and maximum element values:"
   ]
  },
  {
   "cell_type": "code",
   "execution_count": 48,
   "metadata": {
    "colab": {
     "base_uri": "https://localhost:8080/"
    },
    "colab_type": "code",
    "id": "Sk7ZHUX3ApqX",
    "outputId": "0cd29968-0248-49dd-e855-7a95e855f37f"
   },
   "outputs": [
    {
     "name": "stdout",
     "output_type": "stream",
     "text": [
      "1.0\n",
      "9.0\n"
     ]
    }
   ],
   "source": [
    "a = np.array([1,3,9], float)\n",
    "print(a.min())\n",
    "print(a.max())"
   ]
  },
  {
   "cell_type": "markdown",
   "metadata": {
    "colab_type": "text",
    "id": "xEDkNJxHA7tb"
   },
   "source": [
    "The `argmin` and `argmax` functions return the array indices of the minimum and maximum values:"
   ]
  },
  {
   "cell_type": "code",
   "execution_count": 49,
   "metadata": {
    "colab": {
     "base_uri": "https://localhost:8080/"
    },
    "colab_type": "code",
    "id": "cG9DIJk2A3eA",
    "outputId": "bf53631b-d43e-46eb-b8d7-af08da9dde8e"
   },
   "outputs": [
    {
     "name": "stdout",
     "output_type": "stream",
     "text": [
      "1\n",
      "2\n"
     ]
    }
   ],
   "source": [
    "a = np.array([2,1,9], float)\n",
    "print(a.argmin())\n",
    "print(a.argmax())"
   ]
  },
  {
   "cell_type": "markdown",
   "metadata": {
    "colab_type": "text",
    "id": "R0ISJkOkCNw0"
   },
   "source": [
    "For multidimensional arrays, each of the functions thus far described can take an optional argument axis that will perform an operation along only the specified `axis`, placing the results in a return array:"
   ]
  },
  {
   "cell_type": "code",
   "execution_count": 50,
   "metadata": {
    "colab": {
     "base_uri": "https://localhost:8080/"
    },
    "colab_type": "code",
    "id": "FcwbREvcCD5B",
    "outputId": "2fdbca82-c2d4-4677-f6fd-ab0e18daba79"
   },
   "outputs": [
    {
     "data": {
      "text/plain": [
       "array([2., 2.])"
      ]
     },
     "execution_count": 50,
     "metadata": {},
     "output_type": "execute_result"
    }
   ],
   "source": [
    "a = np.array([[0, 2], [3, -1], [3, 5]], float)\n",
    "a.mean(axis=0)"
   ]
  },
  {
   "cell_type": "code",
   "execution_count": 51,
   "metadata": {
    "colab": {
     "base_uri": "https://localhost:8080/"
    },
    "colab_type": "code",
    "id": "YSdrCEiZCa7t",
    "outputId": "73b6c47b-ff16-48d3-d4c0-636270600a05"
   },
   "outputs": [
    {
     "data": {
      "text/plain": [
       "array([1., 1., 4.])"
      ]
     },
     "execution_count": 51,
     "metadata": {},
     "output_type": "execute_result"
    }
   ],
   "source": [
    "a.mean(axis=1)"
   ]
  },
  {
   "cell_type": "code",
   "execution_count": 52,
   "metadata": {
    "colab": {
     "base_uri": "https://localhost:8080/"
    },
    "colab_type": "code",
    "id": "DbR9FYjFCcSq",
    "outputId": "9a400fba-aa9e-4e45-bf65-49c617e9619f"
   },
   "outputs": [
    {
     "data": {
      "text/plain": [
       "array([ 0., -1.,  3.])"
      ]
     },
     "execution_count": 52,
     "metadata": {},
     "output_type": "execute_result"
    }
   ],
   "source": [
    "a.min(axis=1)"
   ]
  },
  {
   "cell_type": "code",
   "execution_count": 53,
   "metadata": {
    "colab": {
     "base_uri": "https://localhost:8080/"
    },
    "colab_type": "code",
    "id": "g1w2qxN1CfUA",
    "outputId": "e2b854c3-5c76-4329-a9f7-7b9f55c93712"
   },
   "outputs": [
    {
     "data": {
      "text/plain": [
       "array([3., 5.])"
      ]
     },
     "execution_count": 53,
     "metadata": {},
     "output_type": "execute_result"
    }
   ],
   "source": [
    "a.max(axis=0)"
   ]
  },
  {
   "cell_type": "markdown",
   "metadata": {
    "colab_type": "text",
    "id": "-iObHxGnCkgh"
   },
   "source": [
    "Like lists, arrays can be sorted:"
   ]
  },
  {
   "cell_type": "code",
   "execution_count": 54,
   "metadata": {
    "colab": {
     "base_uri": "https://localhost:8080/"
    },
    "colab_type": "code",
    "id": "CXWInkMPClGE",
    "outputId": "4967569c-1ac2-4be7-f74c-be5416b213f0"
   },
   "outputs": [
    {
     "name": "stdout",
     "output_type": "stream",
     "text": [
      "[-1.0, 0.0, 2.0, 5.0, 6.0]\n"
     ]
    }
   ],
   "source": [
    "a = np.array([6,2,5,-1,0], float)\n",
    "print(sorted(a))"
   ]
  },
  {
   "cell_type": "code",
   "execution_count": 55,
   "metadata": {
    "colab": {
     "base_uri": "https://localhost:8080/"
    },
    "colab_type": "code",
    "id": "_cqKEP7YCsNZ",
    "outputId": "2641b161-ae54-4346-95bc-9ebf48b52600"
   },
   "outputs": [
    {
     "name": "stdout",
     "output_type": "stream",
     "text": [
      "[-1.  0.  2.  5.  6.]\n"
     ]
    }
   ],
   "source": [
    "a.sort()\n",
    "print(a)"
   ]
  },
  {
   "cell_type": "markdown",
   "metadata": {
    "colab_type": "text",
    "id": "niLAwlS4GC2V"
   },
   "source": [
    "Values in an array can be \"clipped\" to be within a prespecified range. This is the same as applying `min(max(x, minval), maxval)` to each element x in an array."
   ]
  },
  {
   "cell_type": "code",
   "execution_count": 56,
   "metadata": {
    "colab": {
     "base_uri": "https://localhost:8080/"
    },
    "colab_type": "code",
    "id": "1z6aBKTbCvbi",
    "outputId": "29ed375f-67c2-4608-ed8f-4b0fdf1d29b6"
   },
   "outputs": [
    {
     "data": {
      "text/plain": [
       "array([5., 2., 5., 0., 0.])"
      ]
     },
     "execution_count": 56,
     "metadata": {},
     "output_type": "execute_result"
    }
   ],
   "source": [
    "a = np.array([6, 2, 5, -1, 0], float)\n",
    "a.clip(0,5)"
   ]
  },
  {
   "cell_type": "markdown",
   "metadata": {
    "colab_type": "text",
    "id": "Qb6ubd2cGMnB"
   },
   "source": [
    "Unique elements can be extracted from an array:"
   ]
  },
  {
   "cell_type": "code",
   "execution_count": 57,
   "metadata": {
    "colab": {
     "base_uri": "https://localhost:8080/"
    },
    "colab_type": "code",
    "id": "TeI0rQqXGGmu",
    "outputId": "c8036f7d-692e-46ac-bfcc-91e625b6f108"
   },
   "outputs": [
    {
     "data": {
      "text/plain": [
       "array([1., 4., 5., 7.])"
      ]
     },
     "execution_count": 57,
     "metadata": {},
     "output_type": "execute_result"
    }
   ],
   "source": [
    "a = np.array([1, 1, 4, 5, 5, 5, 7], float)\n",
    "np.unique(a)"
   ]
  },
  {
   "cell_type": "markdown",
   "metadata": {
    "colab_type": "text",
    "id": "Vn9gnSgFGVsO"
   },
   "source": [
    "For two-dimensional arrays, the diagonal can be extracted:"
   ]
  },
  {
   "cell_type": "code",
   "execution_count": 58,
   "metadata": {
    "colab": {
     "base_uri": "https://localhost:8080/"
    },
    "colab_type": "code",
    "id": "dkYXfiNGGTuV",
    "outputId": "03eff579-b8b1-48d0-8835-0190f6c02638"
   },
   "outputs": [
    {
     "data": {
      "text/plain": [
       "array([1., 5., 9.])"
      ]
     },
     "execution_count": 58,
     "metadata": {},
     "output_type": "execute_result"
    }
   ],
   "source": [
    "a = np.array([[1, 2,3], [4, 5,6],[7,8,9]], float)\n",
    "a.diagonal()"
   ]
  },
  {
   "cell_type": "markdown",
   "metadata": {
    "colab_type": "text",
    "id": "hjbJZo_JbJAz"
   },
   "source": [
    "## Comparison operators and value testing\n",
    "Boolean comparisons can be used to compare members elementwise on arrays of equal size. The return value is an array of Boolean `True` / `False` values.  The results can be stored in an array:"
   ]
  },
  {
   "cell_type": "code",
   "execution_count": 59,
   "metadata": {
    "colab": {
     "base_uri": "https://localhost:8080/"
    },
    "colab_type": "code",
    "id": "cj0SThKIGvVh",
    "outputId": "f58fa9e8-7fd5-47ec-b24b-7e5bfdd2bf50"
   },
   "outputs": [
    {
     "name": "stdout",
     "output_type": "stream",
     "text": [
      "[ True False False]\n",
      "[False False  True]\n"
     ]
    }
   ],
   "source": [
    "a = np.array([1,3,0], float)\n",
    "b = np.array([0,3,2], float)\n",
    "print(a>b)\n",
    "c = a < b\n",
    "print(c)"
   ]
  },
  {
   "cell_type": "markdown",
   "metadata": {
    "colab_type": "text",
    "id": "Csht8qcgcTbe"
   },
   "source": [
    "Compound Boolean expressions can be applied to arrays on an element-by-element basis using special functions `logical_and`, `logical_or` and `logical_not`"
   ]
  },
  {
   "cell_type": "code",
   "execution_count": 60,
   "metadata": {
    "colab": {
     "base_uri": "https://localhost:8080/"
    },
    "colab_type": "code",
    "id": "Ui0OX1szbX6O",
    "outputId": "d3ea2324-895b-452e-cf98-0e4929c5bbc9"
   },
   "outputs": [
    {
     "data": {
      "text/plain": [
       "array([False, False, False, False, False,  True,  True,  True,  True,\n",
       "        True,  True,  True, False, False, False, False, False, False,\n",
       "       False])"
      ]
     },
     "execution_count": 60,
     "metadata": {},
     "output_type": "execute_result"
    }
   ],
   "source": [
    "a = np.array(range(1,20), float)\n",
    "np.logical_and(a>5,a < 13)"
   ]
  },
  {
   "cell_type": "code",
   "execution_count": 61,
   "metadata": {
    "colab": {
     "base_uri": "https://localhost:8080/"
    },
    "colab_type": "code",
    "id": "6_Y99bHIev0N",
    "outputId": "0304f40a-3d02-4a09-e1e5-e86b080cf89a"
   },
   "outputs": [
    {
     "data": {
      "text/plain": [
       "array([False,  True,  True])"
      ]
     },
     "execution_count": 61,
     "metadata": {},
     "output_type": "execute_result"
    }
   ],
   "source": [
    "b = np.array([True, False, False], bool)\n",
    "np.logical_not(b)"
   ]
  },
  {
   "cell_type": "markdown",
   "metadata": {
    "colab_type": "text",
    "id": "70gDmK5ze8m0"
   },
   "source": [
    "The `where` function forms a new array from two arrays of equivalent size using a Boolean filter to choose between elements of the two. Its basic syntax is `where(boolarray, truearray, falsearray)`:"
   ]
  },
  {
   "cell_type": "code",
   "execution_count": 62,
   "metadata": {
    "colab": {
     "base_uri": "https://localhost:8080/"
    },
    "colab_type": "code",
    "id": "FMv_bvehe7rU",
    "outputId": "dd108d9c-21ab-45c9-ddd2-f6f066f79c53"
   },
   "outputs": [
    {
     "name": "stderr",
     "output_type": "stream",
     "text": [
      "/Users/hans/Library/Python/3.7/lib/python/site-packages/ipykernel_launcher.py:2: RuntimeWarning: divide by zero encountered in true_divide\n",
      "  \n"
     ]
    },
    {
     "data": {
      "text/plain": [
       "array([0.        , 0.33333333, 0.16666667, 0.11111111, 0.08333333,\n",
       "       0.06666667, 0.05555556])"
      ]
     },
     "execution_count": 62,
     "metadata": {},
     "output_type": "execute_result"
    }
   ],
   "source": [
    "a = np.array(range(0,20,3), float)\n",
    "np.where(a != 0, 1/a,a)"
   ]
  },
  {
   "cell_type": "code",
   "execution_count": 63,
   "metadata": {
    "colab": {
     "base_uri": "https://localhost:8080/"
    },
    "colab_type": "code",
    "id": "QbjDugaGe4UD",
    "outputId": "6a67a3f8-06ec-4f3c-c3c3-3a392a27a986"
   },
   "outputs": [
    {
     "name": "stdout",
     "output_type": "stream",
     "text": [
      "[ 0.  3.  6.  9. 12. 15. 18.]\n",
      "[ 0.  3.  6.  9. 10. 10. 10.]\n"
     ]
    }
   ],
   "source": [
    "a = np.array(range(0,20,3), float)\n",
    "print(a)\n",
    "b = np.where(a>10,10,a)\n",
    "print(b)"
   ]
  },
  {
   "cell_type": "markdown",
   "metadata": {
    "colab_type": "text",
    "id": "xuW04oCSfwNN"
   },
   "source": [
    "## Array item selection and manipulation\n",
    "We have already seen that, like lists, individual elements and slices of arrays can be selected using bracket notation. Unlike lists, however, arrays also permit selection using other arrays. That is, we can use array selectors to filter for specific subsets of elements of other arrays.\n",
    "\n",
    "Boolean arrays can be used as array selectors:"
   ]
  },
  {
   "cell_type": "code",
   "execution_count": 64,
   "metadata": {
    "colab": {
     "base_uri": "https://localhost:8080/"
    },
    "colab_type": "code",
    "id": "dyRPdwyCfYW3",
    "outputId": "fb5c2a47-de13-4e8b-efae-4c86100423c3"
   },
   "outputs": [
    {
     "data": {
      "text/plain": [
       "array([[ True, False],\n",
       "       [False,  True]])"
      ]
     },
     "execution_count": 64,
     "metadata": {},
     "output_type": "execute_result"
    }
   ],
   "source": [
    "a = np.array([[6, 4], [5, 9]], float)\n",
    "a >= 6"
   ]
  },
  {
   "cell_type": "code",
   "execution_count": 65,
   "metadata": {
    "colab": {
     "base_uri": "https://localhost:8080/"
    },
    "colab_type": "code",
    "id": "0gHvTrlVgkeB",
    "outputId": "4272e103-c87d-478a-d475-6d42cf7a7f0f"
   },
   "outputs": [
    {
     "data": {
      "text/plain": [
       "array([6., 9.])"
      ]
     },
     "execution_count": 65,
     "metadata": {},
     "output_type": "execute_result"
    }
   ],
   "source": [
    "a[a >= 6]"
   ]
  },
  {
   "cell_type": "code",
   "execution_count": 66,
   "metadata": {
    "colab": {
     "base_uri": "https://localhost:8080/"
    },
    "colab_type": "code",
    "id": "jcjeXQUHgnXj",
    "outputId": "b3c1aae7-b3ae-4110-fd10-688826accc4a"
   },
   "outputs": [
    {
     "data": {
      "text/plain": [
       "array([[1., 4.],\n",
       "       [5., 1.]])"
      ]
     },
     "execution_count": 66,
     "metadata": {},
     "output_type": "execute_result"
    }
   ],
   "source": [
    "a[a >= 6] = 1\n",
    "a"
   ]
  },
  {
   "cell_type": "markdown",
   "metadata": {
    "colab_type": "text",
    "id": "xk90dJodg2BL"
   },
   "source": [
    "In addition to Boolean selection, it is possible to select using integer arrays. Here, the integer arrays contain the `indices` of the elements to be taken from an array. Consider the following one-dimensional example:"
   ]
  },
  {
   "cell_type": "code",
   "execution_count": 67,
   "metadata": {
    "colab": {
     "base_uri": "https://localhost:8080/"
    },
    "colab_type": "code",
    "id": "6iVJvzQogtOp",
    "outputId": "c214ca8c-6bd7-48c4-ff4d-e54ffca24748"
   },
   "outputs": [
    {
     "data": {
      "text/plain": [
       "array([2., 2., 4., 8., 6., 4.])"
      ]
     },
     "execution_count": 67,
     "metadata": {},
     "output_type": "execute_result"
    }
   ],
   "source": [
    "a = np.array([2, 4, 6, 8], float)\n",
    "b = np.array([0, 0, 1, 3, 2, 1], int)\n",
    "a[b]"
   ]
  },
  {
   "cell_type": "markdown",
   "metadata": {
    "colab_type": "text",
    "id": "0rO4unHWhBIv"
   },
   "source": [
    "In other words, we take the 0th, 0th, 1st, 3rd, 2nd, and 1st elements of `a`, in that order, when we use `b` to select elements from `a`. Lists can also be used as selection arrays:"
   ]
  },
  {
   "cell_type": "code",
   "execution_count": 68,
   "metadata": {
    "colab": {
     "base_uri": "https://localhost:8080/"
    },
    "colab_type": "code",
    "id": "7FvKqbOmg9Im",
    "outputId": "f1b8e055-3c71-4068-ece5-15e656e17fb5"
   },
   "outputs": [
    {
     "data": {
      "text/plain": [
       "array([2., 2., 4., 8., 6., 4.])"
      ]
     },
     "execution_count": 68,
     "metadata": {},
     "output_type": "execute_result"
    }
   ],
   "source": [
    "a[[0, 0, 1, 3, 2, 1]]"
   ]
  },
  {
   "cell_type": "markdown",
   "metadata": {
    "colab_type": "text",
    "id": "q_gy8ZethK3r"
   },
   "source": [
    "For multidimensional arrays, we have to send multiple one-dimensional integer arrays to the selection bracket, one for each axis. Then, each of these selection arrays is traversed in sequence: the first element taken has a first axis index taken from the first member of the first selection array, a second index from the first member of the second selection array, and so on. An example:"
   ]
  },
  {
   "cell_type": "code",
   "execution_count": 69,
   "metadata": {
    "colab": {
     "base_uri": "https://localhost:8080/"
    },
    "colab_type": "code",
    "id": "xctkqaZKhG3P",
    "outputId": "aab56d28-b0b5-4841-a579-0ad5f4f5dce5"
   },
   "outputs": [
    {
     "data": {
      "text/plain": [
       "array([ 1.,  4., 16., 16.,  4.])"
      ]
     },
     "execution_count": 69,
     "metadata": {},
     "output_type": "execute_result"
    }
   ],
   "source": [
    "a = np.array([[1, 4], [9, 16]], float)\n",
    "b = np.array([0, 0, 1, 1, 0], int)\n",
    "c = np.array([0, 1, 1, 1, 1], int)\n",
    "a[b,c]"
   ]
  },
  {
   "cell_type": "markdown",
   "metadata": {
    "colab_type": "text",
    "id": "WWe0YsUihnoi"
   },
   "source": [
    "## Vector and matrix mathematics\n",
    "NumPy provides many functions for performing standard vector and matrix multiplication routines. Remember that * is used to element-wise multiplications. To perform a dot product,"
   ]
  },
  {
   "cell_type": "code",
   "execution_count": 70,
   "metadata": {
    "colab": {
     "base_uri": "https://localhost:8080/"
    },
    "colab_type": "code",
    "id": "hal2RhokhT_w",
    "outputId": "4ad9a444-3861-4da9-bbe8-f58d79a803e7"
   },
   "outputs": [
    {
     "data": {
      "text/plain": [
       "38.0"
      ]
     },
     "execution_count": 70,
     "metadata": {},
     "output_type": "execute_result"
    }
   ],
   "source": [
    "a = np.array([1, 2, 3], float)\n",
    "b = np.array([5,6,7], float)\n",
    "np.dot(a,b)"
   ]
  },
  {
   "cell_type": "markdown",
   "metadata": {
    "colab_type": "text",
    "id": "NDEYSha_h-54"
   },
   "source": [
    "The `dot` function also generalizes to matrix multiplication:"
   ]
  },
  {
   "cell_type": "code",
   "execution_count": 71,
   "metadata": {
    "colab": {
     "base_uri": "https://localhost:8080/"
    },
    "colab_type": "code",
    "id": "IvWSxZ8bh3UP",
    "outputId": "b4390583-589b-4d82-bcc3-21881c68ac7f"
   },
   "outputs": [
    {
     "name": "stdout",
     "output_type": "stream",
     "text": [
      "[[0. 1.]\n",
      " [2. 3.]]\n",
      "b innerproduct a :\n",
      "[ 6. 11.]\n",
      "Inner product of a and c\n",
      "[[ 4.  0.]\n",
      " [14.  2.]]\n"
     ]
    }
   ],
   "source": [
    "a = np.array([[0, 1], [2, 3]], float)\n",
    "b = np.array([2, 3], float)\n",
    "c = np.array([[1,1],[4, 0]], float)\n",
    "print(a)\n",
    "print(\"b innerproduct a :\")\n",
    "print(np.dot(b,a))\n",
    "print(\"Inner product of a and c\")\n",
    "print(np.dot(a,c))"
   ]
  },
  {
   "cell_type": "markdown",
   "metadata": {
    "colab_type": "text",
    "id": "vyqqVvBbicF2"
   },
   "source": [
    "It is also possible to generate cross products of matrices and vectors:"
   ]
  },
  {
   "cell_type": "code",
   "execution_count": 72,
   "metadata": {
    "colab": {
     "base_uri": "https://localhost:8080/"
    },
    "colab_type": "code",
    "id": "lykas445iL4k",
    "outputId": "81855527-df67-4227-ddda-b0cc7761acaf"
   },
   "outputs": [
    {
     "data": {
      "text/plain": [
       "array([ 4., -1., -6.])"
      ]
     },
     "execution_count": 72,
     "metadata": {},
     "output_type": "execute_result"
    }
   ],
   "source": [
    "a = np.array([1, 4, 0], float)\n",
    "b = np.array([2, 2, 1], float)\n",
    "np.cross(a, b)"
   ]
  },
  {
   "cell_type": "markdown",
   "metadata": {
    "colab_type": "text",
    "id": "w-_MfuykjATS"
   },
   "source": [
    "NumPy also comes with a number of built-in routines for linear algebra calculations. These can be found in the sub-module `linalg`. Among these are routines for dealing with matrices and their inverses. The determinant of a matrix can be found:"
   ]
  },
  {
   "cell_type": "code",
   "execution_count": 73,
   "metadata": {
    "colab": {
     "base_uri": "https://localhost:8080/"
    },
    "colab_type": "code",
    "id": "PED7JRHGiwkV",
    "outputId": "a41b69e5-35dc-4f9d-cd1d-4077106094fe"
   },
   "outputs": [
    {
     "name": "stdout",
     "output_type": "stream",
     "text": [
      "a :[[4. 2. 0.]\n",
      " [9. 3. 7.]\n",
      " [1. 2. 1.]]\n"
     ]
    },
    {
     "data": {
      "text/plain": [
       "-48.00000000000003"
      ]
     },
     "execution_count": 73,
     "metadata": {},
     "output_type": "execute_result"
    }
   ],
   "source": [
    "a = np.array([[4, 2, 0], [9, 3, 7], [1, 2, 1]], float)\n",
    "print(\"a :\" + str(a))\n",
    "np.linalg.det(a)"
   ]
  },
  {
   "cell_type": "code",
   "execution_count": 74,
   "metadata": {
    "colab": {
     "base_uri": "https://localhost:8080/"
    },
    "colab_type": "code",
    "id": "zf2eYlA9jLAL",
    "outputId": "75d1b3cd-97d3-49eb-9f82-d319f57ff109"
   },
   "outputs": [
    {
     "data": {
      "text/plain": [
       "0.0"
      ]
     },
     "execution_count": 74,
     "metadata": {},
     "output_type": "execute_result"
    }
   ],
   "source": [
    "a = np.array([[1, 2, 3], [4, 5, 6], [7, 8, 9]], float)\n",
    "np.linalg.det(a)"
   ]
  },
  {
   "cell_type": "markdown",
   "metadata": {
    "colab_type": "text",
    "id": "a127cwn0jeyB"
   },
   "source": [
    "One can find the eigenvalues and eigenvectors of a matrix:\n"
   ]
  },
  {
   "cell_type": "code",
   "execution_count": 75,
   "metadata": {
    "colab": {
     "base_uri": "https://localhost:8080/"
    },
    "colab_type": "code",
    "id": "as61eF_WjXS1",
    "outputId": "63f5d9c5-fc6f-4b58-9266-9d55126b1da3"
   },
   "outputs": [
    {
     "name": "stdout",
     "output_type": "stream",
     "text": [
      "[ 8.85591316  1.9391628  -2.79507597]\n",
      "[[-0.3663565  -0.54736745  0.25928158]\n",
      " [-0.88949768  0.5640176  -0.88091903]\n",
      " [-0.27308752  0.61828231  0.39592263]]\n"
     ]
    }
   ],
   "source": [
    "a = np.array([[4, 2, 0], [9, 3, 7], [1, 2, 1]], float)\n",
    "vals, vecs = np.linalg.eig(a)\n",
    "print(vals)\n",
    "print(vecs)"
   ]
  },
  {
   "cell_type": "markdown",
   "metadata": {
    "colab_type": "text",
    "id": "LVCD8nq7jwLT"
   },
   "source": [
    "The inverse of a matrix can be found as:"
   ]
  },
  {
   "cell_type": "code",
   "execution_count": 76,
   "metadata": {
    "colab": {
     "base_uri": "https://localhost:8080/"
    },
    "colab_type": "code",
    "id": "ZkHLttFZjm3F",
    "outputId": "e4c39e8f-6922-40c7-d2da-6a8075c72661"
   },
   "outputs": [
    {
     "name": "stdout",
     "output_type": "stream",
     "text": [
      "[[ 0.22916667  0.04166667 -0.29166667]\n",
      " [ 0.04166667 -0.08333333  0.58333333]\n",
      " [-0.3125      0.125       0.125     ]]\n"
     ]
    }
   ],
   "source": [
    "b = np.linalg.inv(a)\n",
    "print(b)"
   ]
  },
  {
   "cell_type": "code",
   "execution_count": 77,
   "metadata": {
    "colab": {
     "base_uri": "https://localhost:8080/"
    },
    "colab_type": "code",
    "id": "tsGnM7fZj2vu",
    "outputId": "42c56509-43c8-4932-d68b-a7c57bf461b2"
   },
   "outputs": [
    {
     "data": {
      "text/plain": [
       "array([[1.00000000e+00, 5.55111512e-17, 0.00000000e+00],\n",
       "       [0.00000000e+00, 1.00000000e+00, 2.22044605e-16],\n",
       "       [0.00000000e+00, 1.38777878e-17, 1.00000000e+00]])"
      ]
     },
     "execution_count": 77,
     "metadata": {},
     "output_type": "execute_result"
    }
   ],
   "source": [
    "np.dot(a,b)"
   ]
  },
  {
   "cell_type": "code",
   "execution_count": null,
   "metadata": {
    "colab": {},
    "colab_type": "code",
    "id": "qP9qiCVLj7Sx"
   },
   "outputs": [],
   "source": []
  },
  {
   "cell_type": "markdown",
   "metadata": {
    "colab_type": "text",
    "id": "DeamJSrykCcG"
   },
   "source": [
    "# Polynomial Mathematics\n",
    "NumPy supplies methods for working with polynomials. Given a set of roots, it is possible to show the polynomial coefficients:"
   ]
  },
  {
   "cell_type": "code",
   "execution_count": 78,
   "metadata": {
    "colab": {
     "base_uri": "https://localhost:8080/",
     "height": 34
    },
    "colab_type": "code",
    "id": "D04iZtEokH5J",
    "outputId": "44464e5e-4a23-4dea-94b8-f0c60a32bbf5"
   },
   "outputs": [
    {
     "data": {
      "text/plain": [
       "array([  1., -11.,   9.,  11., -10.])"
      ]
     },
     "execution_count": 78,
     "metadata": {},
     "output_type": "execute_result"
    }
   ],
   "source": [
    "np.poly([-1, 1, 1, 10])"
   ]
  },
  {
   "cell_type": "markdown",
   "metadata": {
    "colab_type": "text",
    "id": "Mv2zOE_nkP_N"
   },
   "source": [
    "Here, the return array gives the coefficients corresponding to $x^4−11x^3+9x^2+11x−10$.\n",
    "\n",
    "The opposite operation can be performed: given a set of coefficients, the root function returns all of the polynomial roots:"
   ]
  },
  {
   "cell_type": "code",
   "execution_count": 79,
   "metadata": {
    "colab": {
     "base_uri": "https://localhost:8080/",
     "height": 51
    },
    "colab_type": "code",
    "id": "7V7HtuI3kMSV",
    "outputId": "c9797a27-497b-4461-8281-d8d190792136"
   },
   "outputs": [
    {
     "data": {
      "text/plain": [
       "array([-4.5797401 +0.j        ,  0.28987005+0.75566815j,\n",
       "        0.28987005-0.75566815j])"
      ]
     },
     "execution_count": 79,
     "metadata": {},
     "output_type": "execute_result"
    }
   ],
   "source": [
    "np.roots([1,4,-2,3])"
   ]
  },
  {
   "cell_type": "markdown",
   "metadata": {
    "colab_type": "text",
    "id": "RllVhiQTlDhl"
   },
   "source": [
    "Notice here that two of the roots of $x^3+4x^2−2x+3$ are imaginary.\n",
    "\n",
    "Coefficient arrays of polynomials can be integrated. Consider integrating $x^3+x^2+x+1$ to $x^4/4+x^3/3+x^2/2+x+𝐶$. By default, the constant 𝐶 is set to zero:"
   ]
  },
  {
   "cell_type": "code",
   "execution_count": 80,
   "metadata": {
    "colab": {
     "base_uri": "https://localhost:8080/",
     "height": 34
    },
    "colab_type": "code",
    "id": "rHpq591Fk_r8",
    "outputId": "a4166ed3-0fdd-4cbe-96ba-d90d16ea2c8e"
   },
   "outputs": [
    {
     "name": "stdout",
     "output_type": "stream",
     "text": [
      "[0.25       0.33333333 0.5        1.         0.        ]\n"
     ]
    }
   ],
   "source": [
    "integraal = np.polyint([1, 1, 1, 1])\n",
    "print(integraal)"
   ]
  },
  {
   "cell_type": "markdown",
   "metadata": {
    "colab_type": "text",
    "id": "W4VC8Ionldai"
   },
   "source": [
    "Similarly, derivatives can be taken:"
   ]
  },
  {
   "cell_type": "code",
   "execution_count": 81,
   "metadata": {
    "colab": {
     "base_uri": "https://localhost:8080/",
     "height": 34
    },
    "colab_type": "code",
    "id": "6kcclt2NlY71",
    "outputId": "5349522a-07bb-4063-eb3a-006d0b0f43bf"
   },
   "outputs": [
    {
     "data": {
      "text/plain": [
       "array([1., 1., 1., 1.])"
      ]
     },
     "execution_count": 81,
     "metadata": {},
     "output_type": "execute_result"
    }
   ],
   "source": [
    "np.polyder(integraal)"
   ]
  },
  {
   "cell_type": "markdown",
   "metadata": {
    "colab_type": "text",
    "id": "1GyWVwb0lusD"
   },
   "source": [
    "The functions `polyadd`, `polysub`, `polymul`, and `polydiv` also handle proper addition, subtraction, multiplication, and division of polynomial coefficients, respectively.\n",
    "The function `polyval` evaluates a polynomial at a particular point. Consider $x^3−2x^2+2$ evaluated at $x=4$:"
   ]
  },
  {
   "cell_type": "code",
   "execution_count": 82,
   "metadata": {
    "colab": {
     "base_uri": "https://localhost:8080/",
     "height": 34
    },
    "colab_type": "code",
    "id": "Y-xn9-aplf6_",
    "outputId": "ddae5478-cc3b-4ff6-df77-f24ce12c2cb1"
   },
   "outputs": [
    {
     "data": {
      "text/plain": [
       "34"
      ]
     },
     "execution_count": 82,
     "metadata": {},
     "output_type": "execute_result"
    }
   ],
   "source": [
    "np.polyval([1, -2, 0, 2],4)"
   ]
  },
  {
   "cell_type": "markdown",
   "metadata": {
    "colab_type": "text",
    "id": "2hkef3Vql_ZF"
   },
   "source": [
    "Finally, the `polyfit` function can be used to fit a polynomial of specified order to a set of data using a least-squares approach:"
   ]
  },
  {
   "cell_type": "code",
   "execution_count": 83,
   "metadata": {
    "colab": {
     "base_uri": "https://localhost:8080/",
     "height": 34
    },
    "colab_type": "code",
    "id": "2fU5RGcnl83N",
    "outputId": "74fb4129-a132-41b2-eb89-dd40766ed57d"
   },
   "outputs": [
    {
     "data": {
      "text/plain": [
       "array([ 0.375     , -0.88690476,  1.05357143])"
      ]
     },
     "execution_count": 83,
     "metadata": {},
     "output_type": "execute_result"
    }
   ],
   "source": [
    "x = [1, 2, 3, 4, 5, 6, 7, 8]\n",
    "y = [0, 2, 1, 3, 7, 10, 11, 19]\n",
    "np.polyfit(x,y,2)"
   ]
  },
  {
   "cell_type": "code",
   "execution_count": null,
   "metadata": {
    "colab": {},
    "colab_type": "code",
    "id": "IRXhSM2KmI-B"
   },
   "outputs": [],
   "source": []
  },
  {
   "cell_type": "markdown",
   "metadata": {
    "colab_type": "text",
    "id": "1HxxfGG9XY_x"
   },
   "source": [
    "# Basic plotting with Matplotlib\n",
    "To plot graphs or a set of results you can use the package Matplotlib.  You can install it in pycharm the usual way.  You need to import the package in your script or program:\n",
    "\n",
    "```\n",
    "import numpy as np\n",
    "import matplotlib.pyplot as plt\n",
    "```\n",
    "\n",
    "Usually we use the renaming as `plt` as it is more convenient to use this in your code.  The package matplotlib requires numpy so you'll have to import the numpy package as well."
   ]
  },
  {
   "cell_type": "code",
   "execution_count": 84,
   "metadata": {
    "colab": {},
    "colab_type": "code",
    "id": "-B4iNN-4bO_0"
   },
   "outputs": [],
   "source": [
    "import matplotlib.pyplot as plt"
   ]
  },
  {
   "cell_type": "markdown",
   "metadata": {
    "colab_type": "text",
    "id": "qqGxCUSQagej"
   },
   "source": [
    "## Line plots\n",
    "\n",
    "Documentation\n",
    "\n",
    "* [plot tutorial](https://matplotlib.org/tutorials/introductory/pyplot.html)\n",
    "* [plot](https://matplotlib.org/api/pyplot_api.html#matplotlib.pyplot.plot)\n",
    "\n",
    "Matplotlib comes with a set of default settings that allow customizing all kinds of properties. You can control the defaults of almost every property in matplotlib: figure size and dpi, line width, color and style, axes, axis and grid properties, text and font properties and so on. While matplotlib defaults are rather good in most cases, you may want to modify some properties for specific cases.\n",
    "\n",
    "The basic syntax for creating line plots is `plt.plot(x,y)`, where `x` and `y` are arrays of the same length that specify the $(x,y)$ pairs that from the line. For example, let's plot the cosine function from $-2$ to $1$.  To do so, we need to provide a discretization (grid) of the values along the x-axis, and evaluate the function on each $x$ value.  This can typically be done with `numpy.arange`or `numpy.linspace`.\n"
   ]
  },
  {
   "cell_type": "code",
   "execution_count": 85,
   "metadata": {
    "colab": {
     "base_uri": "https://localhost:8080/",
     "height": 265
    },
    "colab_type": "code",
    "id": "PdhlP2bYZay_",
    "outputId": "3bfecb50-f831-42f2-eff7-ad4836624077"
   },
   "outputs": [
    {
     "data": {
      "image/png": "[encoded data removed]",
      "text/plain": [
       "<Figure size 432x288 with 1 Axes>"
      ]
     },
     "metadata": {
      "needs_background": "light"
     },
     "output_type": "display_data"
    }
   ],
   "source": [
    "xvals = np.arange(-2,1,0.01)\n",
    "yvals = np.cos(xvals)\n",
    "plt.plot(xvals,yvals)\n",
    "plt.show()"
   ]
  },
  {
   "cell_type": "markdown",
   "metadata": {
    "colab_type": "text",
    "id": "8ATg1LC2bh1W"
   },
   "source": [
    "You should put the `plt.show`command last after you have made all relevant changes to the plot. You can create multiple figures by creating new figure windows with `plt.figure()`. To output all these figures at once, you should only have on `plt.show()` command at the very end. \n",
    "\n",
    "Suppose we want to add another plot, the quadratic approximation to the cosine function. We do so below using a different color and line type. We also add a title (`plt.title('Your title')`) and axis labels, which is *highly recommended* in your own work:\n",
    "\n",
    "*   Adding at title: `plt.title('The title of the figure')`\n",
    "*   Adding a label on the X-axis: `plt.xlabel('The label on the x-axis')`\n",
    "*   Adding a label on the Y-axis: `plt.ylabel('The label on the Y-axis')`\n"
   ]
  },
  {
   "cell_type": "code",
   "execution_count": 86,
   "metadata": {
    "colab": {
     "base_uri": "https://localhost:8080/",
     "height": 295
    },
    "colab_type": "code",
    "id": "cxotGn2qbcRr",
    "outputId": "a1ec2883-19f6-424b-c1fd-9590f0a685ab"
   },
   "outputs": [
    {
     "data": {
      "image/png": "[encoded data removed]",
      "text/plain": [
       "<Figure size 432x288 with 1 Axes>"
      ]
     },
     "metadata": {
      "needs_background": "light"
     },
     "output_type": "display_data"
    }
   ],
   "source": [
    "newyvals = 1 - 0.5 * xvals**2       # Evaluate quadratic approximation on xvals\n",
    "plt.plot(xvals, newyvals, linestyle='--', color='red')    # Create line plot with red dashed line\n",
    "plt.title('Example plots')\n",
    "plt.xlabel('Input')\n",
    "plt.ylabel('Function values')\n",
    "plt.show()                          # Show the figure (remove the previous instance)"
   ]
  },
  {
   "cell_type": "markdown",
   "metadata": {
    "colab_type": "text",
    "id": "0bX5KZhmdF6X"
   },
   "source": [
    "It is a better idea to generate the data with `linspace` as it will divide a range in a number of equal intervals."
   ]
  },
  {
   "cell_type": "markdown",
   "metadata": {
    "colab_type": "text",
    "id": "4W9QTrr6d7xl"
   },
   "source": [
    "Multiple lines can also be plotted. After the plot-commands ze can show a legend using `plt.legend()`.  In this case you can use the label option in the plot commands to indicate which labels you want to show in the legend. To increase the readability in your graph you can also add a grid to make it easier to read the values in the graph using `plt.grid(True)`. "
   ]
  },
  {
   "cell_type": "code",
   "execution_count": 87,
   "metadata": {
    "colab": {
     "base_uri": "https://localhost:8080/",
     "height": 265
    },
    "colab_type": "code",
    "id": "YDN50fX5cfHA",
    "outputId": "9f6740ae-0888-482d-b310-478f7fc09ad4"
   },
   "outputs": [
    {
     "data": {
      "image/png": "[encoded data removed]",
      "text/plain": [
       "<Figure size 432x288 with 1 Axes>"
      ]
     },
     "metadata": {
      "needs_background": "light"
     },
     "output_type": "display_data"
    }
   ],
   "source": [
    "x = np.arange(0,100.5,5)        # Generate x-axis values\n",
    "y1 = 2.0*np.sqrt(x)               # Calculate y1 values\n",
    "y2 = 3.0*x**(1.0/3.0)             # Calculate y2 values\n",
    "plt.plot(x,y1,color='red',linestyle='-',marker='o',label='Actual')                    # Plot y1\n",
    "plt.plot(x,y2,color='green',linestyle='--',marker='^',label='Approximation')            # Plot y2\n",
    "plt.legend()                    # Add a legend to the graph\n",
    "plt.grid(True)                  # Add a grid\n",
    "plt.show()                        # Display plot to screen"
   ]
  },
  {
   "cell_type": "markdown",
   "metadata": {
    "colab_type": "text",
    "id": "K2m8zHaVfeRm"
   },
   "source": [
    "## Scatter plots\n",
    "\n",
    "Scatter plots dsiplay values for two sets of data.  The visualization is done as a collection of points an not connected by lines.  Each of them has its coordinates determinded by the value of the variables. One variable determines the X position, the other the Y-position).\n",
    "\n",
    "A scatter plot is often used to identify potential association between two variables, and it's often drawn before working on a fitting regression function. It gives a good visual picture of the correlation, in particular for nonlinear relationships.\n",
    "\n",
    "Matplotlib provides the `scatter()` function to plot X versus Y unidimensional\n",
    "array of the same length as scatter plot.\n",
    "\n",
    "Let's show an example, again by using the `randn()` NumPy function to generate\n",
    "our datasets (so no correlation can be searched here)."
   ]
  },
  {
   "cell_type": "code",
   "execution_count": 88,
   "metadata": {
    "colab": {
     "base_uri": "https://localhost:8080/",
     "height": 265
    },
    "colab_type": "code",
    "id": "uCCQzQWrj5kh",
    "outputId": "dbd10a06-72c2-49b5-e6d0-c764094afcd3"
   },
   "outputs": [
    {
     "data": {
      "image/png": "[encoded data removed]",
      "text/plain": [
       "<Figure size 432x288 with 1 Axes>"
      ]
     },
     "metadata": {
      "needs_background": "light"
     },
     "output_type": "display_data"
    }
   ],
   "source": [
    "x = np.random.randn(1000)   # Generate 1000 numbers from a normal distribution\n",
    "y = np.random.randn(1000)   #  \n",
    "plt.scatter(x,y)            # Invoke the scatter plot\n",
    "plt.show()"
   ]
  },
  {
   "cell_type": "markdown",
   "metadata": {
    "colab_type": "text",
    "id": "ZuseVwxekJ2Y"
   },
   "source": [
    "We can vary the size of the markers based on the distance to the origin `(0,0)`.\n",
    "We have to calculate the distance first and we provide this as an option `s=` with the scatter command. We can also change the color of the points with the option `c=`. Both options should have a size equal to the number of points.\n",
    "\n",
    "In the example below, we use the `where` function of numpy to determine the indices of the rows where a certain condition holds.  "
   ]
  },
  {
   "cell_type": "code",
   "execution_count": 89,
   "metadata": {
    "colab": {
     "base_uri": "https://localhost:8080/",
     "height": 265
    },
    "colab_type": "code",
    "id": "XbCDgaZGkomB",
    "outputId": "49950e6f-6513-4f37-d5cc-7aca26470949"
   },
   "outputs": [
    {
     "data": {
      "image/png": "[encoded data removed]",
      "text/plain": [
       "<Figure size 432x288 with 1 Axes>"
      ]
     },
     "metadata": {
      "needs_background": "light"
     },
     "output_type": "display_data"
    }
   ],
   "source": [
    "distance = 10-np.sqrt(x**2 + y**2)     # calculation of the distance and subtract it from a reference size 10\n",
    "colors = np.zeros_like(distance)\n",
    "colors[np.where((x>0) & (y>0))] = 1\n",
    "colors[np.where((x<0) & (y>0))] = 0.75\n",
    "colors[np.where((x<0) & (y<0))] = 0.5\n",
    "colors[np.where((x>0) & (y>0))] = 0.25\n",
    "\n",
    "plt.scatter(x,y,s=distance,c=colors)\n",
    "plt.show()"
   ]
  },
  {
   "cell_type": "markdown",
   "metadata": {
    "colab_type": "text",
    "id": "Ov8gxXUshQyP"
   },
   "source": [
    "## Histograms\n",
    "\n",
    "Histogram plots are also possible.  In this example we generate 10000 numbers from a Gaussian distribution with a mean of 100 and a standarddeviation of 15.  \n",
    "After specifying the number of bins, we can easily generate a histogram."
   ]
  },
  {
   "cell_type": "code",
   "execution_count": 90,
   "metadata": {
    "colab": {
     "base_uri": "https://localhost:8080/",
     "height": 297
    },
    "colab_type": "code",
    "id": "2UMJEv79ez96",
    "outputId": "432157ce-4356-4a08-a170-72eee4787603"
   },
   "outputs": [
    {
     "data": {
      "image/png": "[encoded data removed]",
      "text/plain": [
       "<Figure size 432x288 with 1 Axes>"
      ]
     },
     "metadata": {
      "needs_background": "light"
     },
     "output_type": "display_data"
    }
   ],
   "source": [
    "# Example data\n",
    "mu = 100          # mean of distribution\n",
    "sigma = 15        # standard deviation of distribution\n",
    "x = mu + sigma * np.random.randn(10000) # Generate 10000 randomnumbers and shift them to the gaussian distribution\n",
    "\n",
    "num_bins = 30\n",
    "# the histogram of the data\n",
    "n, bins, patches = plt.hist(x,num_bins,facecolor='green')\n",
    "plt.xlabel('bins')\n",
    "plt.ylabel('Occurance')\n",
    "plt.title('Histogram : $\\mu=100$, $\\sigma=15$')\n",
    "plt.show()"
   ]
  },
  {
   "cell_type": "markdown",
   "metadata": {
    "colab_type": "text",
    "id": "bKuHsGML9fp8"
   },
   "source": [
    "# Manipulationg and Analyzing data with Pandas\n",
    "\n",
    "Pandas stands for Python Data Analysis Library.  It is an open source library providing easy-to-use data structures and data analysis tools for Python.  It is built on top of Numpy.  As with Numpy, Pandas is huge and we will not be able to handle everything of the library.  This is meant as an introduction.  The user community in of Numpy and Pandas is huge, so if there are any problems googling the problem may come up with answers.\n",
    "\n",
    "Pandas is well suited for many different kinds of data:\n",
    "\n",
    "* Tabular data with heterogeneously-typed columns, as in an database or Excel spreadsheet\n",
    "* Ordered and unordered time series data\n",
    "* Arbitrary matrix data with row and column labels\n",
    "* Any other form of observational/statistical data sets\n",
    "\n",
    "There are a number of advantages in using Pandas over ordinary Python data structures such as Lists, Sets or dictionaries:\n",
    "\n",
    "* Pandas handles missing data very well in floating-point data as well as non-floating point data\n",
    "* Size mutability: Columns can be inserted and deleted\n",
    "* Intelligent label-based slicing, fancy indexing of large datasets\n",
    "\n",
    "Pandas uses two primary data structures: `Series` (1-dimensional) and `DataFrame` 2-dimensional to handle a vast majority of typical use cases in finances, statistics, social science and many areas of engineering.   Pandas gives a semantical meaning to the axes: Columns as variables and Rows as Observations.\n",
    "\n",
    "Importing the pandas packages goes like this:\n",
    "\n",
    "```\n",
    "import pandas\n",
    "```\n",
    "\n",
    "Usually, we import pandas by assigning the package alias:\n",
    "\n",
    "```\n",
    "import pandas as pd\n",
    "```\n"
   ]
  },
  {
   "cell_type": "code",
   "execution_count": 91,
   "metadata": {
    "colab": {},
    "colab_type": "code",
    "id": "t7UeaTJll6hE"
   },
   "outputs": [],
   "source": [
    "import pandas as pd"
   ]
  },
  {
   "cell_type": "markdown",
   "metadata": {
    "colab_type": "text",
    "id": "Zh3ctZxucNGw"
   },
   "source": [
    "## Basics in Pandas"
   ]
  },
  {
   "cell_type": "markdown",
   "metadata": {
    "colab_type": "text",
    "id": "3ATIEaNbBJ71"
   },
   "source": [
    "Let's for example define a dataset of names, ages, gender and rating by a matrix structure (lists of lists)."
   ]
  },
  {
   "cell_type": "code",
   "execution_count": 92,
   "metadata": {
    "colab": {},
    "colab_type": "code",
    "id": "l_xd9fO5BJIg"
   },
   "outputs": [],
   "source": [
    "data = [['Steve', 32, 'M', 3.45], \n",
    "        ['Lia', 28, 'F', 4.6],\n",
    "        ['Vic', 45, 'M', 3.9],\n",
    "        ['Katie', 38, 'F', 2.78]]\n",
    "cols = ['Names', 'Age', 'Gender', 'Rating']"
   ]
  },
  {
   "cell_type": "markdown",
   "metadata": {
    "colab_type": "text",
    "id": "kJfsGvkvE3MP"
   },
   "source": [
    "We can make a DataFrame object as if we would instantiate it.\n"
   ]
  },
  {
   "cell_type": "code",
   "execution_count": 93,
   "metadata": {
    "colab": {
     "base_uri": "https://localhost:8080/",
     "height": 173
    },
    "colab_type": "code",
    "id": "WHTLJM76CcOL",
    "outputId": "65c8dd77-81fe-4ecb-d5ae-13357ffe600d"
   },
   "outputs": [
    {
     "data": {
      "text/html": [
       "<div>\n",
       "<style scoped>\n",
       "    .dataframe tbody tr th:only-of-type {\n",
       "        vertical-align: middle;\n",
       "    }\n",
       "\n",
       "    .dataframe tbody tr th {\n",
       "        vertical-align: top;\n",
       "    }\n",
       "\n",
       "    .dataframe thead th {\n",
       "        text-align: right;\n",
       "    }\n",
       "</style>\n",
       "<table border=\"1\" class=\"dataframe\">\n",
       "  <thead>\n",
       "    <tr style=\"text-align: right;\">\n",
       "      <th></th>\n",
       "      <th>Names</th>\n",
       "      <th>Age</th>\n",
       "      <th>Gender</th>\n",
       "      <th>Rating</th>\n",
       "    </tr>\n",
       "  </thead>\n",
       "  <tbody>\n",
       "    <tr>\n",
       "      <th>0</th>\n",
       "      <td>Steve</td>\n",
       "      <td>32</td>\n",
       "      <td>M</td>\n",
       "      <td>3.45</td>\n",
       "    </tr>\n",
       "    <tr>\n",
       "      <th>1</th>\n",
       "      <td>Lia</td>\n",
       "      <td>28</td>\n",
       "      <td>F</td>\n",
       "      <td>4.60</td>\n",
       "    </tr>\n",
       "    <tr>\n",
       "      <th>2</th>\n",
       "      <td>Vic</td>\n",
       "      <td>45</td>\n",
       "      <td>M</td>\n",
       "      <td>3.90</td>\n",
       "    </tr>\n",
       "    <tr>\n",
       "      <th>3</th>\n",
       "      <td>Katie</td>\n",
       "      <td>38</td>\n",
       "      <td>F</td>\n",
       "      <td>2.78</td>\n",
       "    </tr>\n",
       "  </tbody>\n",
       "</table>\n",
       "</div>"
      ],
      "text/plain": [
       "   Names  Age Gender  Rating\n",
       "0  Steve   32      M    3.45\n",
       "1    Lia   28      F    4.60\n",
       "2    Vic   45      M    3.90\n",
       "3  Katie   38      F    2.78"
      ]
     },
     "execution_count": 93,
     "metadata": {},
     "output_type": "execute_result"
    }
   ],
   "source": [
    "df = pd.DataFrame(data=data,columns=cols)\n",
    "df"
   ]
  },
  {
   "cell_type": "markdown",
   "metadata": {
    "colab_type": "text",
    "id": "_wkk3t3YGJcA"
   },
   "source": [
    "You can use the column name to extract data in a particular column. To select multiple columns, you need to use two times the bracket `[[..,..]]`"
   ]
  },
  {
   "cell_type": "code",
   "execution_count": 94,
   "metadata": {
    "colab": {
     "base_uri": "https://localhost:8080/",
     "height": 272
    },
    "colab_type": "code",
    "id": "r4AkIfXOCezH",
    "outputId": "f6b3451b-dfde-4fb5-9cfc-c7d587707c95"
   },
   "outputs": [
    {
     "name": "stdout",
     "output_type": "stream",
     "text": [
      "0    Steve\n",
      "1      Lia\n",
      "2      Vic\n",
      "3    Katie\n",
      "Name: Names, dtype: object\n",
      "  Gender  Rating\n",
      "0      M    3.45\n",
      "1      F    4.60\n",
      "2      M    3.90\n",
      "3      F    2.78\n",
      "0    M\n",
      "1    F\n",
      "2    M\n",
      "3    F\n",
      "Name: Gender, dtype: object\n"
     ]
    }
   ],
   "source": [
    "print(df['Names'])\n",
    "print(df[['Gender','Rating']])\n",
    "print(df.Gender) # same as df['Gender']"
   ]
  },
  {
   "cell_type": "markdown",
   "metadata": {
    "colab_type": "text",
    "id": "9q79Ow-lzuO8"
   },
   "source": [
    "We can determine the shape, size, the columns and index of the dataframe as follows:"
   ]
  },
  {
   "cell_type": "code",
   "execution_count": 95,
   "metadata": {
    "colab": {
     "base_uri": "https://localhost:8080/",
     "height": 85
    },
    "colab_type": "code",
    "id": "rbrfMdmGz2d1",
    "outputId": "1937d7bf-f05c-4769-8f97-b12721db93ed"
   },
   "outputs": [
    {
     "name": "stdout",
     "output_type": "stream",
     "text": [
      "(4, 4)\n",
      "16\n",
      "Index(['Names', 'Age', 'Gender', 'Rating'], dtype='object')\n",
      "RangeIndex(start=0, stop=4, step=1)\n"
     ]
    }
   ],
   "source": [
    "print(df.shape)\n",
    "print(df.size)\n",
    "print(df.columns)\n",
    "print(df.index)"
   ]
  },
  {
   "cell_type": "markdown",
   "metadata": {
    "colab_type": "text",
    "id": "DAKwVuLcHOsk"
   },
   "source": [
    "You can slice the data also in the rows."
   ]
  },
  {
   "cell_type": "code",
   "execution_count": 96,
   "metadata": {
    "colab": {
     "base_uri": "https://localhost:8080/",
     "height": 111
    },
    "colab_type": "code",
    "id": "xLSCqBESGfOT",
    "outputId": "03a158ec-4d02-4907-f09b-3be92eca9055"
   },
   "outputs": [
    {
     "data": {
      "text/html": [
       "<div>\n",
       "<style scoped>\n",
       "    .dataframe tbody tr th:only-of-type {\n",
       "        vertical-align: middle;\n",
       "    }\n",
       "\n",
       "    .dataframe tbody tr th {\n",
       "        vertical-align: top;\n",
       "    }\n",
       "\n",
       "    .dataframe thead th {\n",
       "        text-align: right;\n",
       "    }\n",
       "</style>\n",
       "<table border=\"1\" class=\"dataframe\">\n",
       "  <thead>\n",
       "    <tr style=\"text-align: right;\">\n",
       "      <th></th>\n",
       "      <th>Names</th>\n",
       "      <th>Age</th>\n",
       "      <th>Gender</th>\n",
       "      <th>Rating</th>\n",
       "    </tr>\n",
       "  </thead>\n",
       "  <tbody>\n",
       "    <tr>\n",
       "      <th>2</th>\n",
       "      <td>Vic</td>\n",
       "      <td>45</td>\n",
       "      <td>M</td>\n",
       "      <td>3.90</td>\n",
       "    </tr>\n",
       "    <tr>\n",
       "      <th>3</th>\n",
       "      <td>Katie</td>\n",
       "      <td>38</td>\n",
       "      <td>F</td>\n",
       "      <td>2.78</td>\n",
       "    </tr>\n",
       "  </tbody>\n",
       "</table>\n",
       "</div>"
      ],
      "text/plain": [
       "   Names  Age Gender  Rating\n",
       "2    Vic   45      M    3.90\n",
       "3  Katie   38      F    2.78"
      ]
     },
     "execution_count": 96,
     "metadata": {},
     "output_type": "execute_result"
    }
   ],
   "source": [
    "df[2:]"
   ]
  },
  {
   "cell_type": "markdown",
   "metadata": {
    "colab_type": "text",
    "id": "V3yvd6w0b9OC"
   },
   "source": [
    "We can also perform queries on the data to look things up or to do some preliminary analysis."
   ]
  },
  {
   "cell_type": "code",
   "execution_count": 97,
   "metadata": {
    "colab": {
     "base_uri": "https://localhost:8080/",
     "height": 80
    },
    "colab_type": "code",
    "id": "kycvwrLZG9JO",
    "outputId": "eef4a3ef-75d1-4e72-a424-8e32133fd4f9"
   },
   "outputs": [
    {
     "data": {
      "text/html": [
       "<div>\n",
       "<style scoped>\n",
       "    .dataframe tbody tr th:only-of-type {\n",
       "        vertical-align: middle;\n",
       "    }\n",
       "\n",
       "    .dataframe tbody tr th {\n",
       "        vertical-align: top;\n",
       "    }\n",
       "\n",
       "    .dataframe thead th {\n",
       "        text-align: right;\n",
       "    }\n",
       "</style>\n",
       "<table border=\"1\" class=\"dataframe\">\n",
       "  <thead>\n",
       "    <tr style=\"text-align: right;\">\n",
       "      <th></th>\n",
       "      <th>Names</th>\n",
       "      <th>Age</th>\n",
       "      <th>Gender</th>\n",
       "      <th>Rating</th>\n",
       "    </tr>\n",
       "  </thead>\n",
       "  <tbody>\n",
       "    <tr>\n",
       "      <th>1</th>\n",
       "      <td>Lia</td>\n",
       "      <td>28</td>\n",
       "      <td>F</td>\n",
       "      <td>4.6</td>\n",
       "    </tr>\n",
       "  </tbody>\n",
       "</table>\n",
       "</div>"
      ],
      "text/plain": [
       "  Names  Age Gender  Rating\n",
       "1   Lia   28      F     4.6"
      ]
     },
     "execution_count": 97,
     "metadata": {},
     "output_type": "execute_result"
    }
   ],
   "source": [
    "df.query('Rating > 4')"
   ]
  },
  {
   "cell_type": "markdown",
   "metadata": {
    "colab_type": "text",
    "id": "NAx5ZRfo0HNs"
   },
   "source": [
    "## Data Analysis in Pandas\n",
    "\n",
    "We can create ranges also like numpy, but also date ranges.  Using the `data_range` command we can make a range of dates by specifying the periods option."
   ]
  },
  {
   "cell_type": "code",
   "execution_count": 98,
   "metadata": {
    "colab": {
     "base_uri": "https://localhost:8080/",
     "height": 255
    },
    "colab_type": "code",
    "id": "RfXUdP--0VK9",
    "outputId": "698f8d33-db50-4702-b885-6604d01cf37a"
   },
   "outputs": [
    {
     "name": "stdout",
     "output_type": "stream",
     "text": [
      "DatetimeIndex(['2020-04-13', '2020-04-14', '2020-04-15', '2020-04-16',\n",
      "               '2020-04-17'],\n",
      "              dtype='datetime64[ns]', freq='D')\n"
     ]
    },
    {
     "data": {
      "text/html": [
       "<div>\n",
       "<style scoped>\n",
       "    .dataframe tbody tr th:only-of-type {\n",
       "        vertical-align: middle;\n",
       "    }\n",
       "\n",
       "    .dataframe tbody tr th {\n",
       "        vertical-align: top;\n",
       "    }\n",
       "\n",
       "    .dataframe thead th {\n",
       "        text-align: right;\n",
       "    }\n",
       "</style>\n",
       "<table border=\"1\" class=\"dataframe\">\n",
       "  <thead>\n",
       "    <tr style=\"text-align: right;\">\n",
       "      <th></th>\n",
       "      <th>A</th>\n",
       "      <th>B</th>\n",
       "      <th>C</th>\n",
       "      <th>D</th>\n",
       "    </tr>\n",
       "  </thead>\n",
       "  <tbody>\n",
       "    <tr>\n",
       "      <th>2020-04-13</th>\n",
       "      <td>-0.914005</td>\n",
       "      <td>-0.229022</td>\n",
       "      <td>0.413145</td>\n",
       "      <td>0.194398</td>\n",
       "    </tr>\n",
       "    <tr>\n",
       "      <th>2020-04-14</th>\n",
       "      <td>-0.602797</td>\n",
       "      <td>-0.249859</td>\n",
       "      <td>-0.165153</td>\n",
       "      <td>-0.469106</td>\n",
       "    </tr>\n",
       "    <tr>\n",
       "      <th>2020-04-15</th>\n",
       "      <td>1.700197</td>\n",
       "      <td>-0.984751</td>\n",
       "      <td>2.143542</td>\n",
       "      <td>-0.645551</td>\n",
       "    </tr>\n",
       "    <tr>\n",
       "      <th>2020-04-16</th>\n",
       "      <td>-0.702077</td>\n",
       "      <td>0.319562</td>\n",
       "      <td>-0.757003</td>\n",
       "      <td>-0.776502</td>\n",
       "    </tr>\n",
       "    <tr>\n",
       "      <th>2020-04-17</th>\n",
       "      <td>-0.632267</td>\n",
       "      <td>0.367998</td>\n",
       "      <td>-2.269400</td>\n",
       "      <td>-0.253915</td>\n",
       "    </tr>\n",
       "  </tbody>\n",
       "</table>\n",
       "</div>"
      ],
      "text/plain": [
       "                   A         B         C         D\n",
       "2020-04-13 -0.914005 -0.229022  0.413145  0.194398\n",
       "2020-04-14 -0.602797 -0.249859 -0.165153 -0.469106\n",
       "2020-04-15  1.700197 -0.984751  2.143542 -0.645551\n",
       "2020-04-16 -0.702077  0.319562 -0.757003 -0.776502\n",
       "2020-04-17 -0.632267  0.367998 -2.269400 -0.253915"
      ]
     },
     "execution_count": 98,
     "metadata": {},
     "output_type": "execute_result"
    }
   ],
   "source": [
    "dates = pd.date_range('20200413', periods=5)\n",
    "print(dates)\n",
    "df = pd.DataFrame(np.random.randn(5,4), index=dates,columns=['A','B','C','D'])\n",
    "df"
   ]
  },
  {
   "cell_type": "markdown",
   "metadata": {
    "colab_type": "text",
    "id": "k4-98o9U0_ZO"
   },
   "source": [
    "We can view the data using the first 3 rows or last 3 rows:"
   ]
  },
  {
   "cell_type": "code",
   "execution_count": 99,
   "metadata": {
    "colab": {
     "base_uri": "https://localhost:8080/",
     "height": 142
    },
    "colab_type": "code",
    "id": "Pv_Zg-o41D7C",
    "outputId": "4dccd715-111a-4dbd-af97-fe2cfb259d81"
   },
   "outputs": [
    {
     "data": {
      "text/html": [
       "<div>\n",
       "<style scoped>\n",
       "    .dataframe tbody tr th:only-of-type {\n",
       "        vertical-align: middle;\n",
       "    }\n",
       "\n",
       "    .dataframe tbody tr th {\n",
       "        vertical-align: top;\n",
       "    }\n",
       "\n",
       "    .dataframe thead th {\n",
       "        text-align: right;\n",
       "    }\n",
       "</style>\n",
       "<table border=\"1\" class=\"dataframe\">\n",
       "  <thead>\n",
       "    <tr style=\"text-align: right;\">\n",
       "      <th></th>\n",
       "      <th>A</th>\n",
       "      <th>B</th>\n",
       "      <th>C</th>\n",
       "      <th>D</th>\n",
       "    </tr>\n",
       "  </thead>\n",
       "  <tbody>\n",
       "    <tr>\n",
       "      <th>2020-04-13</th>\n",
       "      <td>-0.914005</td>\n",
       "      <td>-0.229022</td>\n",
       "      <td>0.413145</td>\n",
       "      <td>0.194398</td>\n",
       "    </tr>\n",
       "    <tr>\n",
       "      <th>2020-04-14</th>\n",
       "      <td>-0.602797</td>\n",
       "      <td>-0.249859</td>\n",
       "      <td>-0.165153</td>\n",
       "      <td>-0.469106</td>\n",
       "    </tr>\n",
       "    <tr>\n",
       "      <th>2020-04-15</th>\n",
       "      <td>1.700197</td>\n",
       "      <td>-0.984751</td>\n",
       "      <td>2.143542</td>\n",
       "      <td>-0.645551</td>\n",
       "    </tr>\n",
       "  </tbody>\n",
       "</table>\n",
       "</div>"
      ],
      "text/plain": [
       "                   A         B         C         D\n",
       "2020-04-13 -0.914005 -0.229022  0.413145  0.194398\n",
       "2020-04-14 -0.602797 -0.249859 -0.165153 -0.469106\n",
       "2020-04-15  1.700197 -0.984751  2.143542 -0.645551"
      ]
     },
     "execution_count": 99,
     "metadata": {},
     "output_type": "execute_result"
    }
   ],
   "source": [
    "df.head(3)"
   ]
  },
  {
   "cell_type": "code",
   "execution_count": 100,
   "metadata": {
    "colab": {
     "base_uri": "https://localhost:8080/",
     "height": 142
    },
    "colab_type": "code",
    "id": "g1F_nuD21Hhs",
    "outputId": "8a7d54cf-8b5f-4e18-8ee2-ed3d82fa4223"
   },
   "outputs": [
    {
     "data": {
      "text/html": [
       "<div>\n",
       "<style scoped>\n",
       "    .dataframe tbody tr th:only-of-type {\n",
       "        vertical-align: middle;\n",
       "    }\n",
       "\n",
       "    .dataframe tbody tr th {\n",
       "        vertical-align: top;\n",
       "    }\n",
       "\n",
       "    .dataframe thead th {\n",
       "        text-align: right;\n",
       "    }\n",
       "</style>\n",
       "<table border=\"1\" class=\"dataframe\">\n",
       "  <thead>\n",
       "    <tr style=\"text-align: right;\">\n",
       "      <th></th>\n",
       "      <th>A</th>\n",
       "      <th>B</th>\n",
       "      <th>C</th>\n",
       "      <th>D</th>\n",
       "    </tr>\n",
       "  </thead>\n",
       "  <tbody>\n",
       "    <tr>\n",
       "      <th>2020-04-15</th>\n",
       "      <td>1.700197</td>\n",
       "      <td>-0.984751</td>\n",
       "      <td>2.143542</td>\n",
       "      <td>-0.645551</td>\n",
       "    </tr>\n",
       "    <tr>\n",
       "      <th>2020-04-16</th>\n",
       "      <td>-0.702077</td>\n",
       "      <td>0.319562</td>\n",
       "      <td>-0.757003</td>\n",
       "      <td>-0.776502</td>\n",
       "    </tr>\n",
       "    <tr>\n",
       "      <th>2020-04-17</th>\n",
       "      <td>-0.632267</td>\n",
       "      <td>0.367998</td>\n",
       "      <td>-2.269400</td>\n",
       "      <td>-0.253915</td>\n",
       "    </tr>\n",
       "  </tbody>\n",
       "</table>\n",
       "</div>"
      ],
      "text/plain": [
       "                   A         B         C         D\n",
       "2020-04-15  1.700197 -0.984751  2.143542 -0.645551\n",
       "2020-04-16 -0.702077  0.319562 -0.757003 -0.776502\n",
       "2020-04-17 -0.632267  0.367998 -2.269400 -0.253915"
      ]
     },
     "execution_count": 100,
     "metadata": {},
     "output_type": "execute_result"
    }
   ],
   "source": [
    "df.tail(3)"
   ]
  },
  {
   "cell_type": "markdown",
   "metadata": {
    "colab_type": "text",
    "id": "kLo4Yein1PXa"
   },
   "source": [
    "We can also determine the index of the data and the columns."
   ]
  },
  {
   "cell_type": "code",
   "execution_count": 101,
   "metadata": {
    "colab": {
     "base_uri": "https://localhost:8080/",
     "height": 85
    },
    "colab_type": "code",
    "id": "ahLlIIZc1UQp",
    "outputId": "fdca04b9-1a7c-4866-eb85-394c9ab00df6"
   },
   "outputs": [
    {
     "name": "stdout",
     "output_type": "stream",
     "text": [
      "DatetimeIndex(['2020-04-13', '2020-04-14', '2020-04-15', '2020-04-16',\n",
      "               '2020-04-17'],\n",
      "              dtype='datetime64[ns]', freq='D')\n",
      "Index(['A', 'B', 'C', 'D'], dtype='object')\n"
     ]
    }
   ],
   "source": [
    "print(df.index)\n",
    "print(df.columns)"
   ]
  },
  {
   "cell_type": "markdown",
   "metadata": {
    "colab_type": "text",
    "id": "hzhHmi9N1ds2"
   },
   "source": [
    "You can select data by using boolean indexing.  Mostly an operation on a DataFrame object results in a new DataFrame object. "
   ]
  },
  {
   "cell_type": "code",
   "execution_count": 102,
   "metadata": {
    "colab": {
     "base_uri": "https://localhost:8080/",
     "height": 111
    },
    "colab_type": "code",
    "id": "8DfBOg-32AWI",
    "outputId": "774e7407-3954-4b7f-fa58-7c929c1c70a7"
   },
   "outputs": [
    {
     "data": {
      "text/html": [
       "<div>\n",
       "<style scoped>\n",
       "    .dataframe tbody tr th:only-of-type {\n",
       "        vertical-align: middle;\n",
       "    }\n",
       "\n",
       "    .dataframe tbody tr th {\n",
       "        vertical-align: top;\n",
       "    }\n",
       "\n",
       "    .dataframe thead th {\n",
       "        text-align: right;\n",
       "    }\n",
       "</style>\n",
       "<table border=\"1\" class=\"dataframe\">\n",
       "  <thead>\n",
       "    <tr style=\"text-align: right;\">\n",
       "      <th></th>\n",
       "      <th>A</th>\n",
       "      <th>B</th>\n",
       "      <th>C</th>\n",
       "      <th>D</th>\n",
       "    </tr>\n",
       "  </thead>\n",
       "  <tbody>\n",
       "    <tr>\n",
       "      <th>2020-04-15</th>\n",
       "      <td>1.700197</td>\n",
       "      <td>-0.984751</td>\n",
       "      <td>2.143542</td>\n",
       "      <td>-0.645551</td>\n",
       "    </tr>\n",
       "  </tbody>\n",
       "</table>\n",
       "</div>"
      ],
      "text/plain": [
       "                   A         B         C         D\n",
       "2020-04-15  1.700197 -0.984751  2.143542 -0.645551"
      ]
     },
     "execution_count": 102,
     "metadata": {},
     "output_type": "execute_result"
    }
   ],
   "source": [
    "df[df.A > 0]"
   ]
  },
  {
   "cell_type": "markdown",
   "metadata": {
    "colab_type": "text",
    "id": "Ff7WOLuF2Va5"
   },
   "source": [
    "This line of code replaces non-positive values with NaN (Not a Number)."
   ]
  },
  {
   "cell_type": "code",
   "execution_count": 103,
   "metadata": {
    "colab": {
     "base_uri": "https://localhost:8080/",
     "height": 204
    },
    "colab_type": "code",
    "id": "p519vfmk2bhf",
    "outputId": "3ab80304-3e56-4a2c-b8b8-34e99494d128"
   },
   "outputs": [
    {
     "data": {
      "text/html": [
       "<div>\n",
       "<style scoped>\n",
       "    .dataframe tbody tr th:only-of-type {\n",
       "        vertical-align: middle;\n",
       "    }\n",
       "\n",
       "    .dataframe tbody tr th {\n",
       "        vertical-align: top;\n",
       "    }\n",
       "\n",
       "    .dataframe thead th {\n",
       "        text-align: right;\n",
       "    }\n",
       "</style>\n",
       "<table border=\"1\" class=\"dataframe\">\n",
       "  <thead>\n",
       "    <tr style=\"text-align: right;\">\n",
       "      <th></th>\n",
       "      <th>A</th>\n",
       "      <th>B</th>\n",
       "      <th>C</th>\n",
       "      <th>D</th>\n",
       "    </tr>\n",
       "  </thead>\n",
       "  <tbody>\n",
       "    <tr>\n",
       "      <th>2020-04-13</th>\n",
       "      <td>NaN</td>\n",
       "      <td>NaN</td>\n",
       "      <td>0.413145</td>\n",
       "      <td>0.194398</td>\n",
       "    </tr>\n",
       "    <tr>\n",
       "      <th>2020-04-14</th>\n",
       "      <td>NaN</td>\n",
       "      <td>NaN</td>\n",
       "      <td>NaN</td>\n",
       "      <td>NaN</td>\n",
       "    </tr>\n",
       "    <tr>\n",
       "      <th>2020-04-15</th>\n",
       "      <td>1.700197</td>\n",
       "      <td>NaN</td>\n",
       "      <td>2.143542</td>\n",
       "      <td>NaN</td>\n",
       "    </tr>\n",
       "    <tr>\n",
       "      <th>2020-04-16</th>\n",
       "      <td>NaN</td>\n",
       "      <td>0.319562</td>\n",
       "      <td>NaN</td>\n",
       "      <td>NaN</td>\n",
       "    </tr>\n",
       "    <tr>\n",
       "      <th>2020-04-17</th>\n",
       "      <td>NaN</td>\n",
       "      <td>0.367998</td>\n",
       "      <td>NaN</td>\n",
       "      <td>NaN</td>\n",
       "    </tr>\n",
       "  </tbody>\n",
       "</table>\n",
       "</div>"
      ],
      "text/plain": [
       "                   A         B         C         D\n",
       "2020-04-13       NaN       NaN  0.413145  0.194398\n",
       "2020-04-14       NaN       NaN       NaN       NaN\n",
       "2020-04-15  1.700197       NaN  2.143542       NaN\n",
       "2020-04-16       NaN  0.319562       NaN       NaN\n",
       "2020-04-17       NaN  0.367998       NaN       NaN"
      ]
     },
     "execution_count": 103,
     "metadata": {},
     "output_type": "execute_result"
    }
   ],
   "source": [
    "df = df[df > 0]\n",
    "df"
   ]
  },
  {
   "cell_type": "markdown",
   "metadata": {
    "colab_type": "text",
    "id": "TW-iAZ602gVM"
   },
   "source": [
    "As said earlier, pandas can deal with missing data:\n",
    "\n",
    "* `df.dropna`: Delets columns or rows that contain missing values (NaN)\n",
    "* `df.fillna`: Fills the NaN values with a provide value\n",
    "* `df.isna`  : returns a DataFrame of the same size of `df` with boolean values that say if the original value in `df` is NaN"
   ]
  },
  {
   "cell_type": "code",
   "execution_count": 104,
   "metadata": {
    "colab": {
     "base_uri": "https://localhost:8080/",
     "height": 204
    },
    "colab_type": "code",
    "id": "JFJ_PdT52-eZ",
    "outputId": "d031df95-d435-49ab-d84c-f3a0db6ef705"
   },
   "outputs": [
    {
     "data": {
      "text/html": [
       "<div>\n",
       "<style scoped>\n",
       "    .dataframe tbody tr th:only-of-type {\n",
       "        vertical-align: middle;\n",
       "    }\n",
       "\n",
       "    .dataframe tbody tr th {\n",
       "        vertical-align: top;\n",
       "    }\n",
       "\n",
       "    .dataframe thead th {\n",
       "        text-align: right;\n",
       "    }\n",
       "</style>\n",
       "<table border=\"1\" class=\"dataframe\">\n",
       "  <thead>\n",
       "    <tr style=\"text-align: right;\">\n",
       "      <th></th>\n",
       "      <th>A</th>\n",
       "      <th>B</th>\n",
       "      <th>C</th>\n",
       "      <th>D</th>\n",
       "    </tr>\n",
       "  </thead>\n",
       "  <tbody>\n",
       "    <tr>\n",
       "      <th>2020-04-13</th>\n",
       "      <td>0.000000</td>\n",
       "      <td>0.000000</td>\n",
       "      <td>0.413145</td>\n",
       "      <td>0.194398</td>\n",
       "    </tr>\n",
       "    <tr>\n",
       "      <th>2020-04-14</th>\n",
       "      <td>0.000000</td>\n",
       "      <td>0.000000</td>\n",
       "      <td>0.000000</td>\n",
       "      <td>0.000000</td>\n",
       "    </tr>\n",
       "    <tr>\n",
       "      <th>2020-04-15</th>\n",
       "      <td>1.700197</td>\n",
       "      <td>0.000000</td>\n",
       "      <td>2.143542</td>\n",
       "      <td>0.000000</td>\n",
       "    </tr>\n",
       "    <tr>\n",
       "      <th>2020-04-16</th>\n",
       "      <td>0.000000</td>\n",
       "      <td>0.319562</td>\n",
       "      <td>0.000000</td>\n",
       "      <td>0.000000</td>\n",
       "    </tr>\n",
       "    <tr>\n",
       "      <th>2020-04-17</th>\n",
       "      <td>0.000000</td>\n",
       "      <td>0.367998</td>\n",
       "      <td>0.000000</td>\n",
       "      <td>0.000000</td>\n",
       "    </tr>\n",
       "  </tbody>\n",
       "</table>\n",
       "</div>"
      ],
      "text/plain": [
       "                   A         B         C         D\n",
       "2020-04-13  0.000000  0.000000  0.413145  0.194398\n",
       "2020-04-14  0.000000  0.000000  0.000000  0.000000\n",
       "2020-04-15  1.700197  0.000000  2.143542  0.000000\n",
       "2020-04-16  0.000000  0.319562  0.000000  0.000000\n",
       "2020-04-17  0.000000  0.367998  0.000000  0.000000"
      ]
     },
     "execution_count": 104,
     "metadata": {},
     "output_type": "execute_result"
    }
   ],
   "source": [
    "df.fillna(value=0) # fill the NaN values with 0"
   ]
  },
  {
   "cell_type": "markdown",
   "metadata": {
    "colab_type": "text",
    "id": "vUh4ChKc3I95"
   },
   "source": [
    "We can do al kinds of statistics to the values."
   ]
  },
  {
   "cell_type": "code",
   "execution_count": 105,
   "metadata": {
    "colab": {
     "base_uri": "https://localhost:8080/",
     "height": 102
    },
    "colab_type": "code",
    "id": "HNhy-kEz3Hnz",
    "outputId": "6fe4ab1a-d4f7-4edd-aa9e-fca056c14a7c"
   },
   "outputs": [
    {
     "data": {
      "text/plain": [
       "A   -0.110628\n",
       "B    0.027160\n",
       "C   -0.231465\n",
       "D   -0.160194\n",
       "dtype: float64"
      ]
     },
     "execution_count": 105,
     "metadata": {},
     "output_type": "execute_result"
    }
   ],
   "source": [
    "dates = pd.date_range('20200413', periods=100)\n",
    "df = pd.DataFrame(np.random.randn(100,4), index=dates,columns=['A','B','C','D'])\n",
    "df.mean()"
   ]
  },
  {
   "cell_type": "markdown",
   "metadata": {
    "colab_type": "text",
    "id": "BMh21PMa3j-v"
   },
   "source": [
    "A nice feature is the `describe` command to give an overview of the statistics of all the columns."
   ]
  },
  {
   "cell_type": "code",
   "execution_count": 106,
   "metadata": {
    "colab": {
     "base_uri": "https://localhost:8080/",
     "height": 297
    },
    "colab_type": "code",
    "id": "AAbaUOjI3sDg",
    "outputId": "cc4e666a-65e3-4fbf-c0ca-71c24cf25766"
   },
   "outputs": [
    {
     "data": {
      "text/html": [
       "<div>\n",
       "<style scoped>\n",
       "    .dataframe tbody tr th:only-of-type {\n",
       "        vertical-align: middle;\n",
       "    }\n",
       "\n",
       "    .dataframe tbody tr th {\n",
       "        vertical-align: top;\n",
       "    }\n",
       "\n",
       "    .dataframe thead th {\n",
       "        text-align: right;\n",
       "    }\n",
       "</style>\n",
       "<table border=\"1\" class=\"dataframe\">\n",
       "  <thead>\n",
       "    <tr style=\"text-align: right;\">\n",
       "      <th></th>\n",
       "      <th>A</th>\n",
       "      <th>B</th>\n",
       "      <th>C</th>\n",
       "      <th>D</th>\n",
       "    </tr>\n",
       "  </thead>\n",
       "  <tbody>\n",
       "    <tr>\n",
       "      <th>count</th>\n",
       "      <td>100.000000</td>\n",
       "      <td>100.000000</td>\n",
       "      <td>100.000000</td>\n",
       "      <td>100.000000</td>\n",
       "    </tr>\n",
       "    <tr>\n",
       "      <th>mean</th>\n",
       "      <td>-0.110628</td>\n",
       "      <td>0.027160</td>\n",
       "      <td>-0.231465</td>\n",
       "      <td>-0.160194</td>\n",
       "    </tr>\n",
       "    <tr>\n",
       "      <th>std</th>\n",
       "      <td>1.112734</td>\n",
       "      <td>1.041705</td>\n",
       "      <td>0.974885</td>\n",
       "      <td>0.949925</td>\n",
       "    </tr>\n",
       "    <tr>\n",
       "      <th>min</th>\n",
       "      <td>-2.787848</td>\n",
       "      <td>-2.145056</td>\n",
       "      <td>-2.926615</td>\n",
       "      <td>-2.220942</td>\n",
       "    </tr>\n",
       "    <tr>\n",
       "      <th>25%</th>\n",
       "      <td>-0.977740</td>\n",
       "      <td>-0.733137</td>\n",
       "      <td>-0.942444</td>\n",
       "      <td>-0.787032</td>\n",
       "    </tr>\n",
       "    <tr>\n",
       "      <th>50%</th>\n",
       "      <td>-0.139916</td>\n",
       "      <td>0.110333</td>\n",
       "      <td>-0.331167</td>\n",
       "      <td>-0.121934</td>\n",
       "    </tr>\n",
       "    <tr>\n",
       "      <th>75%</th>\n",
       "      <td>0.480532</td>\n",
       "      <td>0.842491</td>\n",
       "      <td>0.471272</td>\n",
       "      <td>0.534135</td>\n",
       "    </tr>\n",
       "    <tr>\n",
       "      <th>max</th>\n",
       "      <td>3.472525</td>\n",
       "      <td>2.714799</td>\n",
       "      <td>1.727451</td>\n",
       "      <td>1.918804</td>\n",
       "    </tr>\n",
       "  </tbody>\n",
       "</table>\n",
       "</div>"
      ],
      "text/plain": [
       "                A           B           C           D\n",
       "count  100.000000  100.000000  100.000000  100.000000\n",
       "mean    -0.110628    0.027160   -0.231465   -0.160194\n",
       "std      1.112734    1.041705    0.974885    0.949925\n",
       "min     -2.787848   -2.145056   -2.926615   -2.220942\n",
       "25%     -0.977740   -0.733137   -0.942444   -0.787032\n",
       "50%     -0.139916    0.110333   -0.331167   -0.121934\n",
       "75%      0.480532    0.842491    0.471272    0.534135\n",
       "max      3.472525    2.714799    1.727451    1.918804"
      ]
     },
     "execution_count": 106,
     "metadata": {},
     "output_type": "execute_result"
    }
   ],
   "source": [
    "df.describe()"
   ]
  },
  {
   "cell_type": "markdown",
   "metadata": {
    "colab_type": "text",
    "id": "RoA4KFTpcIa7"
   },
   "source": [
    "## Reading data from files\n",
    "\n",
    "Pandas has a powerfull capability to read files of all sorts of types.  You can read Excel files, comma-seperated-value (csv) files or even recent JSON files.  We can do that by using the command:\n",
    "\n",
    "```\n",
    "import pandas as pd\n",
    "data = pd.read_filetype('NameOfFile')\n",
    "```\n",
    "where `filetype` is the type of file you want to read and `NameOfFile`  is the full name of the file.  In order to read a file your python script should be in the same folder as your file.  The following file was retrieved from statbel (https://statbel.fgov.be/) and shows the birthdays at each day of the year in every region in Belgium."
   ]
  },
  {
   "cell_type": "code",
   "execution_count": 109,
   "metadata": {
    "colab": {
     "base_uri": "https://localhost:8080/",
     "height": 473
    },
    "colab_type": "code",
    "id": "_ppIOyAdH5dS",
    "outputId": "84d4e203-9480-42bd-ee2d-91acdcba0a60"
   },
   "outputs": [
    {
     "data": {
      "text/html": [
       "<div>\n",
       "<style scoped>\n",
       "    .dataframe tbody tr th:only-of-type {\n",
       "        vertical-align: middle;\n",
       "    }\n",
       "\n",
       "    .dataframe tbody tr th {\n",
       "        vertical-align: top;\n",
       "    }\n",
       "\n",
       "    .dataframe thead th {\n",
       "        text-align: right;\n",
       "    }\n",
       "</style>\n",
       "<table border=\"1\" class=\"dataframe\">\n",
       "  <thead>\n",
       "    <tr style=\"text-align: right;\">\n",
       "      <th></th>\n",
       "      <th>DAY</th>\n",
       "      <th>MONTH</th>\n",
       "      <th>BELGIUM</th>\n",
       "      <th>VLAANDEREN</th>\n",
       "      <th>WALLONIE</th>\n",
       "      <th>BRUSSELS</th>\n",
       "      <th>PROVINCIE ANTWERPEN</th>\n",
       "      <th>PROVINCIE VLAAMS BRABANT</th>\n",
       "      <th>PROVINCE BRABANT WALLON</th>\n",
       "      <th>PROVINCIE WEST VLAANDEREN</th>\n",
       "      <th>PROVINCIE OOST VLAANDEREN</th>\n",
       "      <th>PROVINCE HAINAUT</th>\n",
       "      <th>PROVINCE LIEGE</th>\n",
       "      <th>PROVINCIE LIMBURG</th>\n",
       "      <th>PROVINCE LUXEMBOURG</th>\n",
       "      <th>PROVINCE NAMUR</th>\n",
       "    </tr>\n",
       "  </thead>\n",
       "  <tbody>\n",
       "    <tr>\n",
       "      <th>0</th>\n",
       "      <td>1</td>\n",
       "      <td>1</td>\n",
       "      <td>52193</td>\n",
       "      <td>27148</td>\n",
       "      <td>14183</td>\n",
       "      <td>10862</td>\n",
       "      <td>8960</td>\n",
       "      <td>4116</td>\n",
       "      <td>1235</td>\n",
       "      <td>4159</td>\n",
       "      <td>5987</td>\n",
       "      <td>5037</td>\n",
       "      <td>5633</td>\n",
       "      <td>3926</td>\n",
       "      <td>845</td>\n",
       "      <td>1433</td>\n",
       "    </tr>\n",
       "    <tr>\n",
       "      <th>1</th>\n",
       "      <td>2</td>\n",
       "      <td>1</td>\n",
       "      <td>30357</td>\n",
       "      <td>17207</td>\n",
       "      <td>9466</td>\n",
       "      <td>3684</td>\n",
       "      <td>4856</td>\n",
       "      <td>2940</td>\n",
       "      <td>1093</td>\n",
       "      <td>3141</td>\n",
       "      <td>3917</td>\n",
       "      <td>3624</td>\n",
       "      <td>2897</td>\n",
       "      <td>2353</td>\n",
       "      <td>706</td>\n",
       "      <td>1146</td>\n",
       "    </tr>\n",
       "    <tr>\n",
       "      <th>2</th>\n",
       "      <td>3</td>\n",
       "      <td>1</td>\n",
       "      <td>30954</td>\n",
       "      <td>17841</td>\n",
       "      <td>9678</td>\n",
       "      <td>3435</td>\n",
       "      <td>5009</td>\n",
       "      <td>2927</td>\n",
       "      <td>1032</td>\n",
       "      <td>3402</td>\n",
       "      <td>4089</td>\n",
       "      <td>3617</td>\n",
       "      <td>2971</td>\n",
       "      <td>2414</td>\n",
       "      <td>701</td>\n",
       "      <td>1357</td>\n",
       "    </tr>\n",
       "    <tr>\n",
       "      <th>3</th>\n",
       "      <td>4</td>\n",
       "      <td>1</td>\n",
       "      <td>31157</td>\n",
       "      <td>18052</td>\n",
       "      <td>9948</td>\n",
       "      <td>3157</td>\n",
       "      <td>4995</td>\n",
       "      <td>3105</td>\n",
       "      <td>1029</td>\n",
       "      <td>3274</td>\n",
       "      <td>4186</td>\n",
       "      <td>3762</td>\n",
       "      <td>3061</td>\n",
       "      <td>2492</td>\n",
       "      <td>782</td>\n",
       "      <td>1314</td>\n",
       "    </tr>\n",
       "    <tr>\n",
       "      <th>4</th>\n",
       "      <td>5</td>\n",
       "      <td>1</td>\n",
       "      <td>32220</td>\n",
       "      <td>18549</td>\n",
       "      <td>10087</td>\n",
       "      <td>3584</td>\n",
       "      <td>5226</td>\n",
       "      <td>3117</td>\n",
       "      <td>1032</td>\n",
       "      <td>3369</td>\n",
       "      <td>4308</td>\n",
       "      <td>3787</td>\n",
       "      <td>3055</td>\n",
       "      <td>2529</td>\n",
       "      <td>806</td>\n",
       "      <td>1407</td>\n",
       "    </tr>\n",
       "    <tr>\n",
       "      <th>...</th>\n",
       "      <td>...</td>\n",
       "      <td>...</td>\n",
       "      <td>...</td>\n",
       "      <td>...</td>\n",
       "      <td>...</td>\n",
       "      <td>...</td>\n",
       "      <td>...</td>\n",
       "      <td>...</td>\n",
       "      <td>...</td>\n",
       "      <td>...</td>\n",
       "      <td>...</td>\n",
       "      <td>...</td>\n",
       "      <td>...</td>\n",
       "      <td>...</td>\n",
       "      <td>...</td>\n",
       "      <td>...</td>\n",
       "    </tr>\n",
       "    <tr>\n",
       "      <th>361</th>\n",
       "      <td>27</td>\n",
       "      <td>12</td>\n",
       "      <td>30846</td>\n",
       "      <td>17545</td>\n",
       "      <td>10167</td>\n",
       "      <td>3134</td>\n",
       "      <td>4996</td>\n",
       "      <td>3113</td>\n",
       "      <td>1190</td>\n",
       "      <td>3194</td>\n",
       "      <td>4022</td>\n",
       "      <td>3829</td>\n",
       "      <td>3045</td>\n",
       "      <td>2220</td>\n",
       "      <td>747</td>\n",
       "      <td>1356</td>\n",
       "    </tr>\n",
       "    <tr>\n",
       "      <th>362</th>\n",
       "      <td>28</td>\n",
       "      <td>12</td>\n",
       "      <td>30561</td>\n",
       "      <td>17151</td>\n",
       "      <td>10048</td>\n",
       "      <td>3362</td>\n",
       "      <td>4871</td>\n",
       "      <td>3000</td>\n",
       "      <td>1127</td>\n",
       "      <td>3098</td>\n",
       "      <td>4008</td>\n",
       "      <td>3730</td>\n",
       "      <td>3014</td>\n",
       "      <td>2174</td>\n",
       "      <td>808</td>\n",
       "      <td>1369</td>\n",
       "    </tr>\n",
       "    <tr>\n",
       "      <th>363</th>\n",
       "      <td>29</td>\n",
       "      <td>12</td>\n",
       "      <td>30289</td>\n",
       "      <td>17422</td>\n",
       "      <td>9801</td>\n",
       "      <td>3066</td>\n",
       "      <td>4868</td>\n",
       "      <td>2973</td>\n",
       "      <td>1106</td>\n",
       "      <td>3203</td>\n",
       "      <td>4109</td>\n",
       "      <td>3669</td>\n",
       "      <td>2903</td>\n",
       "      <td>2269</td>\n",
       "      <td>777</td>\n",
       "      <td>1346</td>\n",
       "    </tr>\n",
       "    <tr>\n",
       "      <th>364</th>\n",
       "      <td>30</td>\n",
       "      <td>12</td>\n",
       "      <td>30505</td>\n",
       "      <td>17477</td>\n",
       "      <td>9876</td>\n",
       "      <td>3152</td>\n",
       "      <td>4949</td>\n",
       "      <td>3133</td>\n",
       "      <td>1103</td>\n",
       "      <td>3133</td>\n",
       "      <td>4050</td>\n",
       "      <td>3622</td>\n",
       "      <td>2998</td>\n",
       "      <td>2212</td>\n",
       "      <td>805</td>\n",
       "      <td>1348</td>\n",
       "    </tr>\n",
       "    <tr>\n",
       "      <th>365</th>\n",
       "      <td>31</td>\n",
       "      <td>12</td>\n",
       "      <td>30176</td>\n",
       "      <td>17412</td>\n",
       "      <td>9219</td>\n",
       "      <td>3545</td>\n",
       "      <td>5053</td>\n",
       "      <td>2888</td>\n",
       "      <td>1019</td>\n",
       "      <td>3171</td>\n",
       "      <td>4107</td>\n",
       "      <td>3302</td>\n",
       "      <td>2869</td>\n",
       "      <td>2193</td>\n",
       "      <td>752</td>\n",
       "      <td>1277</td>\n",
       "    </tr>\n",
       "  </tbody>\n",
       "</table>\n",
       "<p>366 rows × 16 columns</p>\n",
       "</div>"
      ],
      "text/plain": [
       "     DAY  MONTH  BELGIUM  VLAANDEREN  WALLONIE  BRUSSELS  PROVINCIE ANTWERPEN  \\\n",
       "0      1      1    52193       27148     14183     10862                 8960   \n",
       "1      2      1    30357       17207      9466      3684                 4856   \n",
       "2      3      1    30954       17841      9678      3435                 5009   \n",
       "3      4      1    31157       18052      9948      3157                 4995   \n",
       "4      5      1    32220       18549     10087      3584                 5226   \n",
       "..   ...    ...      ...         ...       ...       ...                  ...   \n",
       "361   27     12    30846       17545     10167      3134                 4996   \n",
       "362   28     12    30561       17151     10048      3362                 4871   \n",
       "363   29     12    30289       17422      9801      3066                 4868   \n",
       "364   30     12    30505       17477      9876      3152                 4949   \n",
       "365   31     12    30176       17412      9219      3545                 5053   \n",
       "\n",
       "     PROVINCIE VLAAMS BRABANT  PROVINCE BRABANT WALLON  \\\n",
       "0                        4116                     1235   \n",
       "1                        2940                     1093   \n",
       "2                        2927                     1032   \n",
       "3                        3105                     1029   \n",
       "4                        3117                     1032   \n",
       "..                        ...                      ...   \n",
       "361                      3113                     1190   \n",
       "362                      3000                     1127   \n",
       "363                      2973                     1106   \n",
       "364                      3133                     1103   \n",
       "365                      2888                     1019   \n",
       "\n",
       "     PROVINCIE WEST VLAANDEREN  PROVINCIE OOST VLAANDEREN  PROVINCE HAINAUT  \\\n",
       "0                         4159                       5987              5037   \n",
       "1                         3141                       3917              3624   \n",
       "2                         3402                       4089              3617   \n",
       "3                         3274                       4186              3762   \n",
       "4                         3369                       4308              3787   \n",
       "..                         ...                        ...               ...   \n",
       "361                       3194                       4022              3829   \n",
       "362                       3098                       4008              3730   \n",
       "363                       3203                       4109              3669   \n",
       "364                       3133                       4050              3622   \n",
       "365                       3171                       4107              3302   \n",
       "\n",
       "     PROVINCE LIEGE  PROVINCIE LIMBURG  PROVINCE LUXEMBOURG  PROVINCE NAMUR  \n",
       "0              5633               3926                  845            1433  \n",
       "1              2897               2353                  706            1146  \n",
       "2              2971               2414                  701            1357  \n",
       "3              3061               2492                  782            1314  \n",
       "4              3055               2529                  806            1407  \n",
       "..              ...                ...                  ...             ...  \n",
       "361            3045               2220                  747            1356  \n",
       "362            3014               2174                  808            1369  \n",
       "363            2903               2269                  777            1346  \n",
       "364            2998               2212                  805            1348  \n",
       "365            2869               2193                  752            1277  \n",
       "\n",
       "[366 rows x 16 columns]"
      ]
     },
     "execution_count": 109,
     "metadata": {},
     "output_type": "execute_result"
    }
   ],
   "source": [
    "data_births = pd.read_excel('TF_BIRTHDAYS.xlsx')\n",
    "data_births"
   ]
  },
  {
   "cell_type": "markdown",
   "metadata": {
    "colab_type": "text",
    "id": "RViVpy8SgXBk"
   },
   "source": [
    "As this is an ordinary DataFrame we can perform indexing and queries as before.  \n"
   ]
  },
  {
   "cell_type": "code",
   "execution_count": 110,
   "metadata": {
    "colab": {
     "base_uri": "https://localhost:8080/",
     "height": 221
    },
    "colab_type": "code",
    "id": "_qnXBAX7gWG-",
    "outputId": "073865dc-9676-4820-8d3c-5bedb80725f4"
   },
   "outputs": [
    {
     "data": {
      "text/plain": [
       "0      4159\n",
       "1      3141\n",
       "2      3402\n",
       "3      3274\n",
       "4      3369\n",
       "       ... \n",
       "361    3194\n",
       "362    3098\n",
       "363    3203\n",
       "364    3133\n",
       "365    3171\n",
       "Name: PROVINCIE WEST VLAANDEREN, Length: 366, dtype: int64"
      ]
     },
     "execution_count": 110,
     "metadata": {},
     "output_type": "execute_result"
    }
   ],
   "source": [
    "data_births['PROVINCIE WEST VLAANDEREN']"
   ]
  },
  {
   "cell_type": "code",
   "execution_count": 111,
   "metadata": {
    "colab": {
     "base_uri": "https://localhost:8080/",
     "height": 165
    },
    "colab_type": "code",
    "id": "E7JsbrVndEuX",
    "outputId": "954d2c12-071a-47b8-f768-8cdc1a660a08"
   },
   "outputs": [
    {
     "data": {
      "text/html": [
       "<div>\n",
       "<style scoped>\n",
       "    .dataframe tbody tr th:only-of-type {\n",
       "        vertical-align: middle;\n",
       "    }\n",
       "\n",
       "    .dataframe tbody tr th {\n",
       "        vertical-align: top;\n",
       "    }\n",
       "\n",
       "    .dataframe thead th {\n",
       "        text-align: right;\n",
       "    }\n",
       "</style>\n",
       "<table border=\"1\" class=\"dataframe\">\n",
       "  <thead>\n",
       "    <tr style=\"text-align: right;\">\n",
       "      <th></th>\n",
       "      <th>DAY</th>\n",
       "      <th>MONTH</th>\n",
       "      <th>BELGIUM</th>\n",
       "      <th>VLAANDEREN</th>\n",
       "      <th>WALLONIE</th>\n",
       "      <th>BRUSSELS</th>\n",
       "      <th>PROVINCIE ANTWERPEN</th>\n",
       "      <th>PROVINCIE VLAAMS BRABANT</th>\n",
       "      <th>PROVINCE BRABANT WALLON</th>\n",
       "      <th>PROVINCIE WEST VLAANDEREN</th>\n",
       "      <th>PROVINCIE OOST VLAANDEREN</th>\n",
       "      <th>PROVINCE HAINAUT</th>\n",
       "      <th>PROVINCE LIEGE</th>\n",
       "      <th>PROVINCIE LIMBURG</th>\n",
       "      <th>PROVINCE LUXEMBOURG</th>\n",
       "      <th>PROVINCE NAMUR</th>\n",
       "    </tr>\n",
       "  </thead>\n",
       "  <tbody>\n",
       "    <tr>\n",
       "      <th>0</th>\n",
       "      <td>1</td>\n",
       "      <td>1</td>\n",
       "      <td>52193</td>\n",
       "      <td>27148</td>\n",
       "      <td>14183</td>\n",
       "      <td>10862</td>\n",
       "      <td>8960</td>\n",
       "      <td>4116</td>\n",
       "      <td>1235</td>\n",
       "      <td>4159</td>\n",
       "      <td>5987</td>\n",
       "      <td>5037</td>\n",
       "      <td>5633</td>\n",
       "      <td>3926</td>\n",
       "      <td>845</td>\n",
       "      <td>1433</td>\n",
       "    </tr>\n",
       "    <tr>\n",
       "      <th>182</th>\n",
       "      <td>1</td>\n",
       "      <td>7</td>\n",
       "      <td>90133</td>\n",
       "      <td>42339</td>\n",
       "      <td>19537</td>\n",
       "      <td>28257</td>\n",
       "      <td>17796</td>\n",
       "      <td>6484</td>\n",
       "      <td>2007</td>\n",
       "      <td>5401</td>\n",
       "      <td>8065</td>\n",
       "      <td>6974</td>\n",
       "      <td>7695</td>\n",
       "      <td>4593</td>\n",
       "      <td>969</td>\n",
       "      <td>1892</td>\n",
       "    </tr>\n",
       "  </tbody>\n",
       "</table>\n",
       "</div>"
      ],
      "text/plain": [
       "     DAY  MONTH  BELGIUM  VLAANDEREN  WALLONIE  BRUSSELS  PROVINCIE ANTWERPEN  \\\n",
       "0      1      1    52193       27148     14183     10862                 8960   \n",
       "182    1      7    90133       42339     19537     28257                17796   \n",
       "\n",
       "     PROVINCIE VLAAMS BRABANT  PROVINCE BRABANT WALLON  \\\n",
       "0                        4116                     1235   \n",
       "182                      6484                     2007   \n",
       "\n",
       "     PROVINCIE WEST VLAANDEREN  PROVINCIE OOST VLAANDEREN  PROVINCE HAINAUT  \\\n",
       "0                         4159                       5987              5037   \n",
       "182                       5401                       8065              6974   \n",
       "\n",
       "     PROVINCE LIEGE  PROVINCIE LIMBURG  PROVINCE LUXEMBOURG  PROVINCE NAMUR  \n",
       "0              5633               3926                  845            1433  \n",
       "182            7695               4593                  969            1892  "
      ]
     },
     "execution_count": 111,
     "metadata": {},
     "output_type": "execute_result"
    }
   ],
   "source": [
    "data_births.query('BELGIUM > 35000') # on which day(s) did we have already more than 50000 births registered"
   ]
  },
  {
   "cell_type": "markdown",
   "metadata": {
    "colab_type": "text",
    "id": "ZdqXjvxLou1i"
   },
   "source": [
    "We can see this as an excel table and we can sort the dataframe based on some columns.  Here we want to sort them based on the values in `BELGIUM`.  This is done by the `sort_values` command and using the option `ascending`.  Default is `ascending=False`.  Try to sort them and decending order.  What do you notice?  Notice the special days where fewer birthdays are happening.  "
   ]
  },
  {
   "cell_type": "code",
   "execution_count": 112,
   "metadata": {
    "colab": {
     "base_uri": "https://localhost:8080/",
     "height": 473
    },
    "colab_type": "code",
    "id": "99W019undGxT",
    "outputId": "e3613d0a-aecc-4974-8df2-20f50d6fc920"
   },
   "outputs": [
    {
     "data": {
      "text/html": [
       "<div>\n",
       "<style scoped>\n",
       "    .dataframe tbody tr th:only-of-type {\n",
       "        vertical-align: middle;\n",
       "    }\n",
       "\n",
       "    .dataframe tbody tr th {\n",
       "        vertical-align: top;\n",
       "    }\n",
       "\n",
       "    .dataframe thead th {\n",
       "        text-align: right;\n",
       "    }\n",
       "</style>\n",
       "<table border=\"1\" class=\"dataframe\">\n",
       "  <thead>\n",
       "    <tr style=\"text-align: right;\">\n",
       "      <th></th>\n",
       "      <th>DAY</th>\n",
       "      <th>MONTH</th>\n",
       "      <th>BELGIUM</th>\n",
       "      <th>VLAANDEREN</th>\n",
       "      <th>WALLONIE</th>\n",
       "      <th>BRUSSELS</th>\n",
       "      <th>PROVINCIE ANTWERPEN</th>\n",
       "      <th>PROVINCIE VLAAMS BRABANT</th>\n",
       "      <th>PROVINCE BRABANT WALLON</th>\n",
       "      <th>PROVINCIE WEST VLAANDEREN</th>\n",
       "      <th>PROVINCIE OOST VLAANDEREN</th>\n",
       "      <th>PROVINCE HAINAUT</th>\n",
       "      <th>PROVINCE LIEGE</th>\n",
       "      <th>PROVINCIE LIMBURG</th>\n",
       "      <th>PROVINCE LUXEMBOURG</th>\n",
       "      <th>PROVINCE NAMUR</th>\n",
       "    </tr>\n",
       "  </thead>\n",
       "  <tbody>\n",
       "    <tr>\n",
       "      <th>59</th>\n",
       "      <td>29</td>\n",
       "      <td>2</td>\n",
       "      <td>7145</td>\n",
       "      <td>4078</td>\n",
       "      <td>2374</td>\n",
       "      <td>693</td>\n",
       "      <td>1172</td>\n",
       "      <td>732</td>\n",
       "      <td>242</td>\n",
       "      <td>756</td>\n",
       "      <td>958</td>\n",
       "      <td>908</td>\n",
       "      <td>721</td>\n",
       "      <td>460</td>\n",
       "      <td>172</td>\n",
       "      <td>331</td>\n",
       "    </tr>\n",
       "    <tr>\n",
       "      <th>305</th>\n",
       "      <td>1</td>\n",
       "      <td>11</td>\n",
       "      <td>25904</td>\n",
       "      <td>14745</td>\n",
       "      <td>8016</td>\n",
       "      <td>3143</td>\n",
       "      <td>4259</td>\n",
       "      <td>2582</td>\n",
       "      <td>894</td>\n",
       "      <td>2566</td>\n",
       "      <td>3332</td>\n",
       "      <td>2958</td>\n",
       "      <td>2483</td>\n",
       "      <td>2006</td>\n",
       "      <td>617</td>\n",
       "      <td>1064</td>\n",
       "    </tr>\n",
       "    <tr>\n",
       "      <th>359</th>\n",
       "      <td>25</td>\n",
       "      <td>12</td>\n",
       "      <td>26057</td>\n",
       "      <td>14958</td>\n",
       "      <td>7988</td>\n",
       "      <td>3111</td>\n",
       "      <td>4239</td>\n",
       "      <td>2644</td>\n",
       "      <td>838</td>\n",
       "      <td>2677</td>\n",
       "      <td>3404</td>\n",
       "      <td>2995</td>\n",
       "      <td>2496</td>\n",
       "      <td>1994</td>\n",
       "      <td>609</td>\n",
       "      <td>1050</td>\n",
       "    </tr>\n",
       "    <tr>\n",
       "      <th>315</th>\n",
       "      <td>11</td>\n",
       "      <td>11</td>\n",
       "      <td>26129</td>\n",
       "      <td>14767</td>\n",
       "      <td>8341</td>\n",
       "      <td>3021</td>\n",
       "      <td>4066</td>\n",
       "      <td>2719</td>\n",
       "      <td>959</td>\n",
       "      <td>2664</td>\n",
       "      <td>3340</td>\n",
       "      <td>3064</td>\n",
       "      <td>2516</td>\n",
       "      <td>1978</td>\n",
       "      <td>668</td>\n",
       "      <td>1134</td>\n",
       "    </tr>\n",
       "    <tr>\n",
       "      <th>202</th>\n",
       "      <td>21</td>\n",
       "      <td>7</td>\n",
       "      <td>27437</td>\n",
       "      <td>15859</td>\n",
       "      <td>8621</td>\n",
       "      <td>2957</td>\n",
       "      <td>4473</td>\n",
       "      <td>2750</td>\n",
       "      <td>1039</td>\n",
       "      <td>2870</td>\n",
       "      <td>3571</td>\n",
       "      <td>3074</td>\n",
       "      <td>2646</td>\n",
       "      <td>2195</td>\n",
       "      <td>677</td>\n",
       "      <td>1185</td>\n",
       "    </tr>\n",
       "    <tr>\n",
       "      <th>...</th>\n",
       "      <td>...</td>\n",
       "      <td>...</td>\n",
       "      <td>...</td>\n",
       "      <td>...</td>\n",
       "      <td>...</td>\n",
       "      <td>...</td>\n",
       "      <td>...</td>\n",
       "      <td>...</td>\n",
       "      <td>...</td>\n",
       "      <td>...</td>\n",
       "      <td>...</td>\n",
       "      <td>...</td>\n",
       "      <td>...</td>\n",
       "      <td>...</td>\n",
       "      <td>...</td>\n",
       "      <td>...</td>\n",
       "    </tr>\n",
       "    <tr>\n",
       "      <th>125</th>\n",
       "      <td>5</td>\n",
       "      <td>5</td>\n",
       "      <td>34129</td>\n",
       "      <td>19875</td>\n",
       "      <td>10547</td>\n",
       "      <td>3707</td>\n",
       "      <td>5630</td>\n",
       "      <td>3380</td>\n",
       "      <td>1193</td>\n",
       "      <td>3702</td>\n",
       "      <td>4483</td>\n",
       "      <td>3864</td>\n",
       "      <td>3285</td>\n",
       "      <td>2680</td>\n",
       "      <td>780</td>\n",
       "      <td>1425</td>\n",
       "    </tr>\n",
       "    <tr>\n",
       "      <th>130</th>\n",
       "      <td>10</td>\n",
       "      <td>5</td>\n",
       "      <td>34728</td>\n",
       "      <td>20017</td>\n",
       "      <td>10901</td>\n",
       "      <td>3810</td>\n",
       "      <td>5728</td>\n",
       "      <td>3442</td>\n",
       "      <td>1202</td>\n",
       "      <td>3532</td>\n",
       "      <td>4590</td>\n",
       "      <td>4004</td>\n",
       "      <td>3401</td>\n",
       "      <td>2725</td>\n",
       "      <td>818</td>\n",
       "      <td>1476</td>\n",
       "    </tr>\n",
       "    <tr>\n",
       "      <th>60</th>\n",
       "      <td>1</td>\n",
       "      <td>3</td>\n",
       "      <td>34832</td>\n",
       "      <td>20094</td>\n",
       "      <td>10770</td>\n",
       "      <td>3968</td>\n",
       "      <td>5698</td>\n",
       "      <td>3405</td>\n",
       "      <td>1150</td>\n",
       "      <td>3605</td>\n",
       "      <td>4611</td>\n",
       "      <td>3963</td>\n",
       "      <td>3390</td>\n",
       "      <td>2775</td>\n",
       "      <td>858</td>\n",
       "      <td>1409</td>\n",
       "    </tr>\n",
       "    <tr>\n",
       "      <th>0</th>\n",
       "      <td>1</td>\n",
       "      <td>1</td>\n",
       "      <td>52193</td>\n",
       "      <td>27148</td>\n",
       "      <td>14183</td>\n",
       "      <td>10862</td>\n",
       "      <td>8960</td>\n",
       "      <td>4116</td>\n",
       "      <td>1235</td>\n",
       "      <td>4159</td>\n",
       "      <td>5987</td>\n",
       "      <td>5037</td>\n",
       "      <td>5633</td>\n",
       "      <td>3926</td>\n",
       "      <td>845</td>\n",
       "      <td>1433</td>\n",
       "    </tr>\n",
       "    <tr>\n",
       "      <th>182</th>\n",
       "      <td>1</td>\n",
       "      <td>7</td>\n",
       "      <td>90133</td>\n",
       "      <td>42339</td>\n",
       "      <td>19537</td>\n",
       "      <td>28257</td>\n",
       "      <td>17796</td>\n",
       "      <td>6484</td>\n",
       "      <td>2007</td>\n",
       "      <td>5401</td>\n",
       "      <td>8065</td>\n",
       "      <td>6974</td>\n",
       "      <td>7695</td>\n",
       "      <td>4593</td>\n",
       "      <td>969</td>\n",
       "      <td>1892</td>\n",
       "    </tr>\n",
       "  </tbody>\n",
       "</table>\n",
       "<p>366 rows × 16 columns</p>\n",
       "</div>"
      ],
      "text/plain": [
       "     DAY  MONTH  BELGIUM  VLAANDEREN  WALLONIE  BRUSSELS  PROVINCIE ANTWERPEN  \\\n",
       "59    29      2     7145        4078      2374       693                 1172   \n",
       "305    1     11    25904       14745      8016      3143                 4259   \n",
       "359   25     12    26057       14958      7988      3111                 4239   \n",
       "315   11     11    26129       14767      8341      3021                 4066   \n",
       "202   21      7    27437       15859      8621      2957                 4473   \n",
       "..   ...    ...      ...         ...       ...       ...                  ...   \n",
       "125    5      5    34129       19875     10547      3707                 5630   \n",
       "130   10      5    34728       20017     10901      3810                 5728   \n",
       "60     1      3    34832       20094     10770      3968                 5698   \n",
       "0      1      1    52193       27148     14183     10862                 8960   \n",
       "182    1      7    90133       42339     19537     28257                17796   \n",
       "\n",
       "     PROVINCIE VLAAMS BRABANT  PROVINCE BRABANT WALLON  \\\n",
       "59                        732                      242   \n",
       "305                      2582                      894   \n",
       "359                      2644                      838   \n",
       "315                      2719                      959   \n",
       "202                      2750                     1039   \n",
       "..                        ...                      ...   \n",
       "125                      3380                     1193   \n",
       "130                      3442                     1202   \n",
       "60                       3405                     1150   \n",
       "0                        4116                     1235   \n",
       "182                      6484                     2007   \n",
       "\n",
       "     PROVINCIE WEST VLAANDEREN  PROVINCIE OOST VLAANDEREN  PROVINCE HAINAUT  \\\n",
       "59                         756                        958               908   \n",
       "305                       2566                       3332              2958   \n",
       "359                       2677                       3404              2995   \n",
       "315                       2664                       3340              3064   \n",
       "202                       2870                       3571              3074   \n",
       "..                         ...                        ...               ...   \n",
       "125                       3702                       4483              3864   \n",
       "130                       3532                       4590              4004   \n",
       "60                        3605                       4611              3963   \n",
       "0                         4159                       5987              5037   \n",
       "182                       5401                       8065              6974   \n",
       "\n",
       "     PROVINCE LIEGE  PROVINCIE LIMBURG  PROVINCE LUXEMBOURG  PROVINCE NAMUR  \n",
       "59              721                460                  172             331  \n",
       "305            2483               2006                  617            1064  \n",
       "359            2496               1994                  609            1050  \n",
       "315            2516               1978                  668            1134  \n",
       "202            2646               2195                  677            1185  \n",
       "..              ...                ...                  ...             ...  \n",
       "125            3285               2680                  780            1425  \n",
       "130            3401               2725                  818            1476  \n",
       "60             3390               2775                  858            1409  \n",
       "0              5633               3926                  845            1433  \n",
       "182            7695               4593                  969            1892  \n",
       "\n",
       "[366 rows x 16 columns]"
      ]
     },
     "execution_count": 112,
     "metadata": {},
     "output_type": "execute_result"
    }
   ],
   "source": [
    "data_births.sort_values(['BELGIUM'],ascending=True)"
   ]
  },
  {
   "cell_type": "markdown",
   "metadata": {
    "colab_type": "text",
    "id": "8fb7iNwqpcRe"
   },
   "source": [
    "We can also perform some arithmetic to the columns, such as `sum()`, `mean()`, `max()` and so on."
   ]
  },
  {
   "cell_type": "code",
   "execution_count": 113,
   "metadata": {
    "colab": {
     "base_uri": "https://localhost:8080/",
     "height": 306
    },
    "colab_type": "code",
    "id": "zP0B2QZBpVYb",
    "outputId": "826deedb-2165-407f-8943-4a4bf1750f88"
   },
   "outputs": [
    {
     "data": {
      "text/plain": [
       "DAY                              5767\n",
       "MONTH                            2384\n",
       "BELGIUM                      11431406\n",
       "VLAANDEREN                    6589069\n",
       "WALLONIE                      3633795\n",
       "BRUSSELS                      1208542\n",
       "PROVINCIE ANTWERPEN           1857986\n",
       "PROVINCIE VLAAMS BRABANT      1146175\n",
       "PROVINCE BRABANT WALLON        403599\n",
       "PROVINCIE WEST VLAANDEREN     1195796\n",
       "PROVINCIE OOST VLAANDEREN     1515064\n",
       "PROVINCE HAINAUT              1344241\n",
       "PROVINCE LIEGE                1106992\n",
       "PROVINCIE LIMBURG              874048\n",
       "PROVINCE LUXEMBOURG            284638\n",
       "PROVINCE NAMUR                 494325\n",
       "dtype: int64"
      ]
     },
     "execution_count": 113,
     "metadata": {},
     "output_type": "execute_result"
    }
   ],
   "source": [
    "data_births.sum()"
   ]
  },
  {
   "cell_type": "code",
   "execution_count": 114,
   "metadata": {
    "colab": {
     "base_uri": "https://localhost:8080/",
     "height": 34
    },
    "colab_type": "code",
    "id": "bF8j-sKOn_BR",
    "outputId": "253d871f-8994-4fcd-cb45-06f26669389d"
   },
   "outputs": [
    {
     "data": {
      "text/plain": [
       "5401"
      ]
     },
     "execution_count": 114,
     "metadata": {},
     "output_type": "execute_result"
    }
   ],
   "source": [
    "data_births['PROVINCIE WEST VLAANDEREN'].max()  # give the value of the most birthdays in PROVINCIE WEST VLAANDEREN"
   ]
  },
  {
   "cell_type": "markdown",
   "metadata": {
    "colab_type": "text",
    "id": "5IqzhlYLrn1X"
   },
   "source": [
    "You can determing the n largest or smallest rows by using the `nlargest()` or `nsmallest` command. See [here](https://pandas.pydata.org/pandas-docs/stable/reference/api/pandas.DataFrame.nlargest.html) for more information. We will illustrate this by some examples."
   ]
  },
  {
   "cell_type": "code",
   "execution_count": 115,
   "metadata": {
    "colab": {
     "base_uri": "https://localhost:8080/",
     "height": 413
    },
    "colab_type": "code",
    "id": "8OCLO2HhrBwO",
    "outputId": "5f04783e-6614-4d0f-a045-633fb9aa4f98"
   },
   "outputs": [
    {
     "data": {
      "text/html": [
       "<div>\n",
       "<style scoped>\n",
       "    .dataframe tbody tr th:only-of-type {\n",
       "        vertical-align: middle;\n",
       "    }\n",
       "\n",
       "    .dataframe tbody tr th {\n",
       "        vertical-align: top;\n",
       "    }\n",
       "\n",
       "    .dataframe thead th {\n",
       "        text-align: right;\n",
       "    }\n",
       "</style>\n",
       "<table border=\"1\" class=\"dataframe\">\n",
       "  <thead>\n",
       "    <tr style=\"text-align: right;\">\n",
       "      <th></th>\n",
       "      <th>DAY</th>\n",
       "      <th>MONTH</th>\n",
       "      <th>BELGIUM</th>\n",
       "      <th>VLAANDEREN</th>\n",
       "      <th>WALLONIE</th>\n",
       "      <th>BRUSSELS</th>\n",
       "      <th>PROVINCIE ANTWERPEN</th>\n",
       "      <th>PROVINCIE VLAAMS BRABANT</th>\n",
       "      <th>PROVINCE BRABANT WALLON</th>\n",
       "      <th>PROVINCIE WEST VLAANDEREN</th>\n",
       "      <th>PROVINCIE OOST VLAANDEREN</th>\n",
       "      <th>PROVINCE HAINAUT</th>\n",
       "      <th>PROVINCE LIEGE</th>\n",
       "      <th>PROVINCIE LIMBURG</th>\n",
       "      <th>PROVINCE LUXEMBOURG</th>\n",
       "      <th>PROVINCE NAMUR</th>\n",
       "    </tr>\n",
       "  </thead>\n",
       "  <tbody>\n",
       "    <tr>\n",
       "      <th>182</th>\n",
       "      <td>1</td>\n",
       "      <td>7</td>\n",
       "      <td>90133</td>\n",
       "      <td>42339</td>\n",
       "      <td>19537</td>\n",
       "      <td>28257</td>\n",
       "      <td>17796</td>\n",
       "      <td>6484</td>\n",
       "      <td>2007</td>\n",
       "      <td>5401</td>\n",
       "      <td>8065</td>\n",
       "      <td>6974</td>\n",
       "      <td>7695</td>\n",
       "      <td>4593</td>\n",
       "      <td>969</td>\n",
       "      <td>1892</td>\n",
       "    </tr>\n",
       "    <tr>\n",
       "      <th>0</th>\n",
       "      <td>1</td>\n",
       "      <td>1</td>\n",
       "      <td>52193</td>\n",
       "      <td>27148</td>\n",
       "      <td>14183</td>\n",
       "      <td>10862</td>\n",
       "      <td>8960</td>\n",
       "      <td>4116</td>\n",
       "      <td>1235</td>\n",
       "      <td>4159</td>\n",
       "      <td>5987</td>\n",
       "      <td>5037</td>\n",
       "      <td>5633</td>\n",
       "      <td>3926</td>\n",
       "      <td>845</td>\n",
       "      <td>1433</td>\n",
       "    </tr>\n",
       "    <tr>\n",
       "      <th>125</th>\n",
       "      <td>5</td>\n",
       "      <td>5</td>\n",
       "      <td>34129</td>\n",
       "      <td>19875</td>\n",
       "      <td>10547</td>\n",
       "      <td>3707</td>\n",
       "      <td>5630</td>\n",
       "      <td>3380</td>\n",
       "      <td>1193</td>\n",
       "      <td>3702</td>\n",
       "      <td>4483</td>\n",
       "      <td>3864</td>\n",
       "      <td>3285</td>\n",
       "      <td>2680</td>\n",
       "      <td>780</td>\n",
       "      <td>1425</td>\n",
       "    </tr>\n",
       "    <tr>\n",
       "      <th>60</th>\n",
       "      <td>1</td>\n",
       "      <td>3</td>\n",
       "      <td>34832</td>\n",
       "      <td>20094</td>\n",
       "      <td>10770</td>\n",
       "      <td>3968</td>\n",
       "      <td>5698</td>\n",
       "      <td>3405</td>\n",
       "      <td>1150</td>\n",
       "      <td>3605</td>\n",
       "      <td>4611</td>\n",
       "      <td>3963</td>\n",
       "      <td>3390</td>\n",
       "      <td>2775</td>\n",
       "      <td>858</td>\n",
       "      <td>1409</td>\n",
       "    </tr>\n",
       "    <tr>\n",
       "      <th>135</th>\n",
       "      <td>15</td>\n",
       "      <td>5</td>\n",
       "      <td>33564</td>\n",
       "      <td>19376</td>\n",
       "      <td>10406</td>\n",
       "      <td>3782</td>\n",
       "      <td>5454</td>\n",
       "      <td>3385</td>\n",
       "      <td>1153</td>\n",
       "      <td>3548</td>\n",
       "      <td>4426</td>\n",
       "      <td>3785</td>\n",
       "      <td>3272</td>\n",
       "      <td>2563</td>\n",
       "      <td>802</td>\n",
       "      <td>1394</td>\n",
       "    </tr>\n",
       "    <tr>\n",
       "      <th>115</th>\n",
       "      <td>25</td>\n",
       "      <td>4</td>\n",
       "      <td>32902</td>\n",
       "      <td>19001</td>\n",
       "      <td>10428</td>\n",
       "      <td>3473</td>\n",
       "      <td>5243</td>\n",
       "      <td>3297</td>\n",
       "      <td>1167</td>\n",
       "      <td>3545</td>\n",
       "      <td>4405</td>\n",
       "      <td>3842</td>\n",
       "      <td>3128</td>\n",
       "      <td>2511</td>\n",
       "      <td>838</td>\n",
       "      <td>1453</td>\n",
       "    </tr>\n",
       "    <tr>\n",
       "      <th>130</th>\n",
       "      <td>10</td>\n",
       "      <td>5</td>\n",
       "      <td>34728</td>\n",
       "      <td>20017</td>\n",
       "      <td>10901</td>\n",
       "      <td>3810</td>\n",
       "      <td>5728</td>\n",
       "      <td>3442</td>\n",
       "      <td>1202</td>\n",
       "      <td>3532</td>\n",
       "      <td>4590</td>\n",
       "      <td>4004</td>\n",
       "      <td>3401</td>\n",
       "      <td>2725</td>\n",
       "      <td>818</td>\n",
       "      <td>1476</td>\n",
       "    </tr>\n",
       "    <tr>\n",
       "      <th>123</th>\n",
       "      <td>3</td>\n",
       "      <td>5</td>\n",
       "      <td>33055</td>\n",
       "      <td>19296</td>\n",
       "      <td>10422</td>\n",
       "      <td>3337</td>\n",
       "      <td>5506</td>\n",
       "      <td>3363</td>\n",
       "      <td>1142</td>\n",
       "      <td>3525</td>\n",
       "      <td>4249</td>\n",
       "      <td>3838</td>\n",
       "      <td>3181</td>\n",
       "      <td>2653</td>\n",
       "      <td>838</td>\n",
       "      <td>1423</td>\n",
       "    </tr>\n",
       "    <tr>\n",
       "      <th>118</th>\n",
       "      <td>28</td>\n",
       "      <td>4</td>\n",
       "      <td>32263</td>\n",
       "      <td>18995</td>\n",
       "      <td>10084</td>\n",
       "      <td>3184</td>\n",
       "      <td>5268</td>\n",
       "      <td>3390</td>\n",
       "      <td>1142</td>\n",
       "      <td>3521</td>\n",
       "      <td>4352</td>\n",
       "      <td>3659</td>\n",
       "      <td>3075</td>\n",
       "      <td>2464</td>\n",
       "      <td>806</td>\n",
       "      <td>1402</td>\n",
       "    </tr>\n",
       "    <tr>\n",
       "      <th>88</th>\n",
       "      <td>29</td>\n",
       "      <td>3</td>\n",
       "      <td>31306</td>\n",
       "      <td>18354</td>\n",
       "      <td>9881</td>\n",
       "      <td>3071</td>\n",
       "      <td>5022</td>\n",
       "      <td>3192</td>\n",
       "      <td>1097</td>\n",
       "      <td>3520</td>\n",
       "      <td>4192</td>\n",
       "      <td>3654</td>\n",
       "      <td>3027</td>\n",
       "      <td>2428</td>\n",
       "      <td>783</td>\n",
       "      <td>1320</td>\n",
       "    </tr>\n",
       "  </tbody>\n",
       "</table>\n",
       "</div>"
      ],
      "text/plain": [
       "     DAY  MONTH  BELGIUM  VLAANDEREN  WALLONIE  BRUSSELS  PROVINCIE ANTWERPEN  \\\n",
       "182    1      7    90133       42339     19537     28257                17796   \n",
       "0      1      1    52193       27148     14183     10862                 8960   \n",
       "125    5      5    34129       19875     10547      3707                 5630   \n",
       "60     1      3    34832       20094     10770      3968                 5698   \n",
       "135   15      5    33564       19376     10406      3782                 5454   \n",
       "115   25      4    32902       19001     10428      3473                 5243   \n",
       "130   10      5    34728       20017     10901      3810                 5728   \n",
       "123    3      5    33055       19296     10422      3337                 5506   \n",
       "118   28      4    32263       18995     10084      3184                 5268   \n",
       "88    29      3    31306       18354      9881      3071                 5022   \n",
       "\n",
       "     PROVINCIE VLAAMS BRABANT  PROVINCE BRABANT WALLON  \\\n",
       "182                      6484                     2007   \n",
       "0                        4116                     1235   \n",
       "125                      3380                     1193   \n",
       "60                       3405                     1150   \n",
       "135                      3385                     1153   \n",
       "115                      3297                     1167   \n",
       "130                      3442                     1202   \n",
       "123                      3363                     1142   \n",
       "118                      3390                     1142   \n",
       "88                       3192                     1097   \n",
       "\n",
       "     PROVINCIE WEST VLAANDEREN  PROVINCIE OOST VLAANDEREN  PROVINCE HAINAUT  \\\n",
       "182                       5401                       8065              6974   \n",
       "0                         4159                       5987              5037   \n",
       "125                       3702                       4483              3864   \n",
       "60                        3605                       4611              3963   \n",
       "135                       3548                       4426              3785   \n",
       "115                       3545                       4405              3842   \n",
       "130                       3532                       4590              4004   \n",
       "123                       3525                       4249              3838   \n",
       "118                       3521                       4352              3659   \n",
       "88                        3520                       4192              3654   \n",
       "\n",
       "     PROVINCE LIEGE  PROVINCIE LIMBURG  PROVINCE LUXEMBOURG  PROVINCE NAMUR  \n",
       "182            7695               4593                  969            1892  \n",
       "0              5633               3926                  845            1433  \n",
       "125            3285               2680                  780            1425  \n",
       "60             3390               2775                  858            1409  \n",
       "135            3272               2563                  802            1394  \n",
       "115            3128               2511                  838            1453  \n",
       "130            3401               2725                  818            1476  \n",
       "123            3181               2653                  838            1423  \n",
       "118            3075               2464                  806            1402  \n",
       "88             3027               2428                  783            1320  "
      ]
     },
     "execution_count": 115,
     "metadata": {},
     "output_type": "execute_result"
    }
   ],
   "source": [
    "data_births.nlargest(10,['PROVINCIE WEST VLAANDEREN'])"
   ]
  },
  {
   "cell_type": "code",
   "execution_count": 116,
   "metadata": {
    "colab": {
     "base_uri": "https://localhost:8080/",
     "height": 258
    },
    "colab_type": "code",
    "id": "KwqcmDcArd-M",
    "outputId": "52117901-a745-482c-dddf-77aea0b65900"
   },
   "outputs": [
    {
     "data": {
      "text/html": [
       "<div>\n",
       "<style scoped>\n",
       "    .dataframe tbody tr th:only-of-type {\n",
       "        vertical-align: middle;\n",
       "    }\n",
       "\n",
       "    .dataframe tbody tr th {\n",
       "        vertical-align: top;\n",
       "    }\n",
       "\n",
       "    .dataframe thead th {\n",
       "        text-align: right;\n",
       "    }\n",
       "</style>\n",
       "<table border=\"1\" class=\"dataframe\">\n",
       "  <thead>\n",
       "    <tr style=\"text-align: right;\">\n",
       "      <th></th>\n",
       "      <th>DAY</th>\n",
       "      <th>MONTH</th>\n",
       "      <th>BELGIUM</th>\n",
       "      <th>VLAANDEREN</th>\n",
       "      <th>WALLONIE</th>\n",
       "      <th>BRUSSELS</th>\n",
       "      <th>PROVINCIE ANTWERPEN</th>\n",
       "      <th>PROVINCIE VLAAMS BRABANT</th>\n",
       "      <th>PROVINCE BRABANT WALLON</th>\n",
       "      <th>PROVINCIE WEST VLAANDEREN</th>\n",
       "      <th>PROVINCIE OOST VLAANDEREN</th>\n",
       "      <th>PROVINCE HAINAUT</th>\n",
       "      <th>PROVINCE LIEGE</th>\n",
       "      <th>PROVINCIE LIMBURG</th>\n",
       "      <th>PROVINCE LUXEMBOURG</th>\n",
       "      <th>PROVINCE NAMUR</th>\n",
       "    </tr>\n",
       "  </thead>\n",
       "  <tbody>\n",
       "    <tr>\n",
       "      <th>59</th>\n",
       "      <td>29</td>\n",
       "      <td>2</td>\n",
       "      <td>7145</td>\n",
       "      <td>4078</td>\n",
       "      <td>2374</td>\n",
       "      <td>693</td>\n",
       "      <td>1172</td>\n",
       "      <td>732</td>\n",
       "      <td>242</td>\n",
       "      <td>756</td>\n",
       "      <td>958</td>\n",
       "      <td>908</td>\n",
       "      <td>721</td>\n",
       "      <td>460</td>\n",
       "      <td>172</td>\n",
       "      <td>331</td>\n",
       "    </tr>\n",
       "    <tr>\n",
       "      <th>305</th>\n",
       "      <td>1</td>\n",
       "      <td>11</td>\n",
       "      <td>25904</td>\n",
       "      <td>14745</td>\n",
       "      <td>8016</td>\n",
       "      <td>3143</td>\n",
       "      <td>4259</td>\n",
       "      <td>2582</td>\n",
       "      <td>894</td>\n",
       "      <td>2566</td>\n",
       "      <td>3332</td>\n",
       "      <td>2958</td>\n",
       "      <td>2483</td>\n",
       "      <td>2006</td>\n",
       "      <td>617</td>\n",
       "      <td>1064</td>\n",
       "    </tr>\n",
       "    <tr>\n",
       "      <th>359</th>\n",
       "      <td>25</td>\n",
       "      <td>12</td>\n",
       "      <td>26057</td>\n",
       "      <td>14958</td>\n",
       "      <td>7988</td>\n",
       "      <td>3111</td>\n",
       "      <td>4239</td>\n",
       "      <td>2644</td>\n",
       "      <td>838</td>\n",
       "      <td>2677</td>\n",
       "      <td>3404</td>\n",
       "      <td>2995</td>\n",
       "      <td>2496</td>\n",
       "      <td>1994</td>\n",
       "      <td>609</td>\n",
       "      <td>1050</td>\n",
       "    </tr>\n",
       "    <tr>\n",
       "      <th>315</th>\n",
       "      <td>11</td>\n",
       "      <td>11</td>\n",
       "      <td>26129</td>\n",
       "      <td>14767</td>\n",
       "      <td>8341</td>\n",
       "      <td>3021</td>\n",
       "      <td>4066</td>\n",
       "      <td>2719</td>\n",
       "      <td>959</td>\n",
       "      <td>2664</td>\n",
       "      <td>3340</td>\n",
       "      <td>3064</td>\n",
       "      <td>2516</td>\n",
       "      <td>1978</td>\n",
       "      <td>668</td>\n",
       "      <td>1134</td>\n",
       "    </tr>\n",
       "    <tr>\n",
       "      <th>306</th>\n",
       "      <td>2</td>\n",
       "      <td>11</td>\n",
       "      <td>27585</td>\n",
       "      <td>15699</td>\n",
       "      <td>8844</td>\n",
       "      <td>3042</td>\n",
       "      <td>4489</td>\n",
       "      <td>2729</td>\n",
       "      <td>982</td>\n",
       "      <td>2774</td>\n",
       "      <td>3571</td>\n",
       "      <td>3404</td>\n",
       "      <td>2646</td>\n",
       "      <td>2136</td>\n",
       "      <td>690</td>\n",
       "      <td>1122</td>\n",
       "    </tr>\n",
       "  </tbody>\n",
       "</table>\n",
       "</div>"
      ],
      "text/plain": [
       "     DAY  MONTH  BELGIUM  VLAANDEREN  WALLONIE  BRUSSELS  PROVINCIE ANTWERPEN  \\\n",
       "59    29      2     7145        4078      2374       693                 1172   \n",
       "305    1     11    25904       14745      8016      3143                 4259   \n",
       "359   25     12    26057       14958      7988      3111                 4239   \n",
       "315   11     11    26129       14767      8341      3021                 4066   \n",
       "306    2     11    27585       15699      8844      3042                 4489   \n",
       "\n",
       "     PROVINCIE VLAAMS BRABANT  PROVINCE BRABANT WALLON  \\\n",
       "59                        732                      242   \n",
       "305                      2582                      894   \n",
       "359                      2644                      838   \n",
       "315                      2719                      959   \n",
       "306                      2729                      982   \n",
       "\n",
       "     PROVINCIE WEST VLAANDEREN  PROVINCIE OOST VLAANDEREN  PROVINCE HAINAUT  \\\n",
       "59                         756                        958               908   \n",
       "305                       2566                       3332              2958   \n",
       "359                       2677                       3404              2995   \n",
       "315                       2664                       3340              3064   \n",
       "306                       2774                       3571              3404   \n",
       "\n",
       "     PROVINCE LIEGE  PROVINCIE LIMBURG  PROVINCE LUXEMBOURG  PROVINCE NAMUR  \n",
       "59              721                460                  172             331  \n",
       "305            2483               2006                  617            1064  \n",
       "359            2496               1994                  609            1050  \n",
       "315            2516               1978                  668            1134  \n",
       "306            2646               2136                  690            1122  "
      ]
     },
     "execution_count": 116,
     "metadata": {},
     "output_type": "execute_result"
    }
   ],
   "source": [
    "data_births.nsmallest(5,['PROVINCIE VLAAMS BRABANT'])"
   ]
  },
  {
   "cell_type": "markdown",
   "metadata": {
    "colab_type": "text",
    "id": "o6Pd2n7es3OS"
   },
   "source": [
    "Data can also be plotted very easy by the `plot` command"
   ]
  },
  {
   "cell_type": "code",
   "execution_count": 117,
   "metadata": {
    "colab": {
     "base_uri": "https://localhost:8080/",
     "height": 282
    },
    "colab_type": "code",
    "id": "3lYgham-sj03",
    "outputId": "175c0d81-7bda-4057-cc5f-e16c37bbef75"
   },
   "outputs": [
    {
     "data": {
      "text/plain": [
       "<matplotlib.legend.Legend at 0x115c319e8>"
      ]
     },
     "execution_count": 117,
     "metadata": {},
     "output_type": "execute_result"
    },
    {
     "data": {
      "image/png": "[encoded data removed]",
      "text/plain": [
       "<Figure size 432x288 with 1 Axes>"
      ]
     },
     "metadata": {
      "needs_background": "light"
     },
     "output_type": "display_data"
    }
   ],
   "source": [
    "data_births[['VLAANDEREN','PROVINCIE WEST VLAANDEREN']].plot()\n",
    "plt.legend()"
   ]
  },
  {
   "cell_type": "markdown",
   "metadata": {
    "colab_type": "text",
    "id": "oHLvOquqxkM2"
   },
   "source": [
    "Scatter plots can help you to find correlations in the data.  We can see if a more popular birthdate is also the case in different provinces."
   ]
  },
  {
   "cell_type": "code",
   "execution_count": 118,
   "metadata": {
    "colab": {
     "base_uri": "https://localhost:8080/",
     "height": 286
    },
    "colab_type": "code",
    "id": "j-QujeN2xxKo",
    "outputId": "e0da7b02-1625-42a2-ae42-d4e5899eed12"
   },
   "outputs": [
    {
     "data": {
      "text/plain": [
       "<matplotlib.axes._subplots.AxesSubplot at 0x115d1b2e8>"
      ]
     },
     "execution_count": 118,
     "metadata": {},
     "output_type": "execute_result"
    },
    {
     "data": {
      "text/plain": [
       "<Figure size 432x288 with 0 Axes>"
      ]
     },
     "metadata": {},
     "output_type": "display_data"
    },
    {
     "data": {
      "image/png": "[encoded data removed]",
      "text/plain": [
       "<Figure size 432x288 with 2 Axes>"
      ]
     },
     "metadata": {
      "needs_background": "light"
     },
     "output_type": "display_data"
    }
   ],
   "source": [
    "plt.figure()\n",
    "diff = data_births['PROVINCIE WEST VLAANDEREN'] - data_births['PROVINCIE OOST VLAANDEREN']\n",
    "data_births.plot.scatter(x='PROVINCIE WEST VLAANDEREN',y='PROVINCIE OOST VLAANDEREN',c=diff,colormap='viridis' )\n"
   ]
  },
  {
   "cell_type": "markdown",
   "metadata": {
    "colab_type": "text",
    "id": "RuM1m-R938o5"
   },
   "source": [
    "Finally, you can group the data based on a value in a columns. Here it makes sense to group the number of persons with a birthday in a month.  In West-Vlaanderen there is a preference to have birthday in the spring and summer (Januari has a bias due to administrative reasons).  "
   ]
  },
  {
   "cell_type": "code",
   "execution_count": 119,
   "metadata": {
    "colab": {
     "base_uri": "https://localhost:8080/",
     "height": 506
    },
    "colab_type": "code",
    "id": "mJz_uRrWtBOM",
    "outputId": "157653fd-35f8-44f3-f190-ce3c9f166b31"
   },
   "outputs": [
    {
     "data": {
      "text/html": [
       "<div>\n",
       "<style scoped>\n",
       "    .dataframe tbody tr th:only-of-type {\n",
       "        vertical-align: middle;\n",
       "    }\n",
       "\n",
       "    .dataframe tbody tr th {\n",
       "        vertical-align: top;\n",
       "    }\n",
       "\n",
       "    .dataframe thead th {\n",
       "        text-align: right;\n",
       "    }\n",
       "</style>\n",
       "<table border=\"1\" class=\"dataframe\">\n",
       "  <thead>\n",
       "    <tr style=\"text-align: right;\">\n",
       "      <th></th>\n",
       "      <th>DAY</th>\n",
       "      <th>BELGIUM</th>\n",
       "      <th>VLAANDEREN</th>\n",
       "      <th>WALLONIE</th>\n",
       "      <th>BRUSSELS</th>\n",
       "      <th>PROVINCIE ANTWERPEN</th>\n",
       "      <th>PROVINCIE VLAAMS BRABANT</th>\n",
       "      <th>PROVINCE BRABANT WALLON</th>\n",
       "      <th>PROVINCIE WEST VLAANDEREN</th>\n",
       "      <th>PROVINCIE OOST VLAANDEREN</th>\n",
       "      <th>PROVINCE HAINAUT</th>\n",
       "      <th>PROVINCE LIEGE</th>\n",
       "      <th>PROVINCIE LIMBURG</th>\n",
       "      <th>PROVINCE LUXEMBOURG</th>\n",
       "      <th>PROVINCE NAMUR</th>\n",
       "    </tr>\n",
       "    <tr>\n",
       "      <th>MONTH</th>\n",
       "      <th></th>\n",
       "      <th></th>\n",
       "      <th></th>\n",
       "      <th></th>\n",
       "      <th></th>\n",
       "      <th></th>\n",
       "      <th></th>\n",
       "      <th></th>\n",
       "      <th></th>\n",
       "      <th></th>\n",
       "      <th></th>\n",
       "      <th></th>\n",
       "      <th></th>\n",
       "      <th></th>\n",
       "      <th></th>\n",
       "    </tr>\n",
       "  </thead>\n",
       "  <tbody>\n",
       "    <tr>\n",
       "      <th>1</th>\n",
       "      <td>496</td>\n",
       "      <td>977457</td>\n",
       "      <td>560522</td>\n",
       "      <td>309549</td>\n",
       "      <td>107386</td>\n",
       "      <td>158161</td>\n",
       "      <td>96128</td>\n",
       "      <td>33604</td>\n",
       "      <td>101675</td>\n",
       "      <td>129343</td>\n",
       "      <td>114778</td>\n",
       "      <td>95371</td>\n",
       "      <td>75215</td>\n",
       "      <td>23887</td>\n",
       "      <td>41909</td>\n",
       "    </tr>\n",
       "    <tr>\n",
       "      <th>2</th>\n",
       "      <td>435</td>\n",
       "      <td>889382</td>\n",
       "      <td>517213</td>\n",
       "      <td>281287</td>\n",
       "      <td>90882</td>\n",
       "      <td>144806</td>\n",
       "      <td>89397</td>\n",
       "      <td>30892</td>\n",
       "      <td>94400</td>\n",
       "      <td>119474</td>\n",
       "      <td>104250</td>\n",
       "      <td>85909</td>\n",
       "      <td>69136</td>\n",
       "      <td>22104</td>\n",
       "      <td>38132</td>\n",
       "    </tr>\n",
       "    <tr>\n",
       "      <th>3</th>\n",
       "      <td>496</td>\n",
       "      <td>982187</td>\n",
       "      <td>572748</td>\n",
       "      <td>309046</td>\n",
       "      <td>100393</td>\n",
       "      <td>160028</td>\n",
       "      <td>98869</td>\n",
       "      <td>34446</td>\n",
       "      <td>105639</td>\n",
       "      <td>131744</td>\n",
       "      <td>113825</td>\n",
       "      <td>94329</td>\n",
       "      <td>76468</td>\n",
       "      <td>24468</td>\n",
       "      <td>41978</td>\n",
       "    </tr>\n",
       "    <tr>\n",
       "      <th>4</th>\n",
       "      <td>465</td>\n",
       "      <td>955991</td>\n",
       "      <td>557342</td>\n",
       "      <td>300522</td>\n",
       "      <td>98127</td>\n",
       "      <td>154738</td>\n",
       "      <td>96686</td>\n",
       "      <td>33925</td>\n",
       "      <td>102241</td>\n",
       "      <td>128971</td>\n",
       "      <td>110544</td>\n",
       "      <td>91493</td>\n",
       "      <td>74706</td>\n",
       "      <td>23767</td>\n",
       "      <td>40793</td>\n",
       "    </tr>\n",
       "    <tr>\n",
       "      <th>5</th>\n",
       "      <td>496</td>\n",
       "      <td>991683</td>\n",
       "      <td>577437</td>\n",
       "      <td>311109</td>\n",
       "      <td>103137</td>\n",
       "      <td>162646</td>\n",
       "      <td>100771</td>\n",
       "      <td>35560</td>\n",
       "      <td>104602</td>\n",
       "      <td>132509</td>\n",
       "      <td>114005</td>\n",
       "      <td>94579</td>\n",
       "      <td>76909</td>\n",
       "      <td>24516</td>\n",
       "      <td>42449</td>\n",
       "    </tr>\n",
       "    <tr>\n",
       "      <th>6</th>\n",
       "      <td>465</td>\n",
       "      <td>954908</td>\n",
       "      <td>552745</td>\n",
       "      <td>303149</td>\n",
       "      <td>99014</td>\n",
       "      <td>155413</td>\n",
       "      <td>96457</td>\n",
       "      <td>34261</td>\n",
       "      <td>100218</td>\n",
       "      <td>126987</td>\n",
       "      <td>111444</td>\n",
       "      <td>92001</td>\n",
       "      <td>73670</td>\n",
       "      <td>23953</td>\n",
       "      <td>41490</td>\n",
       "    </tr>\n",
       "    <tr>\n",
       "      <th>7</th>\n",
       "      <td>496</td>\n",
       "      <td>1040556</td>\n",
       "      <td>591897</td>\n",
       "      <td>322859</td>\n",
       "      <td>125800</td>\n",
       "      <td>172242</td>\n",
       "      <td>102622</td>\n",
       "      <td>36134</td>\n",
       "      <td>105757</td>\n",
       "      <td>133733</td>\n",
       "      <td>118455</td>\n",
       "      <td>99668</td>\n",
       "      <td>77543</td>\n",
       "      <td>24905</td>\n",
       "      <td>43697</td>\n",
       "    </tr>\n",
       "    <tr>\n",
       "      <th>8</th>\n",
       "      <td>496</td>\n",
       "      <td>960391</td>\n",
       "      <td>554497</td>\n",
       "      <td>307001</td>\n",
       "      <td>98893</td>\n",
       "      <td>156348</td>\n",
       "      <td>96775</td>\n",
       "      <td>33603</td>\n",
       "      <td>100267</td>\n",
       "      <td>126888</td>\n",
       "      <td>114069</td>\n",
       "      <td>93556</td>\n",
       "      <td>74219</td>\n",
       "      <td>24063</td>\n",
       "      <td>41710</td>\n",
       "    </tr>\n",
       "    <tr>\n",
       "      <th>9</th>\n",
       "      <td>465</td>\n",
       "      <td>942796</td>\n",
       "      <td>542355</td>\n",
       "      <td>303566</td>\n",
       "      <td>96875</td>\n",
       "      <td>152283</td>\n",
       "      <td>95037</td>\n",
       "      <td>33630</td>\n",
       "      <td>97936</td>\n",
       "      <td>125109</td>\n",
       "      <td>112754</td>\n",
       "      <td>91924</td>\n",
       "      <td>71990</td>\n",
       "      <td>23838</td>\n",
       "      <td>41420</td>\n",
       "    </tr>\n",
       "    <tr>\n",
       "      <th>10</th>\n",
       "      <td>496</td>\n",
       "      <td>937761</td>\n",
       "      <td>536779</td>\n",
       "      <td>302524</td>\n",
       "      <td>98458</td>\n",
       "      <td>151502</td>\n",
       "      <td>93992</td>\n",
       "      <td>33255</td>\n",
       "      <td>97339</td>\n",
       "      <td>123459</td>\n",
       "      <td>112353</td>\n",
       "      <td>92254</td>\n",
       "      <td>70487</td>\n",
       "      <td>23299</td>\n",
       "      <td>41363</td>\n",
       "    </tr>\n",
       "    <tr>\n",
       "      <th>11</th>\n",
       "      <td>465</td>\n",
       "      <td>875339</td>\n",
       "      <td>499187</td>\n",
       "      <td>284015</td>\n",
       "      <td>92137</td>\n",
       "      <td>140951</td>\n",
       "      <td>87522</td>\n",
       "      <td>31453</td>\n",
       "      <td>90470</td>\n",
       "      <td>114914</td>\n",
       "      <td>105898</td>\n",
       "      <td>85506</td>\n",
       "      <td>65330</td>\n",
       "      <td>22417</td>\n",
       "      <td>38741</td>\n",
       "    </tr>\n",
       "    <tr>\n",
       "      <th>12</th>\n",
       "      <td>496</td>\n",
       "      <td>922955</td>\n",
       "      <td>526347</td>\n",
       "      <td>299168</td>\n",
       "      <td>97440</td>\n",
       "      <td>148868</td>\n",
       "      <td>91919</td>\n",
       "      <td>32836</td>\n",
       "      <td>95252</td>\n",
       "      <td>121933</td>\n",
       "      <td>111866</td>\n",
       "      <td>90402</td>\n",
       "      <td>68375</td>\n",
       "      <td>23421</td>\n",
       "      <td>40643</td>\n",
       "    </tr>\n",
       "  </tbody>\n",
       "</table>\n",
       "</div>"
      ],
      "text/plain": [
       "       DAY  BELGIUM  VLAANDEREN  WALLONIE  BRUSSELS  PROVINCIE ANTWERPEN  \\\n",
       "MONTH                                                                      \n",
       "1      496   977457      560522    309549    107386               158161   \n",
       "2      435   889382      517213    281287     90882               144806   \n",
       "3      496   982187      572748    309046    100393               160028   \n",
       "4      465   955991      557342    300522     98127               154738   \n",
       "5      496   991683      577437    311109    103137               162646   \n",
       "6      465   954908      552745    303149     99014               155413   \n",
       "7      496  1040556      591897    322859    125800               172242   \n",
       "8      496   960391      554497    307001     98893               156348   \n",
       "9      465   942796      542355    303566     96875               152283   \n",
       "10     496   937761      536779    302524     98458               151502   \n",
       "11     465   875339      499187    284015     92137               140951   \n",
       "12     496   922955      526347    299168     97440               148868   \n",
       "\n",
       "       PROVINCIE VLAAMS BRABANT  PROVINCE BRABANT WALLON  \\\n",
       "MONTH                                                      \n",
       "1                         96128                    33604   \n",
       "2                         89397                    30892   \n",
       "3                         98869                    34446   \n",
       "4                         96686                    33925   \n",
       "5                        100771                    35560   \n",
       "6                         96457                    34261   \n",
       "7                        102622                    36134   \n",
       "8                         96775                    33603   \n",
       "9                         95037                    33630   \n",
       "10                        93992                    33255   \n",
       "11                        87522                    31453   \n",
       "12                        91919                    32836   \n",
       "\n",
       "       PROVINCIE WEST VLAANDEREN  PROVINCIE OOST VLAANDEREN  PROVINCE HAINAUT  \\\n",
       "MONTH                                                                           \n",
       "1                         101675                     129343            114778   \n",
       "2                          94400                     119474            104250   \n",
       "3                         105639                     131744            113825   \n",
       "4                         102241                     128971            110544   \n",
       "5                         104602                     132509            114005   \n",
       "6                         100218                     126987            111444   \n",
       "7                         105757                     133733            118455   \n",
       "8                         100267                     126888            114069   \n",
       "9                          97936                     125109            112754   \n",
       "10                         97339                     123459            112353   \n",
       "11                         90470                     114914            105898   \n",
       "12                         95252                     121933            111866   \n",
       "\n",
       "       PROVINCE LIEGE  PROVINCIE LIMBURG  PROVINCE LUXEMBOURG  PROVINCE NAMUR  \n",
       "MONTH                                                                          \n",
       "1               95371              75215                23887           41909  \n",
       "2               85909              69136                22104           38132  \n",
       "3               94329              76468                24468           41978  \n",
       "4               91493              74706                23767           40793  \n",
       "5               94579              76909                24516           42449  \n",
       "6               92001              73670                23953           41490  \n",
       "7               99668              77543                24905           43697  \n",
       "8               93556              74219                24063           41710  \n",
       "9               91924              71990                23838           41420  \n",
       "10              92254              70487                23299           41363  \n",
       "11              85506              65330                22417           38741  \n",
       "12              90402              68375                23421           40643  "
      ]
     },
     "execution_count": 119,
     "metadata": {},
     "output_type": "execute_result"
    }
   ],
   "source": [
    "data_births.groupby('MONTH').sum()"
   ]
  },
  {
   "cell_type": "markdown",
   "metadata": {},
   "source": [
    "I hope you found this minitutorial very usefull.  "
   ]
  }
 ],
 "metadata": {
  "colab": {
   "collapsed_sections": [
    "8dsAhMMsW8y9",
    "61RNOFYo7LEJ",
    "pyyeV0DG_2DD",
    "hjbJZo_JbJAz",
    "xuW04oCSfwNN",
    "WWe0YsUihnoi"
   ],
   "name": "Numpy",
   "provenance": [],
   "toc_visible": true
  },
  "kernelspec": {
   "display_name": "Python 3",
   "language": "python",
   "name": "python3"
  },
  "language_info": {
   "codemirror_mode": {
    "name": "ipython",
    "version": 3
   },
   "file_extension": ".py",
   "mimetype": "text/x-python",
   "name": "python",
   "nbconvert_exporter": "python",
   "pygments_lexer": "ipython3",
   "version": "3.7.3"
  }
 },
 "nbformat": 4,
 "nbformat_minor": 1
}
